{
 "cells": [
  {
   "cell_type": "markdown",
   "id": "2cd8ebb4",
   "metadata": {},
   "source": [
    "# 第四章 列表与数组"
   ]
  },
  {
   "cell_type": "code",
   "execution_count": 1,
   "id": "922aeb7b",
   "metadata": {},
   "outputs": [
    {
     "name": "stdout",
     "output_type": "stream",
     "text": [
      "[['林冲', 98], ['关胜', 97]]\n"
     ]
    }
   ],
   "source": [
    "g1 = [\"林冲\", 98]\n",
    "g2 = [\"关胜\", 97]\n",
    "groups = [g1, g2]\n",
    "print(groups) # [['林冲', 98], ['关胜', 96]]"
   ]
  },
  {
   "cell_type": "code",
   "execution_count": 2,
   "id": "fdeae5b0",
   "metadata": {
    "scrolled": true
   },
   "outputs": [
    {
     "name": "stdout",
     "output_type": "stream",
     "text": [
      "呼延灼\n",
      "呼延灼\n"
     ]
    }
   ],
   "source": [
    "names = [\"林冲\", \"关胜\",\"董平\",\"呼延灼\"]\n",
    "print(names[3])# 呼延灼\n",
    "print(names[-1]) # 呼延灼"
   ]
  },
  {
   "cell_type": "code",
   "execution_count": 3,
   "id": "cfe74165",
   "metadata": {},
   "outputs": [
    {
     "name": "stdout",
     "output_type": "stream",
     "text": [
      "请输入整数月份6\n",
      "It's June.\n"
     ]
    }
   ],
   "source": [
    "# 例4-1 根据输入的数字，输出对应的月份信息\n",
    "monthes=[\"January\",\"February\",\"March\",\"April\",\"May\",\"June\",\"July\",\"August\",\"September\",\"October\",\"November\",\"December\"]\n",
    "m=int(input(\"请输入整数月份\"))\n",
    "n= m-1\n",
    "print(\"It's {}.\".format(monthes[n]))"
   ]
  },
  {
   "cell_type": "code",
   "execution_count": 11,
   "id": "9ae4f3fc",
   "metadata": {},
   "outputs": [
    {
     "name": "stdout",
     "output_type": "stream",
     "text": [
      "['林冲', '关胜', '董平', '呼延灼', '武松']\n"
     ]
    }
   ],
   "source": [
    "lst = [\"林冲\", \"关胜\",\"董平\",\"呼延灼\",\"秦明\"]\n",
    "lst[4] = \"武松\" # 列表值变为['林冲', '关胜', '董平', '呼延灼', '武松']\n",
    "print(lst)"
   ]
  },
  {
   "cell_type": "code",
   "execution_count": 9,
   "id": "89ae1da6",
   "metadata": {},
   "outputs": [
    {
     "name": "stdout",
     "output_type": "stream",
     "text": [
      "['卢俊义', '林冲', '关胜', '董平', '呼延灼', '秦明', '武松']\n"
     ]
    }
   ],
   "source": [
    "lst1 =  [\"林冲\", \"关胜\",\"董平\",\"呼延灼\",\"秦明\"]\n",
    "lst1.append(\"武松\") #  [\"林冲\", \"关胜\",\"董平\",\"呼延灼\",\"秦明\",\"武松\"]\n",
    "lst1.insert(0,\"卢俊义\") # ['卢俊义', '林冲', '关胜', '董平', '呼延灼', '秦明', '武松']\n",
    "print(lst1)"
   ]
  },
  {
   "cell_type": "code",
   "execution_count": null,
   "id": "180f1bae",
   "metadata": {},
   "outputs": [],
   "source": [
    "lst1.extend([\"鲁智深\"]) # ['卢俊义', '林冲', '关胜', '董平', '呼延灼', '秦明', '武松', '鲁智深']\n",
    "lst2 = [\"花荣\"] \n",
    "lst3 = lst1 + lst2 # ['卢俊义', '林冲', '关胜', '董平', '呼延灼', '秦明', '武松', '鲁智深', '花荣']\n",
    "print(lst3)"
   ]
  },
  {
   "cell_type": "code",
   "execution_count": null,
   "id": "a4151323",
   "metadata": {},
   "outputs": [],
   "source": [
    "lst =  [\"林冲\", \"关胜\",\"董平\",\"呼延灼\",\"秦明\"]\n",
    "lst.remove(\"林冲\") #['关胜', '董平', '呼延灼', '秦明']\n",
    "removed_element = lst.pop(0) #  ['董平', '呼延灼', '秦明']\n",
    "del lst[1] # ['董平', '秦明']"
   ]
  },
  {
   "cell_type": "code",
   "execution_count": null,
   "id": "e9617dfc",
   "metadata": {},
   "outputs": [],
   "source": [
    "lst =  [\"林冲\", \"关胜\",\"董平\",\"呼延灼\",\"秦明\"]\n",
    "del lst\n",
    "print(lst) #报错 name 'lst' is not defined"
   ]
  },
  {
   "cell_type": "code",
   "execution_count": 25,
   "id": "6cb390f5",
   "metadata": {},
   "outputs": [
    {
     "name": "stdout",
     "output_type": "stream",
     "text": [
      "['林冲', '关胜', '董平', '呼延灼', '武松']\n"
     ]
    }
   ],
   "source": [
    "lst =  [\"林冲\", \"关胜\",\"董平\",\"呼延灼\",\"秦明\"]\n",
    "lst[4] = \"武松\" # ['林冲', '关胜', '董平', '呼延灼', '武松']\n",
    "print(lst)"
   ]
  },
  {
   "cell_type": "code",
   "execution_count": 27,
   "id": "218cf1c2",
   "metadata": {},
   "outputs": [
    {
     "name": "stdout",
     "output_type": "stream",
     "text": [
      "两个列表的长度分别为0和5\n"
     ]
    }
   ],
   "source": [
    "empty_list = []\n",
    "lst =  [\"林冲\", \"关胜\",\"董平\",\"呼延灼\",\"秦明\"]\n",
    "# 输出两个列表的长度分别为0和5\n",
    "print(\"两个列表的长度分别为{}和{}\".format(len(empty_list), len(lst)))"
   ]
  },
  {
   "cell_type": "code",
   "execution_count": 29,
   "id": "8514f556",
   "metadata": {},
   "outputs": [
    {
     "name": "stdout",
     "output_type": "stream",
     "text": [
      "True\n",
      "False\n"
     ]
    }
   ],
   "source": [
    "lst = [\"林冲\", \"关胜\",\"董平\",\"呼延灼\",\"秦明\"]\n",
    "print(\"林冲\" in lst) #输出 True\n",
    "print(\"林冲\" not in lst) # 输出 False"
   ]
  },
  {
   "cell_type": "code",
   "execution_count": 28,
   "id": "c7ccf685",
   "metadata": {},
   "outputs": [
    {
     "data": {
      "text/plain": [
       "2"
      ]
     },
     "execution_count": 28,
     "metadata": {},
     "output_type": "execute_result"
    }
   ],
   "source": [
    "lst =  [\"林冲\", \"关胜\",\"董平\",\"呼延灼\",\"秦明\",\"林冲\"]\n",
    "lst.count(\"林冲\") # 输出2"
   ]
  },
  {
   "cell_type": "code",
   "execution_count": 31,
   "id": "d873de77",
   "metadata": {},
   "outputs": [
    {
     "data": {
      "text/plain": [
       "1"
      ]
     },
     "execution_count": 31,
     "metadata": {},
     "output_type": "execute_result"
    }
   ],
   "source": [
    "lst =  [\"林冲\", \"关胜\",\"董平\",\"呼延灼\",\"秦明\"]\n",
    "lst.index(\"关胜\") # 输出1"
   ]
  },
  {
   "cell_type": "code",
   "execution_count": 6,
   "id": "5affe2fb",
   "metadata": {},
   "outputs": [
    {
     "name": "stdout",
     "output_type": "stream",
     "text": [
      "林冲 是水泊梁山五虎将之一。\n",
      "关胜 是水泊梁山五虎将之一。\n",
      "董平 是水泊梁山五虎将之一。\n",
      "呼延灼 是水泊梁山五虎将之一。\n",
      "秦明 是水泊梁山五虎将之一。\n"
     ]
    }
   ],
   "source": [
    "lst =  [\"林冲\", \"关胜\",\"董平\",\"呼延灼\",\"秦明\"]\n",
    "for i in range(5):\n",
    "    print(\"{} 是水泊梁山五虎将之一\".format(lst[i]))"
   ]
  },
  {
   "cell_type": "code",
   "execution_count": 1,
   "id": "83391caa",
   "metadata": {},
   "outputs": [
    {
     "name": "stdout",
     "output_type": "stream",
     "text": [
      "林冲\n",
      "关胜\n",
      "董平\n",
      "呼延灼\n",
      "秦明\n"
     ]
    }
   ],
   "source": [
    "lst =  [\"林冲\", \"关胜\",\"董平\",\"呼延灼\",\"秦明\"]\n",
    "for item in lst:\n",
    "    print(item)"
   ]
  },
  {
   "cell_type": "code",
   "execution_count": 16,
   "id": "9a2106da",
   "metadata": {},
   "outputs": [
    {
     "name": "stdout",
     "output_type": "stream",
     "text": [
      "Index:0,Value:林冲\n",
      "Index:1,Value:关胜\n",
      "Index:2,Value:董平\n",
      "Index:3,Value:呼延灼\n",
      "Index:4,Value:秦明\n"
     ]
    }
   ],
   "source": [
    "lst =  [\"林冲\", \"关胜\",\"董平\",\"呼延灼\",\"秦明\"]\n",
    "for index, value in enumerate(lst):\n",
    "    print(\"Index:{},Value:{}\".format(index, value))"
   ]
  },
  {
   "cell_type": "code",
   "execution_count": 17,
   "id": "f24cb7c8",
   "metadata": {},
   "outputs": [
    {
     "name": "stdout",
     "output_type": "stream",
     "text": [
      "Index:2,Value:林冲\n",
      "Index:3,Value:关胜\n",
      "Index:4,Value:董平\n",
      "Index:5,Value:呼延灼\n",
      "Index:6,Value:秦明\n"
     ]
    }
   ],
   "source": [
    "lst =  [\"林冲\", \"关胜\",\"董平\",\"呼延灼\",\"秦明\"]\n",
    "for index, value in enumerate(lst,2):\n",
    "    print(\"Index:{},Value:{}\".format(index, value)) #输出整个列表的元素"
   ]
  },
  {
   "cell_type": "code",
   "execution_count": 18,
   "id": "8341d476",
   "metadata": {},
   "outputs": [
    {
     "name": "stdout",
     "output_type": "stream",
     "text": [
      "\n",
      "评价错误的是: 吴用\n"
     ]
    }
   ],
   "source": [
    "#ch4-1 \n",
    "heroes=['宋江','卢俊义','吴用','公孙胜']\n",
    "for x in heroes:\n",
    "    if (x!='宋江') + (x=='吴用') + (x=='公孙胜') + (x!='公孙胜')==3:\n",
    "        print(\"\\n评价错误的是:\",x)\n",
    "        break"
   ]
  },
  {
   "cell_type": "code",
   "execution_count": 19,
   "id": "de86e7df",
   "metadata": {},
   "outputs": [
    {
     "name": "stdout",
     "output_type": "stream",
     "text": [
      "[1, 1, 2, 3, 4, 5, 9]\n"
     ]
    }
   ],
   "source": [
    "my_list = [3, 1, 4, 1, 5, 9, 2]\n",
    "my_list.sort()\n",
    "print(my_list)  # 输出: [1, 1, 2, 3, 4, 5, 9]"
   ]
  },
  {
   "cell_type": "code",
   "execution_count": 25,
   "id": "11b4bd70",
   "metadata": {},
   "outputs": [
    {
     "data": {
      "text/plain": [
       "['秦明', '呼延灼', '董平', '关胜', '林冲']"
      ]
     },
     "execution_count": 25,
     "metadata": {},
     "output_type": "execute_result"
    }
   ],
   "source": [
    "lst =  [\"林冲\", \"关胜\",\"董平\",\"呼延灼\",\"秦明\"]\n",
    "lst[:5] # 输出['林冲', '关胜', '董平', '呼延灼', '秦明']\n",
    "lst[3:] # 输出['呼延灼', '秦明']\n",
    "lst[-1:1:-2] #输出 ['秦明', '董平']\n",
    "lst[::-1] #输出 ['秦明', '呼延灼', '董平', '关胜', '林冲']\n"
   ]
  },
  {
   "cell_type": "code",
   "execution_count": 27,
   "id": "a60fcda7",
   "metadata": {},
   "outputs": [
    {
     "data": {
      "text/plain": [
       "['林冲', '关胜', '董平', '呼延灼', '秦明', '宋江', '吴用', '公孙胜']"
      ]
     },
     "execution_count": 27,
     "metadata": {},
     "output_type": "execute_result"
    }
   ],
   "source": [
    "hereos1 = [\"林冲\", \"关胜\",\"董平\",\"呼延灼\",\"秦明\"]\n",
    "hereos2 = [\"宋江\", \"吴用\",\"公孙胜\"]\n",
    "hereos1 + hereos2 # 输出 ['林冲', '关胜', '董平', '呼延灼', '秦明', '宋江', '吴用', '公孙胜']"
   ]
  },
  {
   "cell_type": "code",
   "execution_count": 30,
   "id": "841df95b",
   "metadata": {},
   "outputs": [
    {
     "data": {
      "text/plain": [
       "['宋江', '吴用', '公孙胜', '林冲', '关胜', '董平', '呼延灼', '秦明']"
      ]
     },
     "execution_count": 30,
     "metadata": {},
     "output_type": "execute_result"
    }
   ],
   "source": [
    "hereos1 = [\"林冲\", \"关胜\",\"董平\",\"呼延灼\",\"秦明\"]\n",
    "hereos2 = [\"宋江\", \"吴用\",\"公孙胜\"]\n",
    "hereos2.extend(hereos1)\n",
    "hereos2 #输出 ['宋江', '吴用', '公孙胜', '林冲', '关胜', '董平', '呼延灼', '秦明']"
   ]
  },
  {
   "cell_type": "code",
   "execution_count": 31,
   "id": "d8ad4448",
   "metadata": {},
   "outputs": [
    {
     "data": {
      "text/plain": [
       "['宋江', '吴用', '公孙胜', '宋江', '吴用', '公孙胜', '宋江', '吴用', '公孙胜']"
      ]
     },
     "execution_count": 31,
     "metadata": {},
     "output_type": "execute_result"
    }
   ],
   "source": [
    "hereos2 = [\"宋江\", \"吴用\",\"公孙胜\"]\n",
    "hereos2 * 3 # 输出 ['宋江', '吴用', '公孙胜', '宋江', '吴用', '公孙胜', '宋江', '吴用', '公孙胜']"
   ]
  },
  {
   "cell_type": "code",
   "execution_count": 34,
   "id": "ed74cd8d",
   "metadata": {},
   "outputs": [
    {
     "data": {
      "text/plain": [
       "['林冲', '关胜', '董平', '呼延灼', '秦明']"
      ]
     },
     "execution_count": 34,
     "metadata": {},
     "output_type": "execute_result"
    }
   ],
   "source": [
    "lst =  [\"林冲\", \"关胜\",\"董平\",\"呼延灼\",\"秦明\"]\n",
    "lst_copy = lst\n",
    "lst_copy # 输出 ['林冲', '关胜', '董平', '呼延灼', '秦明']"
   ]
  },
  {
   "cell_type": "code",
   "execution_count": 35,
   "id": "bd133c2d",
   "metadata": {},
   "outputs": [
    {
     "data": {
      "text/plain": [
       "['林冲', '关胜', '董平', '呼延灼', '秦明']"
      ]
     },
     "execution_count": 35,
     "metadata": {},
     "output_type": "execute_result"
    }
   ],
   "source": [
    "lst =  [\"林冲\", \"关胜\",\"董平\",\"呼延灼\",\"秦明\"]\n",
    "lst_copy = lst[:]\n",
    "lst_copy # 输出 ['林冲', '关胜', '董平', '呼延灼', '秦明']"
   ]
  },
  {
   "cell_type": "code",
   "execution_count": 36,
   "id": "faf889b3",
   "metadata": {},
   "outputs": [
    {
     "data": {
      "text/plain": [
       "['林冲', '关胜', '董平', '呼延灼', '秦明']"
      ]
     },
     "execution_count": 36,
     "metadata": {},
     "output_type": "execute_result"
    }
   ],
   "source": [
    "lst =  [\"林冲\", \"关胜\",\"董平\",\"呼延灼\",\"秦明\"]\n",
    "lst_copy = lst.copy()\n",
    "lst_copy"
   ]
  },
  {
   "cell_type": "code",
   "execution_count": 42,
   "id": "827ce85f",
   "metadata": {},
   "outputs": [
    {
     "name": "stdout",
     "output_type": "stream",
     "text": [
      "[3, 2, 3, [4, 5, 6]]\n",
      "[1, 2, 3, [4, 5, 6]]\n"
     ]
    }
   ],
   "source": [
    "original_list = [1, 2, 3, [4, 5]]\n",
    "copied_list = original_list.copy()\n",
    "copied_list[0] = 3 # 列表修改\n",
    "copied_list[3].append(6) #列表修改\n",
    "print(copied_list)  # 输出: [3, 2, 3, [4, 5, 6]]\n",
    "print(original_list) # 输出: [1, 2, 3, [4, 5, 6]]"
   ]
  },
  {
   "cell_type": "code",
   "execution_count": 46,
   "id": "a97d34e5",
   "metadata": {},
   "outputs": [
    {
     "name": "stdout",
     "output_type": "stream",
     "text": [
      "Shallow copied list: [1, 2, 3, [4, 5, 6]]\n",
      "Original list: [1, 2, 3, [4, 5, 6]]\n",
      "Deep copied list: [1, 2, 3, [4, 5, 6, 7]]\n",
      "Original list: [1, 2, 3, [4, 5, 6]]\n"
     ]
    }
   ],
   "source": [
    "import copy\n",
    "\n",
    "# 创建一个包含可变对象的原始列表\n",
    "original_list = [1, 2, 3, [4, 5]]\n",
    "\n",
    "shallow_copied_list = copy.copy(original_list) # 使用浅拷贝\n",
    "shallow_copied_list[3].append(6) # 修改浅拷贝中的可变对象\n",
    "print(\"Shallow copied list:\", shallow_copied_list)  # 输出: [1, 2, 3, [4, 5, 6]]\n",
    "print(\"Original list:\", original_list) # 输出: [1, 2, 3, [4, 5, 6]]，原始列表也被修改\n",
    "\n",
    "deep_copied_list = copy.deepcopy(original_list) # 使用深拷贝\n",
    "deep_copied_list[3].append(7) # 修改深拷贝中的可变对象\n",
    "print(\"Deep copied list:\", deep_copied_list) # 输出: [1, 2, 3, [4, 5, 7]]\n",
    "print(\"Original list:\", original_list) # 输出: [1, 2, 3, [4, 5, 6]]，原始列表没有被修改"
   ]
  },
  {
   "cell_type": "code",
   "execution_count": 2,
   "id": "9d721297",
   "metadata": {},
   "outputs": [
    {
     "data": {
      "text/plain": [
       "list"
      ]
     },
     "execution_count": 2,
     "metadata": {},
     "output_type": "execute_result"
    }
   ],
   "source": [
    "lst =  [\"林冲\", \"关胜\",\"董平\",\"呼延灼\",\"秦明\"]\n",
    "lst.clear()\n",
    "type(lst) # 输出 list的类型"
   ]
  },
  {
   "cell_type": "code",
   "execution_count": 8,
   "id": "a7b9314e",
   "metadata": {},
   "outputs": [
    {
     "name": "stdout",
     "output_type": "stream",
     "text": [
      "('John', 'Doe', 'male', '25')\n",
      "('Micheal', 'Johnson', 'male', '29')\n"
     ]
    }
   ],
   "source": [
    "person = \"John\", \"Doe\", \"male\", \"25\"  #使用逗号将元素隔离开来生成元组\n",
    "print(person) # 输出 ('John', 'Doe', 'male', '25')\n",
    "person1 = (\"Micheal\", \"Johnson\", \"male\", \"29\")  #使用逗号将元素隔离开来生成元组\n",
    "print(person1) # 输出 ('Micheal', 'Johnson', 'male', '29')"
   ]
  },
  {
   "cell_type": "code",
   "execution_count": 9,
   "id": "b45c3f49",
   "metadata": {},
   "outputs": [
    {
     "name": "stdout",
     "output_type": "stream",
     "text": [
      "John Doe male 25\n"
     ]
    }
   ],
   "source": [
    "single_element_typle = (24,)  # 创建一个包含单个元素的元组需要在元素后面加上逗号\n",
    "person =(\"John\", \"Doe\", \"male\", \"25\")\n",
    "first_name, last_name, gender, age = person\n",
    "print(first_name, last_name, gender, age) # 输出：John, Doe, male, 25"
   ]
  },
  {
   "cell_type": "code",
   "execution_count": 6,
   "id": "e65b6128",
   "metadata": {},
   "outputs": [
    {
     "name": "stdout",
     "output_type": "stream",
     "text": [
      "('John', 'Doe', 'male', '25')\n",
      "('red', 'blue', 'yellow', ('John', 'Doe', 'male', '25'))\n",
      "yellow\n",
      "male\n",
      "John Doe male 25\n"
     ]
    }
   ],
   "source": [
    "person = 'John', 'Doe', 'male', '25' # 使用逗号将元素隔离开来生成元组\n",
    "print(person) # 输出：(‘John’, ‘Doe’, ‘male’, ’25’)\n",
    "color = ('red', 'blue', 'yellow', person)  # 一个元组可以作为另一个元组的元素，在不混淆语义的情况下圆括号不是必须的\n",
    "print(color) # 输出：(‘red’, ’blue’, ’yellow’, (‘John’, ‘Doe’, ‘male’, ’25’)) \n",
    "print(color[2]) # 输出：‘blue’\n",
    "print(color[-1][2])  # 可以采用多级索引获取信息，输出：‘male’\n",
    "single_element_typle = (24,)  # 创建一个包含单个元素的元组需要在元素后面加上逗号，否则会被视为括号运算符而非元组\n",
    "first_name, last_name, gender, age = person\n",
    "print(first_name, last_name, gender, age)\n",
    "# 输出：John, Doe, male, 25"
   ]
  },
  {
   "cell_type": "code",
   "execution_count": 11,
   "id": "7e303046",
   "metadata": {},
   "outputs": [
    {
     "data": {
      "text/plain": [
       "'豹子头'"
      ]
     },
     "execution_count": 11,
     "metadata": {},
     "output_type": "execute_result"
    }
   ],
   "source": [
    "group1 = (\"林冲\", \"豹子头\",98)\n",
    "group1[1] # 输出 '豹子头'"
   ]
  },
  {
   "cell_type": "code",
   "execution_count": 16,
   "id": "11b5d661",
   "metadata": {},
   "outputs": [
    {
     "data": {
      "text/plain": [
       "'豹子头'"
      ]
     },
     "execution_count": 16,
     "metadata": {},
     "output_type": "execute_result"
    }
   ],
   "source": [
    "group1 = [(\"林冲\", \"豹子头\",98), (\"秦明\", \"霹雳火\",96),(\"董平\", \"双枪将\",95)]\n",
    "group1[0] # 输出 ('林冲', '豹子头', 98)\n",
    "group1[0][1] #输出 '豹子头'"
   ]
  },
  {
   "cell_type": "code",
   "execution_count": 19,
   "id": "2a11bc02",
   "metadata": {},
   "outputs": [
    {
     "ename": "TypeError",
     "evalue": "'tuple' object does not support item assignment",
     "output_type": "error",
     "traceback": [
      "\u001b[1;31m---------------------------------------------------------------------------\u001b[0m",
      "\u001b[1;31mTypeError\u001b[0m                                 Traceback (most recent call last)",
      "Cell \u001b[1;32mIn[19], line 3\u001b[0m\n\u001b[0;32m      1\u001b[0m group1 \u001b[38;5;241m=\u001b[39m [(\u001b[38;5;124m\"\u001b[39m\u001b[38;5;124m林冲\u001b[39m\u001b[38;5;124m\"\u001b[39m, \u001b[38;5;124m\"\u001b[39m\u001b[38;5;124m豹子头\u001b[39m\u001b[38;5;124m\"\u001b[39m,\u001b[38;5;241m98\u001b[39m), (\u001b[38;5;124m\"\u001b[39m\u001b[38;5;124m秦明\u001b[39m\u001b[38;5;124m\"\u001b[39m, \u001b[38;5;124m\"\u001b[39m\u001b[38;5;124m霹雳火\u001b[39m\u001b[38;5;124m\"\u001b[39m,\u001b[38;5;241m96\u001b[39m),(\u001b[38;5;124m\"\u001b[39m\u001b[38;5;124m董平\u001b[39m\u001b[38;5;124m\"\u001b[39m, \u001b[38;5;124m\"\u001b[39m\u001b[38;5;124m双枪将\u001b[39m\u001b[38;5;124m\"\u001b[39m,\u001b[38;5;241m95\u001b[39m)]\n\u001b[0;32m      2\u001b[0m group1[\u001b[38;5;241m0\u001b[39m] \u001b[38;5;241m=\u001b[39m (\u001b[38;5;124m\"\u001b[39m\u001b[38;5;124m林冲\u001b[39m\u001b[38;5;124m\"\u001b[39m, \u001b[38;5;124m\"\u001b[39m\u001b[38;5;124m豹子头\u001b[39m\u001b[38;5;124m\"\u001b[39m,\u001b[38;5;241m97\u001b[39m) \u001b[38;5;66;03m# 结果 [('林冲', '豹子头', 97), ('秦明', '霹雳火', 96), ('董平', '双枪将', 95)]\u001b[39;00m\n\u001b[1;32m----> 3\u001b[0m group1[\u001b[38;5;241m0\u001b[39m][\u001b[38;5;241m2\u001b[39m]\u001b[38;5;241m=\u001b[39m \u001b[38;5;241m97\u001b[39m\n",
      "\u001b[1;31mTypeError\u001b[0m: 'tuple' object does not support item assignment"
     ]
    }
   ],
   "source": [
    "group1 = [(\"林冲\", \"豹子头\",98), (\"秦明\", \"霹雳火\",96),(\"董平\", \"双枪将\",95)]\n",
    "group1[0] = (\"林冲\", \"豹子头\",97) # 结果 [('林冲', '豹子头', 97), ('秦明', '霹雳火', 96), ('董平', '双枪将', 95)]\n",
    "group1[0][2]= 97 # TypeError: 'tuple' object does not support item assignment"
   ]
  },
  {
   "cell_type": "code",
   "execution_count": 23,
   "id": "9aaa3bdd",
   "metadata": {},
   "outputs": [
    {
     "name": "stdout",
     "output_type": "stream",
     "text": [
      "['林冲', '豹子头', 98]\n",
      "('林冲', '关胜', '董平', '呼延灼', '秦明')\n"
     ]
    }
   ],
   "source": [
    "group1 = (\"林冲\", \"豹子头\",98)\n",
    "lstgroup1 = list(group1) #将元组转换成列表 ['林冲', '豹子头', 98]\n",
    "lst = [\"林冲\", \"关胜\",\"董平\",\"呼延灼\",\"秦明\"]\n",
    "group1lst = tuple(lst) # 将列表转换成元组('林冲', '关胜', '董平', '呼延灼', '秦明')"
   ]
  },
  {
   "cell_type": "code",
   "execution_count": 26,
   "id": "7fb320ad",
   "metadata": {},
   "outputs": [
    {
     "data": {
      "text/plain": [
       "['H', 'e', 'l', 'l', 'o', ' ', 'W', 'o', 'r', 'l', 'd', '!']"
      ]
     },
     "execution_count": 26,
     "metadata": {},
     "output_type": "execute_result"
    }
   ],
   "source": [
    "my_string = \"Hello World!\"\n",
    "my_list = list(my_string) # 结果是['H', 'e', 'l', 'l', 'o', ' ', 'W', 'o', 'r', 'l', 'd', '!']"
   ]
  },
  {
   "cell_type": "code",
   "execution_count": 29,
   "id": "cf6918c9",
   "metadata": {},
   "outputs": [
    {
     "name": "stdout",
     "output_type": "stream",
     "text": [
      "['Hello', 'World!']\n",
      "['林冲', '关胜', '董平', '呼延灼', '秦明']\n"
     ]
    }
   ],
   "source": [
    "my_string = \"Hello World!\"\n",
    "my_list = my_string.split()\n",
    "print(my_list) # 输出 ['Hello', 'World!']\n",
    "my_string1 =  \"林冲,关胜,董平,呼延灼,秦明\"\n",
    "my_list1 = my_string1.split(',')\n",
    "print(my_list1) # 输出 ['林冲', '关胜', '董平', '呼延灼', '秦明']"
   ]
  },
  {
   "cell_type": "code",
   "execution_count": 30,
   "id": "7fe37724",
   "metadata": {},
   "outputs": [
    {
     "name": "stdout",
     "output_type": "stream",
     "text": [
      "['h', 'e', 'l', 'l', 'o']\n"
     ]
    }
   ],
   "source": [
    "my_string = \"hello\"\n",
    "my_list = [char for char in my_string]\n",
    "print(my_list)  # 输出：['h', 'e', 'l', 'l', 'o']"
   ]
  },
  {
   "cell_type": "code",
   "execution_count": 33,
   "id": "f4e62c65",
   "metadata": {},
   "outputs": [
    {
     "name": "stdout",
     "output_type": "stream",
     "text": [
      "['h', 'e', 'l', 'l', 'o', 'w', 'o', 'r', 'l', 'd', '！']\n"
     ]
    }
   ],
   "source": [
    "my_string = \"hello world！\"\n",
    "my_list = [char for char in my_string if char != \" \" and char !=\"!\"]\n",
    "print(my_list)  # 输出：['h', 'e', 'l', 'l', 'o', 'w', 'o', 'r', 'l', 'd']"
   ]
  },
  {
   "cell_type": "code",
   "execution_count": 34,
   "id": "8a3d32d2",
   "metadata": {},
   "outputs": [
    {
     "name": "stdout",
     "output_type": "stream",
     "text": [
      "请输入一个数值列表：\n",
      "[1,2,3,4,5,6,7]\n",
      "[1,2,3,4,5,6,7]\n"
     ]
    },
    {
     "data": {
      "text/plain": [
       "str"
      ]
     },
     "execution_count": 34,
     "metadata": {},
     "output_type": "execute_result"
    }
   ],
   "source": [
    "lstnum = input(\"请输入一个数值列表：\\n\") #输入 [1,2,3,4,5,6,7]\n",
    "print(lstnum) # 输出  [1,2,3,4,5,6,7]\n",
    "type(lstnum) # 输出类型 str"
   ]
  },
  {
   "cell_type": "code",
   "execution_count": 35,
   "id": "a41cb7f1",
   "metadata": {},
   "outputs": [
    {
     "name": "stdout",
     "output_type": "stream",
     "text": [
      "请输入一个数值列表：\n",
      "[1,2,3,4,5,6,7]\n",
      "[1, 2, 3, 4, 5, 6, 7]\n"
     ]
    },
    {
     "data": {
      "text/plain": [
       "list"
      ]
     },
     "execution_count": 35,
     "metadata": {},
     "output_type": "execute_result"
    }
   ],
   "source": [
    "lstnum = eval(input(\"请输入一个数值列表：\\n\")) #输入 [1,2,3,4,5,6,7]\n",
    "print(lstnum) # 输出  [1, 2, 3, 4, 5, 6, 7]\n",
    "type(lstnum) # 输出类型 list"
   ]
  },
  {
   "cell_type": "code",
   "execution_count": 39,
   "id": "f5c8a822",
   "metadata": {},
   "outputs": [
    {
     "name": "stdout",
     "output_type": "stream",
     "text": [
      "[1, 2, 3, 4, 5, 6, 7]\n"
     ]
    },
    {
     "data": {
      "text/plain": [
       "list"
      ]
     },
     "execution_count": 39,
     "metadata": {},
     "output_type": "execute_result"
    }
   ],
   "source": [
    "lstnum = list(range(1,8))\n",
    "print(lstnum) # 输出 [1, 2, 3, 4, 5, 6, 7]\n",
    "type(lstnum) # list"
   ]
  },
  {
   "cell_type": "code",
   "execution_count": 44,
   "id": "08444904",
   "metadata": {},
   "outputs": [
    {
     "name": "stdout",
     "output_type": "stream",
     "text": [
      "[98, 96]\n"
     ]
    }
   ],
   "source": [
    "lst = [[\"林冲\", \"豹子头\",98], [\"秦明\", \"霹雳火\",96],[\"董平\", \"双枪将\",95]]\n",
    "valuesofforce = [item[2] for item in lst if item[2] >= 96]\n",
    "print(valuesofforce) # 输出 [98, 96]"
   ]
  },
  {
   "cell_type": "code",
   "execution_count": 45,
   "id": "f9480c21",
   "metadata": {},
   "outputs": [
    {
     "name": "stdout",
     "output_type": "stream",
     "text": [
      "[1, 4, 9, 16, 25, 36, 49, 64, 81, 100]\n"
     ]
    }
   ],
   "source": [
    "lnum = [i**2 for i in range(1, 11)]\n",
    "print(lnum)"
   ]
  },
  {
   "cell_type": "code",
   "execution_count": 52,
   "id": "fa123025",
   "metadata": {},
   "outputs": [
    {
     "name": "stdout",
     "output_type": "stream",
     "text": [
      "请输入10个学生的分数列表:\n",
      "[98, 54, 68, 72, 61, 82, 91, 79, 86, 85]\n",
      "这次考试的最高分是98,最低分是54,平均分是77.6。\n",
      "\n"
     ]
    }
   ],
   "source": [
    "#ch4-2  输入10个学生的成绩，求最高分、最低分和平均分\n",
    "scores = eval(input(\"请输入10个学生的分数列表:\\n\"))\n",
    "maxscore = max(scores)\n",
    "minscore = min(scores)\n",
    "avescore = sum(scores)/len(scores)\n",
    "print(\"这次考试的最高分是{},最低分是{},平均分是{}。\\n\".\n",
    "      format(maxscore, minscore, avescore))"
   ]
  },
  {
   "cell_type": "code",
   "execution_count": 7,
   "id": "072fb05a",
   "metadata": {},
   "outputs": [
    {
     "name": "stdout",
     "output_type": "stream",
     "text": [
      "最高价: 127.3\n",
      "最低价: 118.6\n",
      "每天的涨幅: ['-1.300', '3.600', '-4.200', '5.400', '3.300', '-3.400']\n",
      "平均收盘价: 122.329\n"
     ]
    }
   ],
   "source": [
    "#ch4-3 使用元组和列表来存储和分析股票数据\n",
    "# 使用元组存储每天的股票收盘价数据\n",
    "stock_prices = (120.5, 119.2,122.8,118.6,124.0,127.3,123.9)\n",
    "# 找到最高价和最低价。\n",
    "max_price = max(stock_prices)\n",
    "min_price = min(stock_prices)\n",
    "# 将元组转换为列表\n",
    "stock_prices_list = list(stock_prices)\n",
    "# 计算每天的涨幅\n",
    "daily_returns = [stock_prices[i]- stock_prices[i-1] for i in range(1, len(stock_prices))]\n",
    "# 计算平均收盘价\n",
    "average_price=sum(stock_prices)/len(stock_prices)\n",
    "print(\"最高价:\",max_price)\n",
    "print(\"最低价:\",min_price)\n",
    "print(\"每天的涨幅:\", [\"{:.3f}\".format(item) for item in daily_returns])\n",
    "print(\"平均收盘价: {:.3f}\".format(average_price))"
   ]
  },
  {
   "cell_type": "code",
   "execution_count": null,
   "id": "60c1bd06",
   "metadata": {},
   "outputs": [],
   "source": []
  }
 ],
 "metadata": {
  "kernelspec": {
   "display_name": "Python 3 (ipykernel)",
   "language": "python",
   "name": "python3"
  },
  "language_info": {
   "codemirror_mode": {
    "name": "ipython",
    "version": 3
   },
   "file_extension": ".py",
   "mimetype": "text/x-python",
   "name": "python",
   "nbconvert_exporter": "python",
   "pygments_lexer": "ipython3",
   "version": "3.11.7"
  }
 },
 "nbformat": 4,
 "nbformat_minor": 5
}
