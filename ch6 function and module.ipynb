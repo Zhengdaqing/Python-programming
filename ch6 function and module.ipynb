{
 "cells": [
  {
   "cell_type": "markdown",
   "id": "b9ac4967",
   "metadata": {},
   "source": [
    "# 第六章 函数与模块"
   ]
  },
  {
   "cell_type": "markdown",
   "id": "4ea2ded5-559b-4e0a-8204-26aa8948ca76",
   "metadata": {},
   "source": [
    "print函数及其参数的用法"
   ]
  },
  {
   "cell_type": "code",
   "execution_count": 17,
   "id": "9eb42994",
   "metadata": {},
   "outputs": [
    {
     "name": "stdout",
     "output_type": "stream",
     "text": [
      "Hello, 林冲! You are 30 years old.\n"
     ]
    }
   ],
   "source": [
    "# ch6-1 按位置调用函数\n",
    "\n",
    "def greet(name, age):\n",
    "    print(f\"Hello, {name}! You are {age} years old.\")\n",
    "\n",
    "greet(\"林冲\", 30)  # 输出: Hello, 林冲! You are 30 years old."
   ]
  },
  {
   "cell_type": "code",
   "execution_count": 20,
   "id": "ecfd45b7",
   "metadata": {},
   "outputs": [
    {
     "name": "stdout",
     "output_type": "stream",
     "text": [
      "Hello, 林冲! You are 30 years old.\n",
      "Hello, 林冲! You are 40 years old.\n"
     ]
    }
   ],
   "source": [
    "# ch6-2 采用默认值参数调用函数\n",
    "\n",
    "def greet(name, age=30):\n",
    "    print(f\"Hello, {name}! You are {age} years old.\")\n",
    "\n",
    "greet(\"林冲\")  # Hello, 林冲! You are 30 years old.\n",
    "greet(\"林冲\", 40)  # 输出: Hello, 林冲! You are 40 years old."
   ]
  },
  {
   "cell_type": "code",
   "execution_count": 25,
   "id": "46d8d288",
   "metadata": {},
   "outputs": [
    {
     "name": "stdout",
     "output_type": "stream",
     "text": [
      "Hello, 林冲! You are 30 years old, and you are 梁山好汉.\n",
      "Hello, 林冲! You are 40 years old, and you are 梁山好汉.\n",
      "Hello, 林冲! You are 40 years old, and you are 豹子头.\n"
     ]
    }
   ],
   "source": [
    "# ch6-3 采用多个默认值参数调用函数\n",
    "\n",
    "def greet(name, age=30, nickname = \"梁山好汉\" ):\n",
    "    print(f\"Hello, {name}! You are {age} years old, and you are {nickname}.\")\n",
    "\n",
    "greet(\"林冲\")  # 输出: Hello, 林冲! You are 30 years old, and you are 梁山好汉.\n",
    "greet(\"林冲\", 40)  # 输出: Hello, 林冲! You are 40 years old, and you are 梁山好汉.\n",
    "greet(\"林冲\", 40, \"豹子头\")  # 输出: Hello, 林冲! You are 40 years old, and you are 豹子头."
   ]
  },
  {
   "cell_type": "code",
   "execution_count": 28,
   "id": "1795e3da",
   "metadata": {},
   "outputs": [
    {
     "name": "stdout",
     "output_type": "stream",
     "text": [
      "Hello, 林冲! You are 30 years old.\n"
     ]
    }
   ],
   "source": [
    "# ch6-4 采用名称传递参数的方式调用函数\n",
    "\n",
    "def greet(name, age):\n",
    "    print(f\"Hello, {name}! You are {age} years old.\")\n",
    "\n",
    "greet(age = 30, name=\"林冲\")  # 输出: Hello, 林冲! You are 30 years old."
   ]
  },
  {
   "cell_type": "code",
   "execution_count": 29,
   "id": "c07fc634",
   "metadata": {},
   "outputs": [
    {
     "data": {
      "text/plain": [
       "6"
      ]
     },
     "execution_count": 29,
     "metadata": {},
     "output_type": "execute_result"
    }
   ],
   "source": [
    "def sum_numbers(*args):\n",
    "    result = 0\n",
    "    for num in args:\n",
    "        result += num\n",
    "    return result\n",
    "\n",
    "sum_numbers(1, 2, 3) # 输出 6"
   ]
  },
  {
   "cell_type": "code",
   "execution_count": 30,
   "id": "62d84e40",
   "metadata": {},
   "outputs": [
    {
     "data": {
      "text/plain": [
       "6"
      ]
     },
     "execution_count": 30,
     "metadata": {},
     "output_type": "execute_result"
    }
   ],
   "source": [
    "def sun_numbers(**kargs):\n",
    "    result = 0 \n",
    "    for num in kargs.values():\n",
    "        result += num\n",
    "    return result\n",
    "\n",
    "sum_numbers(1, 2, 3) #输出 6"
   ]
  },
  {
   "cell_type": "code",
   "execution_count": 4,
   "id": "1d17a419",
   "metadata": {},
   "outputs": [
    {
     "name": "stdout",
     "output_type": "stream",
     "text": [
      "('宋江', 45, '山东郓城')\n"
     ]
    }
   ],
   "source": [
    "# ch6-5 函数返回多个值\n",
    "\n",
    "def get_info():\n",
    "    name = \"宋江\"\n",
    "    age = 45\n",
    "    city = \"山东郓城\"\n",
    "    return name, age, city\n",
    "\n",
    "result = get_info()\n",
    "print(result) # 输出：('宋江', 45, '山东郓城')"
   ]
  },
  {
   "cell_type": "code",
   "execution_count": 32,
   "id": "f053ca66",
   "metadata": {},
   "outputs": [
    {
     "name": "stdout",
     "output_type": "stream",
     "text": [
      "林冲 40 豹子头\n"
     ]
    }
   ],
   "source": [
    "# ch6-6 使用元组解包返回多个值\n",
    "\n",
    "def get_info():\n",
    "    name = \"林冲\"\n",
    "    age = 40\n",
    "    nickname = \"豹子头\"\n",
    "    return name, age, nickname\n",
    "\n",
    "name, age, nickname = get_info()\n",
    "print(name, age, nickname) # 输出 林冲 40 豹子头"
   ]
  },
  {
   "cell_type": "code",
   "execution_count": 4,
   "id": "f1688cdb",
   "metadata": {},
   "outputs": [
    {
     "name": "stdout",
     "output_type": "stream",
     "text": [
      "3\n"
     ]
    }
   ],
   "source": [
    "sum = lambda x,y: x+y\n",
    "print(sum(1,2))"
   ]
  },
  {
   "cell_type": "code",
   "execution_count": 10,
   "id": "584db05d",
   "metadata": {},
   "outputs": [
    {
     "name": "stdout",
     "output_type": "stream",
     "text": [
      "[2, 4, 6]\n",
      "[1, 4, 9, 16, 25, 36]\n"
     ]
    }
   ],
   "source": [
    "#ch 6-7 利用lambda函数对列表进行操作\n",
    "numbers = [1, 2, 3, 4, 5, 6]\n",
    "\n",
    "# 使用Lambda函数和filter()函数筛选出列表中的偶数\n",
    "even_numbers = list(filter(lambda x: x % 2 == 0, numbers))\n",
    "print(even_numbers)  # 输出: [2, 4, 6]\n",
    "\n",
    "# 使用Lambda函数和map()函数计算列表中数的平方\n",
    "squared = list(map(lambda x: x * x, numbers))\n",
    "print(squared)  # 输出: [1, 4, 9, 16, 25, 36]"
   ]
  },
  {
   "cell_type": "code",
   "execution_count": 12,
   "id": "09ce2e67",
   "metadata": {},
   "outputs": [
    {
     "name": "stdout",
     "output_type": "stream",
     "text": [
      "[{'name': 'Toy', 'grade': 95}, {'name': 'Tiyong', 'grade': 90}, {'name': 'Bob', 'grade': 85}]\n"
     ]
    }
   ],
   "source": [
    "# ch6-8 使用Lambda函数定义一个自定义的排序规则\n",
    "students = [ {'name': 'Tiyong', 'grade': 90},\n",
    "    {'name': 'Bob', 'grade': 85},\n",
    "    {'name': 'Toy', 'grade': 95}\n",
    "]\n",
    "\n",
    "# 按照学生的成绩进行排序\n",
    "sorted_students = sorted(students, key=lambda x: x['grade'], reverse=True)\n",
    "print(sorted_students)"
   ]
  },
  {
   "cell_type": "code",
   "execution_count": 13,
   "id": "a4f0df95",
   "metadata": {},
   "outputs": [
    {
     "name": "stdout",
     "output_type": "stream",
     "text": [
      "函数in_func()中：x=4,y=5,z=3\n",
      "函数out_func()中：x=4,y=2,z=3\n"
     ]
    }
   ],
   "source": [
    "# ch6-9 局部变量和全局变量\n",
    "def out_func(): # 定义外层函数\n",
    "    x, y, z = 1, 2, 3    # 声明外层变量\n",
    "    def in_func(): # 定义内层函数\n",
    "        nonlocal x # 声明使用外层变量\n",
    "        x = 4      # 给外层变量赋值\n",
    "        y = 5\n",
    "        print(\"函数in_func()中：x={0},y={1},z={2}\".format(x,y,z))\n",
    "    in_func()\n",
    "    print(\"函数out_func()中：x={0},y={1},z={2}\".format(x,y,z))\n",
    "\n",
    "out_func()"
   ]
  },
  {
   "cell_type": "code",
   "execution_count": 14,
   "id": "f7abb654-471c-45a4-b498-4a3791a0fa05",
   "metadata": {},
   "outputs": [
    {
     "name": "stdout",
     "output_type": "stream",
     "text": [
      "李逵 ['李逵', '宋江'] {'宋江': '及时雨'}\n",
      "李逵|宋江|吴用\n",
      "李逵,宋江,吴用,宋江的外号是及时雨\n",
      "\n",
      "宋江的外号是及时雨"
     ]
    }
   ],
   "source": [
    "# ch6-10 print输出一个或多个对象\n",
    "import time\n",
    "\n",
    "print(\"李逵\",[\"李逵\",\"宋江\"],{\"宋江\":\"及时雨\"})\n",
    "print(\"李逵\",\"宋江\",\"吴用\",sep=\"|\") # sep参数设置输出对象间隔\n",
    "for ele in ['李逵','宋江','吴用']: # end参数设置输出结尾符\n",
    "    print(ele,end=',')\n",
    "\n",
    "with open(\"./test.txt\",\"w+\") as f: # file参数设置写入对象\n",
    "    print(\"宋江的外号是及时雨\",file=f)\n",
    "\n",
    "with open(\"./test.txt\",\"r+\") as f:\n",
    "    print(f.read())\n",
    "\n",
    "# 实现一个逐个延迟输出效果(打字机效果)\n",
    "for char in \"宋江的外号是及时雨\":\n",
    "    print(char,flush=True,end=\"\") # flush参数设置输出缓存流\n",
    "    time.sleep(1)"
   ]
  },
  {
   "cell_type": "markdown",
   "id": "7b56f003-4109-47cd-bb60-fde00aa17415",
   "metadata": {},
   "source": [
    "type 和 isinstance 函数的用法"
   ]
  },
  {
   "cell_type": "code",
   "execution_count": 4,
   "id": "f39f4c81-31c2-4f08-b732-f5b6d6437b40",
   "metadata": {},
   "outputs": [
    {
     "name": "stdout",
     "output_type": "stream",
     "text": [
      "hero_name的类型： <class 'str'>\n",
      "hero_name 是否是 str 类型： True\n",
      "song_jiang 的类型： <class '__main__.Hero'>\n",
      "song_jiang 是否是 Hero 类的实例： True\n"
     ]
    }
   ],
   "source": [
    "# ch6-11 type 和 isinstance 函数的用法\n",
    "hero_name = \"吴用\"\n",
    "hero_name_type = type(hero_name)\n",
    "print(\"hero_name的类型：\", hero_name_type)\n",
    "# 使用 isinstance 函数检查对象类型\n",
    "is_name_str = isinstance(hero_name, str)\n",
    "print(\"hero_name 是否是 str 类型：\", is_name_str) \n",
    "# 检查自定义类的实例,这里类的语法无需掌握\n",
    "class Hero:\n",
    "    def __init__(self,name):\n",
    "        pass\n",
    "song_jiang = Hero(\"宋江\")\n",
    "# 使用 type 检查\n",
    "hero_type = type(song_jiang)\n",
    "print(\"song_jiang 的类型：\", hero_type)\n",
    "# 使用 isinstance 检查\n",
    "is_song_jiang_hero = isinstance(song_jiang, Hero)\n",
    "print(\"song_jiang 是否是 Hero 类的实例：\", is_song_jiang_hero)  # 输出: True"
   ]
  },
  {
   "cell_type": "markdown",
   "id": "0e57ebd1-bcd8-4e2e-9c04-27838582ce4d",
   "metadata": {},
   "source": [
    "特殊功能函数的具体用法"
   ]
  },
  {
   "cell_type": "code",
   "execution_count": 10,
   "id": "b94ebf45-562c-4d14-9f47-49db9ef70794",
   "metadata": {},
   "outputs": [
    {
     "name": "stdout",
     "output_type": "stream",
     "text": [
      "排名1的好汉是宋江\n",
      "排名2的好汉是卢俊义\n",
      "排名3的好汉是吴用\n",
      "排名4的好汉是公孙胜\n",
      "排名5的好汉是关胜\n",
      "{'宋江': '及时雨', '卢俊义': '玉麒麟', '吴用': '智多星', '公孙胜': '入云龙', '关胜': '大刀'}\n",
      "前五的好汉的外号为: ['及时雨', '玉麒麟', '智多星', '入云龙', '大刀']\n",
      "A的ASCII码值为: 65\n",
      "ASCII码为65对应的字符为: A\n"
     ]
    }
   ],
   "source": [
    "# ch6-12 特殊功能函数的用法\n",
    "heroes_top5 = [\n",
    "    \"宋江\",\"卢俊义\",\"吴用\",\"公孙胜\",\"关胜\"\n",
    "]\n",
    "hero_nickname = [\n",
    "    '及时雨', '玉麒麟', '智多星', '入云龙', '大刀'\n",
    "]\n",
    "# 使用enumberate遍历列表，同时索引与元素\n",
    "for idx,element in enumerate(heroes_top5):\n",
    "    print(f\"排名{idx+1}的好汉是{element}\")\n",
    "# 使用zip函数组合名称与外号列表,返回名称-外号映射字典\n",
    "hero_nickname_map = dict(zip(heroes_top5,hero_nickname))\n",
    "print(hero_nickname_map)\n",
    "# 使用map函数映射各个好汉的外号\n",
    "print(\"前五的好汉的外号为:\",list(map(lambda x:hero_nickname_map[x],heroes_top5)))\n",
    "# ord返回字符对应的ASCII码值\n",
    "print(\"A的ASCII码值为:\",ord('A'))\n",
    "# chr返回ASCII码值对应的字符\n",
    "print(\"ASCII码为65对应的字符为:\",chr(65))"
   ]
  },
  {
   "cell_type": "markdown",
   "id": "1d8909fc-e113-4706-a64d-d25228ed2585",
   "metadata": {},
   "source": [
    "input函数及其参数的用法"
   ]
  },
  {
   "cell_type": "code",
   "execution_count": 10,
   "id": "edd33219-06a6-4a6a-9e9f-51faa5aef647",
   "metadata": {},
   "outputs": [
    {
     "name": "stdin",
     "output_type": "stream",
     "text": [
      " 吴用\n"
     ]
    },
    {
     "name": "stdout",
     "output_type": "stream",
     "text": [
      "你输入的内容是： 吴用\n"
     ]
    },
    {
     "name": "stdin",
     "output_type": "stream",
     "text": [
      "请输入宋江的外号: 及时雨\n"
     ]
    },
    {
     "name": "stdout",
     "output_type": "stream",
     "text": [
      "宋江的外号是 及时雨\n"
     ]
    }
   ],
   "source": [
    "# 不带提示信息的input函数用法\n",
    "user_input = input()\n",
    "print(\"你输入的内容是：\",user_input)\n",
    "# 带提示信息的input函数用法\n",
    "hero_name = input(\"请输入宋江的外号:\")\n",
    "print(\"宋江的外号是\",hero_name)"
   ]
  },
  {
   "cell_type": "markdown",
   "id": "28f1503a-4940-4344-8d3a-af44bfcc02cd",
   "metadata": {},
   "source": [
    "len函数及其参数的用法"
   ]
  },
  {
   "cell_type": "code",
   "execution_count": 11,
   "id": "a71fbf6b-7bf9-45fc-ae78-c73f03dec09e",
   "metadata": {},
   "outputs": [
    {
     "name": "stdout",
     "output_type": "stream",
     "text": [
      "宋江 的名字长度为： 2\n",
      "梁山好汉列表长度为： 4\n"
     ]
    }
   ],
   "source": [
    "# len函数获取字符串长度\n",
    "hero_name = \"宋江\"\n",
    "print(hero_name,\"的名字长度为：\", len(hero_name))\n",
    "# len函数获取列表长度\n",
    "heroes = [\"宋江\", \"吴用\", \"公孙胜\", \"卢俊义\"]\n",
    "print(\"梁山好汉列表长度为：\", len(heroes))"
   ]
  },
  {
   "cell_type": "markdown",
   "id": "553b7e5e-5b46-441a-8b7a-4bd7b13b098f",
   "metadata": {},
   "source": [
    "range函数及其参数的用法"
   ]
  },
  {
   "cell_type": "code",
   "execution_count": 12,
   "id": "d58b0f11-9c28-4cd1-80a6-ef4d449d7ff7",
   "metadata": {},
   "outputs": [
    {
     "name": "stdout",
     "output_type": "stream",
     "text": [
      "宋江 卢俊义 吴用 公孙胜 关胜 \n",
      "公孙胜 关胜 林冲 \n",
      "吴用 关胜 秦明 花荣 "
     ]
    }
   ],
   "source": [
    "liangshan_heroes_top10 = [\n",
    "    \"宋江\",\"卢俊义\",\"吴用\",\"公孙胜\",\"关胜\",\n",
    "    \"林冲\",\"秦明\",\"呼延灼\",\"花荣\",\"柴进\"\n",
    "]\n",
    "# 最基本的range用法，生成从0到4的整数序列\n",
    "for i in range(5):\n",
    "    print(liangshan_heroes_top10[i], end=' ')\n",
    "print()  # 换行\n",
    "# 指定start和stop参数，生成从3到5的整数序列\n",
    "for i in range(3,6):\n",
    "    print(liangshan_heroes_top10[i], end=' ')\n",
    "print()  # 换行\n",
    "# 指定start、stop和step参数，生成从2开始，每次加2，直到小于10的整数序列\n",
    "for i in range(2, 10, 2):\n",
    "    print(liangshan_heroes_top10[i], end=' ')"
   ]
  },
  {
   "cell_type": "markdown",
   "id": "ef6b5547-4d69-4827-8571-71ecfbd0fccb",
   "metadata": {},
   "source": [
    "format函数及其参数的用法"
   ]
  },
  {
   "cell_type": "code",
   "execution_count": 13,
   "id": "e37a4581-23af-4633-9f56-84f96a58a805",
   "metadata": {},
   "outputs": [
    {
     "name": "stdout",
     "output_type": "stream",
     "text": [
      "梁山好汉宋江，外号及时雨\n",
      "梁山好汉宋江，外号及时雨\n",
      "梁山好汉排名第1位：宋江，外号及时雨\n",
      "梁山好汉前三位分别是：宋江，卢俊义和吴用\n",
      "宋江的年龄约为45.68岁\n",
      "梁山好汉信息：\n",
      "名字：  宋江，外号：  及时雨   ，排名：001，年龄：45.7岁\n"
     ]
    }
   ],
   "source": [
    "# 基本用法，使用位置参数替换占位符\n",
    "hero_name = \"宋江\"\n",
    "hero_nickname = \"及时雨\"\n",
    "formatted_string = \"梁山好汉{}，外号{}\".format(hero_name, hero_nickname)\n",
    "print(formatted_string)\n",
    "# 使用关键字参数替换占位符，参数顺序可以任意\n",
    "formatted_string_with_kwargs = \"梁山好汉{name}，外号{nickname}\".format(name=hero_name, nickname=hero_nickname)\n",
    "print(formatted_string_with_kwargs)\n",
    "# 使用位置参数和关键字参数混合替换占位符\n",
    "hero_rank = 1\n",
    "formatted_mixed = \"梁山好汉排名第{rank}位：{name}，外号{nickname}\".format(rank=hero_rank, name=hero_name, nickname=hero_nickname)\n",
    "print(formatted_mixed)\n",
    "# 使用索引来访问位置参数，适用于占位符较多的情况\n",
    "heroes = [\"宋江\", \"卢俊义\", \"吴用\"]\n",
    "formatted_with_index = \"梁山好汉前三位分别是：{0}，{1}和{2}\".format(*heroes)\n",
    "print(formatted_with_index)\n",
    "# 格式化数字，如控制浮点数的小数位数、整数的格式等\n",
    "hero_age = 45.6789\n",
    "formatted_number = \"宋江的年龄约为{:.2f}岁\".format(hero_age)\n",
    "print(formatted_number)\n",
    "# 综合模拟输出梁山好汉信息\n",
    "print(\"梁山好汉信息：\")\n",
    "hero_info = \"名字：{name:>4}，外号：{nickname:^8}，排名：{rank:0>3}，年龄：{age:.1f}岁\"\n",
    "print(hero_info.format(name=\"宋江\", nickname=\"及时雨\", rank=1, age=45.7))"
   ]
  },
  {
   "cell_type": "code",
   "execution_count": 15,
   "id": "e9c93f6b-cfb1-4d90-98a7-b27cf0318b5b",
   "metadata": {},
   "outputs": [
    {
     "name": "stdout",
     "output_type": "stream",
     "text": [
      "名字：  宋江，外号：  及时雨   ，排名：001，年龄：45.7岁\n",
      "名字：  宋江，外号：  及时雨   ，排名：001，年龄：45.7岁\n"
     ]
    }
   ],
   "source": [
    "hero_name = \"宋江\"\n",
    "hero_nickname = \"及时雨\"\n",
    "hero_rank = 1\n",
    "hero_age = 45.67\n",
    "# format函数格式化\n",
    "hero_info = \"名字：{name:>4}，外号：{nickname:^8}，排名：{rank:0>3}，年龄：{age:.1f}岁\"\n",
    "print(hero_info.format(name=hero_name, nickname=hero_nickname, rank=hero_rank, age=hero_age))\n",
    "# f-string格式化\n",
    "print(f\"名字：{hero_name:>4}，外号：{hero_nickname:^8}，排名：{hero_rank:0>3}，年龄：{hero_age:.1f}岁\")"
   ]
  },
  {
   "cell_type": "markdown",
   "id": "e69706f6-424e-4226-8dc4-f3a231fb8d98",
   "metadata": {},
   "source": [
    "sorted函数及其参数的用法"
   ]
  },
  {
   "cell_type": "code",
   "execution_count": 1,
   "id": "0fe08df8-08b7-4624-87c2-4388bac07957",
   "metadata": {},
   "outputs": [
    {
     "name": "stdout",
     "output_type": "stream",
     "text": [
      "升序排序后的列表： [1, 2, 5, 5, 6, 9]\n",
      "按长度升序排序后的字符串列表： ['key', 'date', 'apple', 'cherry']\n",
      "降序排序后的列表： [9, 6, 5, 5, 2, 1]\n",
      "按年龄升序排序后的梁山好汉列表： [('卢俊义', 38), ('宋江', 45), ('吴用', 50)]\n"
     ]
    }
   ],
   "source": [
    "# 基本用法，对列表进行升序排序\n",
    "numbers = [5, 2, 9, 1, 5, 6]\n",
    "sorted_numbers = sorted(numbers)\n",
    "print(\"升序排序后的列表：\", sorted_numbers)\n",
    "# 使用 key 参数，根据字符串长度对列表进行排序\n",
    "words = [\"apple\", \"key\", \"cherry\", \"date\"]\n",
    "sorted_words_by_length = sorted(words, key=len)\n",
    "print(\"按长度升序排序后的字符串列表：\", sorted_words_by_length)\n",
    "# 使用 reverse 参数，对列表进行降序排序\n",
    "sorted_numbers_desc = sorted(numbers, reverse=True)\n",
    "print(\"降序排序后的列表：\", sorted_numbers_desc)\n",
    "# 使用lambda函数自定义排序规则，例如根据好汉的年龄排序\n",
    "heroes = [(\"宋江\", 45), (\"卢俊义\", 38), (\"吴用\", 50)]\n",
    "sorted_heroes_by_age = sorted(heroes, key=lambda x: x[1])\n",
    "print(\"按年龄升序排序后的梁山好汉列表：\", sorted_heroes_by_age)"
   ]
  },
  {
   "cell_type": "markdown",
   "id": "c862deb5-63f5-4ecc-afa8-d34ab3210150",
   "metadata": {},
   "source": [
    "open函数及其参数的用法"
   ]
  },
  {
   "cell_type": "code",
   "execution_count": 2,
   "id": "af9371ce-285b-4ef6-9b05-2d9a86c3b931",
   "metadata": {},
   "outputs": [
    {
     "name": "stdout",
     "output_type": "stream",
     "text": [
      "文件内容：\n",
      "梁山好汉排名\n",
      "宋江\n",
      "卢俊义\n",
      "\n",
      "追加后的文件内容（逐行读取）：\n",
      "梁山好汉排名\n",
      "宋江\n",
      "卢俊义\n",
      "吴用\n"
     ]
    }
   ],
   "source": [
    "file_path = './test.txt'\n",
    "# 写入模式，创建或覆盖文件\n",
    "with open(file_path, 'w', encoding='utf-8') as file:\n",
    "    file.write(\"梁山好汉排名\\n\")\n",
    "    file.write(\"宋江\\n\")\n",
    "    file.write(\"卢俊义\\n\")\n",
    "# 读取模式，读取文件内容\n",
    "with open(file_path, 'r', encoding='utf-8') as file:\n",
    "    content = file.read()\n",
    "    print(\"文件内容：\")\n",
    "    print(content)\n",
    "# 追加模式，在文件末尾追加内容\n",
    "with open(file_path, 'a', encoding='utf-8') as file:\n",
    "    file.write(\"吴用\\n\")\n",
    "# 再次读取文件，查看追加后的内容\n",
    "with open(file_path, 'r', encoding='utf-8') as file:\n",
    "    content = file.readlines()\n",
    "    print(\"追加后的文件内容（逐行读取）：\")\n",
    "    for line in content:\n",
    "        print(line, end='')  # end='' 去掉默认的换行符，因为 line 本身已经包含换行"
   ]
  },
  {
   "cell_type": "markdown",
   "id": "57dc40b6-aba4-4f44-ac4e-df4ae0ce6dfd",
   "metadata": {},
   "source": [
    "常见数学函数的具体用法"
   ]
  },
  {
   "cell_type": "code",
   "execution_count": 12,
   "id": "2336234a-e48a-4b54-b943-4fa2e7e2b6c8",
   "metadata": {},
   "outputs": [
    {
     "name": "stdout",
     "output_type": "stream",
     "text": [
      "[1, 2, 3, 4, 5] 的总和是 15\n",
      "[1, 2, 3, 4, 5] 中的最大值是 5\n",
      "多个参数中的最大值是 8\n",
      "[1, 2, 3, 4, 5] 中的最小值是 1\n",
      "多个参数中的最小值是 2\n",
      "-10 的绝对值是 10\n",
      "2 的 0.5 次幂是 1.4142135623730951\n",
      "10 除以 3 的商是 3, 余数是 1\n",
      "3.14159 四舍五入到小数点后2位是 3.14\n"
     ]
    }
   ],
   "source": [
    "# sum函数返回求和\n",
    "numbers = [1, 2, 3, 4, 5]\n",
    "total = sum(numbers)\n",
    "print(f\"{numbers} 的总和是 {total}\")\n",
    "# max返回最大值\n",
    "max_value = max(numbers)\n",
    "print(f\"{numbers} 中的最大值是 {max_value}\")\n",
    "multiple_max = max(3, 7, 2, 8)\n",
    "print(f\"多个参数中的最大值是 {multiple_max}\")\n",
    "# min返回最小值\n",
    "min_value = min(numbers)\n",
    "print(f\"{numbers} 中的最小值是 {min_value}\")\n",
    "multiple_min = min(3, 7, 2, 8)\n",
    "print(f\"多个参数中的最小值是 {multiple_min}\")\n",
    "# abs返回绝对值\n",
    "absolute_value = abs(-10)\n",
    "print(f\"-10 的绝对值是 {absolute_value}\")\n",
    "# power返回x的y次幂\n",
    "result_power = pow(2, 0.5)\n",
    "print(f\"2 的 0.5 次幂是 {result_power}\")\n",
    "# divmod返回两个数相除的商和余数\n",
    "quotient, remainder = divmod(10, 3)\n",
    "print(f\"10 除以 3 的商是 {quotient}, 余数是 {remainder}\")\n",
    "# round返回四舍五入的结果\n",
    "rounded_value = round(3.14159, 2)\n",
    "print(f\"3.14159 四舍五入到小数点后2位是 {rounded_value}\")"
   ]
  },
  {
   "cell_type": "markdown",
   "id": "0fbf00d4-086b-4004-a659-99eaed313a6a",
   "metadata": {},
   "source": [
    "# 课后习题"
   ]
  },
  {
   "cell_type": "markdown",
   "id": "5db7439e-6693-4450-a63a-64ab597efcd2",
   "metadata": {},
   "source": [
    "习题1"
   ]
  },
  {
   "cell_type": "code",
   "execution_count": null,
   "id": "00d0f5fd-1006-419e-89ad-a1437acdbeca",
   "metadata": {},
   "outputs": [],
   "source": [
    "import math\n",
    "\n",
    "def calculate_circle_area(radius):\n",
    "    # 待补充内容\n",
    "    pass\n",
    "\n",
    "# 测试\n",
    "radius = 5\n",
    "area = calculate_circle_area(radius)\n",
    "print(f\"半径为 {radius} 的圆的面积是 {area}\")"
   ]
  },
  {
   "cell_type": "markdown",
   "id": "d4f6831c-bb08-4e65-a6f5-63b82ad79d45",
   "metadata": {},
   "source": [
    "习题2"
   ]
  },
  {
   "cell_type": "code",
   "execution_count": null,
   "id": "5807920b-9578-409f-9302-a5eb0ab85e6a",
   "metadata": {},
   "outputs": [],
   "source": [
    "def find_max_min(numbers):\n",
    "    # 待补充内容\n",
    "    pass\n",
    "\n",
    "# 测试\n",
    "numbers = [3, 1, 4, 1, 5, 9, 2, 6, 5]\n",
    "max_value, min_value = find_max_min(numbers)\n",
    "print(f\"列表中的最大值是 {max_value}，最小值是 {min_value}\")"
   ]
  },
  {
   "cell_type": "markdown",
   "id": "0a978ed3-8570-4904-80bc-736cec819dbb",
   "metadata": {},
   "source": [
    "习题3"
   ]
  },
  {
   "cell_type": "code",
   "execution_count": null,
   "id": "e0f455f3-bead-4496-a8f0-65ed333349d1",
   "metadata": {},
   "outputs": [],
   "source": [
    "def format_student_info(name, age, grade):\n",
    "    # 待补充内容\n",
    "    pass\n",
    "\n",
    "# 测试\n",
    "name = \"张三\"\n",
    "age = 20\n",
    "grade = \"大三\"\n",
    "info = format_student_info(name, age, grade)\n",
    "print(info)"
   ]
  },
  {
   "cell_type": "markdown",
   "id": "6a045e13-af1c-44eb-a1cb-a3d4b6f4ea2c",
   "metadata": {},
   "source": [
    "习题4"
   ]
  },
  {
   "cell_type": "code",
   "execution_count": null,
   "id": "68f00cd2-a44c-4d16-b189-5a341d4293e9",
   "metadata": {},
   "outputs": [],
   "source": [
    "def count_word_frequency(file_path):\n",
    "    # 待补充内容\n",
    "    pass\n",
    "\n",
    "# 测试\n",
    "file_path = 'test.txt'  # 假设 test.txt 是存在且包含文本内容的文件\n",
    "freq = count_word_frequency(file_path)\n",
    "for word, count in freq.items():\n",
    "    print(f\"{word}: {count}\")"
   ]
  },
  {
   "cell_type": "markdown",
   "id": "06af2a59-4adb-415a-9ec7-b956000098c9",
   "metadata": {},
   "source": [
    "习题5"
   ]
  },
  {
   "cell_type": "code",
   "execution_count": null,
   "id": "aa9fc572-be26-416b-b428-3abb6c4bb8d5",
   "metadata": {},
   "outputs": [],
   "source": [
    "def contains_palindrome(lst):\n",
    "    # 待补充内容\n",
    "    pass\n",
    "\n",
    "# 测试\n",
    "lst = ['a', 'b', 'c', 'b', 'a']\n",
    "result = contains_palindrome(lst)\n",
    "print(f\"列表中是否存在回文子串：{result}\")"
   ]
  }
 ],
 "metadata": {
  "kernelspec": {
   "display_name": "Python 3 (ipykernel)",
   "language": "python",
   "name": "python3"
  },
  "language_info": {
   "codemirror_mode": {
    "name": "ipython",
    "version": 3
   },
   "file_extension": ".py",
   "mimetype": "text/x-python",
   "name": "python",
   "nbconvert_exporter": "python",
   "pygments_lexer": "ipython3",
   "version": "3.11.7"
  }
 },
 "nbformat": 4,
 "nbformat_minor": 5
}
