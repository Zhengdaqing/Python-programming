{
 "cells": [
  {
   "cell_type": "markdown",
   "id": "0e9e9fa7-6ee5-400c-98a7-6a6139d81992",
   "metadata": {
    "jp-MarkdownHeadingCollapsed": true
   },
   "source": [
    "# 第五章 字典和集合"
   ]
  },
  {
   "cell_type": "code",
   "execution_count": 36,
   "id": "4f45fc64-bd49-405f-ae52-4296277fd0c5",
   "metadata": {},
   "outputs": [
    {
     "data": {
      "text/plain": [
       "98"
      ]
     },
     "execution_count": 36,
     "metadata": {},
     "output_type": "execute_result"
    }
   ],
   "source": [
    "# 使用列表结构模拟字典\n",
    "names = ['林冲','关胜','董平']\n",
    "scores = [98, 97, 95]\n",
    "# 假如你想要查找apple的释义\n",
    "# 用列表的实现方式如下\n",
    "scores[names.index('林冲')] # 输出 98"
   ]
  },
  {
   "cell_type": "code",
   "execution_count": 35,
   "id": "439c82da",
   "metadata": {},
   "outputs": [
    {
     "name": "stdout",
     "output_type": "stream",
     "text": [
      "{}\n",
      "{'林冲': 98, '关胜': 97, '董平': 95}\n"
     ]
    }
   ],
   "source": [
    "# 创建空字典\n",
    "empty_dict = {}\n",
    "print(empty_dict) # 输出 {}\n",
    "# 手动创建键值对\n",
    "translate_dict = {\"林冲\": 98,\"关胜\": 97,\"董平\": 95}\n",
    "print(translate_dict) #输出 {'林冲': 98, '关胜': 97, '董平': 95}\n"
   ]
  },
  {
   "cell_type": "code",
   "execution_count": 38,
   "id": "761ce5a7-25cd-45a8-af62-a1221b253540",
   "metadata": {},
   "outputs": [
    {
     "name": "stdout",
     "output_type": "stream",
     "text": [
      "{'name': '林冲', 'scores': 98, 'nikename': '豹子头'}\n",
      "{'林冲': 98, '关胜': 97, '董平': 95}\n"
     ]
    }
   ],
   "source": [
    "# 使用dict关键字参数创建字典\n",
    "persondic = dict(name=\"林冲\", scores=98, nikename=\"豹子头\")\n",
    "print(persondic) # 输出 {'name': '林冲', 'scores': 98, 'nikename': '豹子头'}\n",
    "\n",
    "# 使用映射对象（二元组列表）创建字典\n",
    "mapping = [(\"林冲\", 98), (\"关胜\", 97), (\"董平\", 95)]\n",
    "heros = dict(mapping)\n",
    "print(heros) # 输出 {'林冲': 98, '关胜': 97, '董平': 95}"
   ]
  },
  {
   "cell_type": "code",
   "execution_count": 4,
   "id": "a929c8a1-e77c-4feb-9dd6-b24e2232cd4c",
   "metadata": {},
   "outputs": [
    {
     "name": "stdout",
     "output_type": "stream",
     "text": [
      "{1: 1, 2: 4, 3: 9, 4: 16, 5: 25}\n",
      "{2: 4, 4: 16, 6: 36, 8: 64, 10: 100}\n"
     ]
    }
   ],
   "source": [
    "# 利用字典生成式创建列表，生成一个数字到其平方的字典\n",
    "squares_dict = {x: x**2 for x in range(1, 6)}\n",
    "print(squares_dict) # 输出 {1: 1, 2: 4, 3: 9, 4: 16, 5: 25}\n",
    "# 生成一个偶数到其平方的字典（只包含1到10内的偶数）\n",
    "even_squares_dict = {x: x**2 for x in range(1, 11) if x % 2 == 0}\n",
    "print(even_squares_dict) #输出 {2: 4, 4: 16, 6: 36, 8: 64, 10: 100}"
   ]
  },
  {
   "cell_type": "code",
   "execution_count": null,
   "id": "920074ac",
   "metadata": {},
   "outputs": [],
   "source": [
    "# 字典的访问\n",
    "student_scores = {'林冲': 98, '关胜': 97, '董平': 95}\n",
    "# 直接访问字典中的值\n",
    "print(\"林冲的战力值: {}\".format(student_scores[\"林冲\"])) # 林冲的战力值: 98\n",
    "print(\"武松的战力值: {}\".format(student_scores[\"武松\"])) # 报错 KeyError: '武松'"
   ]
  },
  {
   "cell_type": "code",
   "execution_count": 50,
   "id": "d85875e4",
   "metadata": {},
   "outputs": [
    {
     "name": "stdout",
     "output_type": "stream",
     "text": [
      "林冲的战力值: 98\n",
      "武松的战力值(default): 0\n",
      "武松的战力值：90\n",
      "鲁智深的战力值 (set default): 90\n",
      "梁山好汉武力值更新: {'林冲': 98, '关胜': 97, '董平': 95, '武松': 90, '鲁智深': 90}\n"
     ]
    }
   ],
   "source": [
    "# 使用get()方法和setdefault()方法访问字典\n",
    "hero_scores = {\"林冲\": 98, \"关胜\": 97, \"董平\": 95}\n",
    "\n",
    "print(\"林冲的战力值: {}\".format(hero_scores.get(\"林冲\"))) # 使用get方法访问字典中的值\n",
    "\n",
    "print(\"武松的战力值(default): {}\".format(hero_scores.get(\"武松\",0))) # 键武松不存在，返回默认值0\n",
    "\n",
    "# 使用setdefault方法访问字典中的值，键不存在时设置默认值\n",
    "Wusong_score = hero_scores.setdefault(\"武松\",90) # 武松存在，返回其默认值\n",
    "print(\"武松的战力值：{}\".format(Wusong_score)) # 输出 武松的战力值：90\n",
    "\n",
    "# 使用setdefault方法访问不存在的键，设置并返回默认值\n",
    "Luzhishen_score = hero_scores.setdefault(\"鲁智深\",90)  # 鲁智深不存在，设置默认值90\n",
    "print(\"鲁智深的战力值 (set default): {}\".format(Luzhishen_score)) # 输出 鲁智深的战力值 (set default): 90\n",
    "print(\"梁山好汉武力值更新: {}\".format(hero_scores)) # 查看更新后的字典"
   ]
  },
  {
   "cell_type": "code",
   "execution_count": 47,
   "id": "17a95a62-9a3e-43f6-a426-8f0a78933581",
   "metadata": {},
   "outputs": [
    {
     "name": "stdout",
     "output_type": "stream",
     "text": [
      "True\n",
      "False\n"
     ]
    }
   ],
   "source": [
    "# 使用关键字\n",
    "fruit_dict = {\"林冲\": 98, \"关胜\": 97, \"董平\": 95}\n",
    "\n",
    "is_linchong_in_dict = \"林冲\" in fruit_dict # 检查键 \"林冲\" 是否在字典中 \n",
    "print(is_linchong_in_dict)# 输出 True \n",
    "\n",
    "is_wusong_in_dict = \"武松\" in fruit_dict # 检查键 \"武松\" 是否在字典中\n",
    "print(is_wusong_in_dict) #输出 False"
   ]
  },
  {
   "cell_type": "code",
   "execution_count": 4,
   "id": "5a9796a9",
   "metadata": {},
   "outputs": [
    {
     "name": "stdout",
     "output_type": "stream",
     "text": [
      "{'apple': 5, 'banana': 3, 'orange': 1}\n"
     ]
    }
   ],
   "source": [
    "#5-1 用get方法统计英文单词出现的次数\n",
    "text = \"apple banana apple orange banana apple banana apple apple\"\n",
    "words = text.split()\n",
    "word_count = {}\n",
    "for word in words:\n",
    "    word_count[word] = word_count.get(word, 0)+1\n",
    "print(word_count)"
   ]
  },
  {
   "cell_type": "code",
   "execution_count": 46,
   "id": "303dba4d-acf0-4b6b-bc6b-d398f809ba38",
   "metadata": {},
   "outputs": [
    {
     "name": "stdout",
     "output_type": "stream",
     "text": [
      "{'关胜': 97, '董平': 95}\n",
      "97\n",
      "{'董平': 95}\n",
      "None\n",
      "('董平', 95)\n",
      "{}\n"
     ]
    }
   ],
   "source": [
    "# 创建一个示例字典\n",
    "example_dict = {'林冲': 98, '关胜': 97, '董平': 95}\n",
    "\n",
    "del example_dict['林冲'] # 使用 del 删除指定键的元素\n",
    "print(example_dict) # 输出 {'关胜': 97, '董平': 95}\n",
    "\n",
    "banana_value = example_dict.pop('关胜') # 使用pop方法删除指定元素，并返回其值\n",
    "print(banana_value) # 输出 97\n",
    "print(example_dict) # 输出 {'董平': 95}\n",
    "\n",
    "banana_value = example_dict.pop('关胜',None) # 使用pop删除指定元素，并设置默认值\n",
    "print(banana_value)  # 输出 None\n",
    "\n",
    "last_item = example_dict.popitem() # 使用 popitem 方法删除随机项\n",
    "print(last_item) # ('董平', 95)\n",
    "print(example_dict) # 输出 {}"
   ]
  },
  {
   "cell_type": "markdown",
   "id": "35dc1d9c",
   "metadata": {},
   "source": [
    "## 字典的整体操作"
   ]
  },
  {
   "cell_type": "code",
   "execution_count": 18,
   "id": "dcee84db-02bd-4d3e-b979-20e6accf1c65",
   "metadata": {},
   "outputs": [
    {
     "name": "stdout",
     "output_type": "stream",
     "text": [
      "Key: 林冲\n",
      "Key: 关胜\n",
      "Key: 董平\n"
     ]
    }
   ],
   "source": [
    "# 字典的键(keys)遍历\n",
    "example_dict = {\"林冲\": 98, \"关胜\": 97, \"董平\": 95}\n",
    "for key in example_dict.keys():\n",
    "    print(f\"Key: {key}\")"
   ]
  },
  {
   "cell_type": "code",
   "execution_count": 19,
   "id": "1e51d601",
   "metadata": {},
   "outputs": [
    {
     "name": "stdout",
     "output_type": "stream",
     "text": [
      "Value: 98\n",
      "Value: 97\n",
      "Value: 95\n"
     ]
    }
   ],
   "source": [
    "# 字典的值(values)遍历\n",
    "example_dict = {\"林冲\": 98, \"关胜\": 97, \"董平\": 95}\n",
    "for value in example_dict.values():\n",
    "    print(f\"Value: {value}\")"
   ]
  },
  {
   "cell_type": "code",
   "execution_count": 20,
   "id": "62aaec9e",
   "metadata": {},
   "outputs": [
    {
     "name": "stdout",
     "output_type": "stream",
     "text": [
      "Key: 林冲, Value: 98\n",
      "Key: 关胜, Value: 97\n",
      "Key: 董平, Value: 95\n"
     ]
    }
   ],
   "source": [
    "# 字典的键值对(items)遍历\n",
    "example_dict = {\"林冲\": 98, \"关胜\": 97, \"董平\": 95}\n",
    "for key, value in example_dict.items():\n",
    "    print(f\"Key: {key}, Value: {value}\")"
   ]
  },
  {
   "cell_type": "code",
   "execution_count": 52,
   "id": "17a4abd9",
   "metadata": {},
   "outputs": [
    {
     "name": "stdout",
     "output_type": "stream",
     "text": [
      "关胜 97\n",
      "林冲 98\n",
      "董平 95\n"
     ]
    }
   ],
   "source": [
    "#Ch5-2 按照人名对字典排序\n",
    "dic_heros = {\"林冲\": 98, \"关胜\": 97, \"董平\": 95}\n",
    "ls = sorted(dic_heros)\n",
    "\n",
    "for hero in ls:\n",
    "    print(hero, dic_heros[hero])"
   ]
  },
  {
   "cell_type": "code",
   "execution_count": 54,
   "id": "2d4e25bb",
   "metadata": {},
   "outputs": [
    {
     "name": "stdout",
     "output_type": "stream",
     "text": [
      "[('呼延灼', 94), ('董平', 95), ('关胜', 97), ('林冲', 98)]\n"
     ]
    }
   ],
   "source": [
    "#ch5-3 按照武力值从小到大输出4位梁山好汉和对应的武力值\n",
    "dic_heros = {\"呼延灼\": 94,\"林冲\": 98, \"关胜\": 97, \"董平\": 95}\n",
    "#使用列表生成器生成（武力值，人名）元组构成的列表\n",
    "lsVK=[(v,k) for k,v in dic_heros.items()]\n",
    "lsVK.sort() # 对新列表按照武力值排序\n",
    "lsKV=[(k,v) for v,k in lsVK] # 使用列表生成器生成（人名，武力值）元组构成的列表\n",
    "print(lsKV) # 输出 [('呼延灼', 94), ('董平', 95), ('关胜', 97), ('林冲', 98)]"
   ]
  },
  {
   "cell_type": "code",
   "execution_count": 55,
   "id": "37b7fc9c",
   "metadata": {},
   "outputs": [
    {
     "name": "stdout",
     "output_type": "stream",
     "text": [
      "{'林冲': 98, '关胜': 97, '董平': 95, '呼延灼': 94, '秦明': 92}\n"
     ]
    }
   ],
   "source": [
    "dic_heros = {\"林冲\": 98, \"关胜\": 97, \"董平\": 95}\n",
    "dic_others = {\"呼延灼\": 94,\"秦明\": 92}\n",
    "for k, v in dic_others.items():\n",
    "    dic_heros[k] = v\n",
    "print(dic_heros)"
   ]
  },
  {
   "cell_type": "code",
   "execution_count": 56,
   "id": "e30400ea",
   "metadata": {},
   "outputs": [
    {
     "name": "stdout",
     "output_type": "stream",
     "text": [
      "{'林冲': 98, '关胜': 97, '董平': 95, '呼延灼': 94, '秦明': 92}\n"
     ]
    }
   ],
   "source": [
    "dic_heros = {\"林冲\": 98, \"关胜\": 97, \"董平\": 95}\n",
    "dic_others = {\"呼延灼\": 94,\"秦明\": 92}\n",
    "dic_heros.update(dic_others)\n",
    "print(dic_heros)"
   ]
  },
  {
   "cell_type": "code",
   "execution_count": 58,
   "id": "65ce06ab",
   "metadata": {},
   "outputs": [
    {
     "name": "stdout",
     "output_type": "stream",
     "text": [
      "{'林冲': 98, '关胜': 97, '董平': 95, '呼延灼': 94, '秦明': 92}\n"
     ]
    }
   ],
   "source": [
    "dic_heros = {\"林冲\": 98, \"关胜\": 97, \"董平\": 95}\n",
    "dic_others = {\"呼延灼\": 94,\"秦明\": 92}\n",
    "ls = list(dic_heros.items()) + list(dic_others.items())\n",
    "dic_heros = dict(ls)\n",
    "print(dic_heros)"
   ]
  },
  {
   "cell_type": "code",
   "execution_count": 60,
   "id": "c7ed8ea2",
   "metadata": {},
   "outputs": [
    {
     "name": "stdout",
     "output_type": "stream",
     "text": [
      "{'林冲': 98, '关胜': 97, '董平': 95, '呼延灼': 94, '秦明': 92}\n"
     ]
    }
   ],
   "source": [
    "dic_heros = {\"林冲\": 98, \"关胜\": 97, \"董平\": 95}\n",
    "dic_others = {\"呼延灼\": 94,\"秦明\": 92}\n",
    "dic_heros = dict(dic_heros, **dic_others)\n",
    "print(dic_heros)"
   ]
  },
  {
   "cell_type": "code",
   "execution_count": 61,
   "id": "bba51348-d683-407e-98cd-310930072542",
   "metadata": {},
   "outputs": [
    {
     "name": "stdout",
     "output_type": "stream",
     "text": [
      "{'林冲': 98, '关胜': 97, '董平': 95}\n",
      "{}\n"
     ]
    }
   ],
   "source": [
    "# 创建一个包含一些键值对的字典\n",
    "my_dict = {\"林冲\": 98, \"关胜\": 97, \"董平\": 95}\n",
    "print(my_dict)\n",
    "# 使用 clear 方法清空字典\n",
    "my_dict.clear()\n",
    "print(my_dict)"
   ]
  },
  {
   "cell_type": "code",
   "execution_count": 62,
   "id": "7977c548",
   "metadata": {},
   "outputs": [],
   "source": [
    "dic_heros = {\"林冲\": 98, \"关胜\": 97, \"董平\": 95}\n",
    "del dic_heros\n",
    "# print(dic_heros)"
   ]
  },
  {
   "cell_type": "code",
   "execution_count": 10,
   "id": "9204febe-2071-4eb1-8319-1b64c1f7eb2c",
   "metadata": {},
   "outputs": [
    {
     "name": "stdout",
     "output_type": "stream",
     "text": [
      "Original dictionary: {'name': 'Alice', 'age': 30, 'hobbies': ['reading', 'swimming']}\n",
      "Copied dictionary: {'name': 'Alice', 'age': 30, 'hobbies': ['reading', 'swimming']}\n",
      "Modified original dictionary: {'name': 'Alice', 'age': 18, 'hobbies': ['reading', 'swimming', 'cooking']}\n",
      "Copied dictionary after modifying original: {'name': 'Alice', 'age': 30, 'hobbies': ['reading', 'swimming', 'cooking']}\n"
     ]
    }
   ],
   "source": [
    "# 创建一个包含一些键值对的字典\n",
    "original_dict = {\"name\": \"Alice\", \"age\": 30, \"hobbies\": [\"reading\", \"swimming\"]}\n",
    "print(\"Original dictionary:\", original_dict)\n",
    "# 使用 copy 方法创建字典的浅拷贝\n",
    "copied_dict = original_dict.copy()\n",
    "print(\"Copied dictionary:\", copied_dict)\n",
    "# 修改原字典中的不可变对象\n",
    "original_dict[\"age\"] = 18\n",
    "# 修改原字典中的可变对象\n",
    "original_dict[\"hobbies\"].append(\"cooking\")\n",
    "print(\"Modified original dictionary:\", original_dict)\n",
    "print(\"Copied dictionary after modifying original:\", copied_dict)"
   ]
  },
  {
   "cell_type": "code",
   "execution_count": 11,
   "id": "77bef04f-814c-48bc-b065-22f3af3e7278",
   "metadata": {},
   "outputs": [
    {
     "name": "stdout",
     "output_type": "stream",
     "text": [
      "Original dictionary: {'name': 'Alice', 'age': 30}\n",
      "Updated dictionary: {'name': 'Alice', 'age': 35, 'city': 'New York'}\n"
     ]
    }
   ],
   "source": [
    "# 创建一个包含一些键值对的字典\n",
    "original_dict = {\"name\": \"Alice\", \"age\": 30}\n",
    "print(\"Original dictionary:\", original_dict)\n",
    "# 创建一个新的字典，用于更新原字典\n",
    "update_dict = {\"age\": 35, \"city\": \"New York\"}\n",
    "# 使用 update 方法更新原字典\n",
    "original_dict.update(update_dict)\n",
    "print(\"Updated dictionary:\", original_dict)"
   ]
  },
  {
   "cell_type": "markdown",
   "id": "11d50496-2b2a-4f94-b1a7-49b5531c9233",
   "metadata": {
    "jp-MarkdownHeadingCollapsed": true
   },
   "source": [
    "## 集合创建与常见操作"
   ]
  },
  {
   "cell_type": "markdown",
   "id": "993afd12-c262-45ff-8a73-b16f7e1c3a5a",
   "metadata": {},
   "source": [
    "集合的创建"
   ]
  },
  {
   "cell_type": "code",
   "execution_count": 12,
   "id": "43cd8fb0-0f44-4603-9479-c36adaa51a35",
   "metadata": {},
   "outputs": [
    {
     "name": "stdout",
     "output_type": "stream",
     "text": [
      "the actual type of fake_set is <class 'dict'>\n",
      "Manually created set: {1, 2, 3, 4, 5}\n",
      "Set with duplicate elements: {1, 2, 3, 4, 5}\n"
     ]
    }
   ],
   "source": [
    "# 这里需要注意的是{}不代表空集合,代表的空字典\n",
    "fake_set = {}\n",
    "print(\"the actual type of fake_set is\",type(fake_set))\n",
    "# 手动创建一个集合\n",
    "my_set = {1, 2, 3, 4, 5}\n",
    "print(\"Manually created set:\", my_set)\n",
    "# 尝试创建包含重复元素的集合，重复元素会被自动去除\n",
    "another_set = {1, 2, 2, 3, 4, 4, 5}\n",
    "print(\"Set with duplicate elements:\", another_set)"
   ]
  },
  {
   "cell_type": "code",
   "execution_count": 13,
   "id": "d22b8088-7d95-466e-a24a-65965de4861c",
   "metadata": {},
   "outputs": [
    {
     "name": "stdout",
     "output_type": "stream",
     "text": [
      "empty_set: set() ,type: <class 'set'>\n",
      "Set created from list: {1, 2, 3, 4, 5}\n",
      "Set created from string: {'o', 'l', 'h', 'e'}\n"
     ]
    }
   ],
   "source": [
    "# 使用set创建空集合\n",
    "empty_set = set()\n",
    "print(\"empty_set:\",empty_set,',type:',type(empty_set))\n",
    "# 使用 set 函数将列表转换为集合\n",
    "my_list = [1, 2, 2, 3, 4, 4, 5]\n",
    "converted_set = set(my_list)\n",
    "print(\"Set created from list:\", converted_set)\n",
    "# 使用 set 函数将字符串转换为集合（字符串会被视为字符的序列）\n",
    "my_string = \"hello\"\n",
    "string_set = set(my_string)\n",
    "print(\"Set created from string:\", string_set)"
   ]
  },
  {
   "cell_type": "code",
   "execution_count": 32,
   "id": "16164aad",
   "metadata": {},
   "outputs": [
    {
     "data": {
      "text/plain": [
       "set"
      ]
     },
     "execution_count": 32,
     "metadata": {},
     "output_type": "execute_result"
    }
   ],
   "source": [
    "set1 = set()\n",
    "type(set1) # 输出 set"
   ]
  },
  {
   "cell_type": "code",
   "execution_count": 63,
   "id": "29d7cc4c",
   "metadata": {},
   "outputs": [
    {
     "name": "stdout",
     "output_type": "stream",
     "text": [
      "生成的20个0~20随机数为：\n",
      "[7, 9, 14, 15, 11, 20, 6, 19, 9, 2, 20, 18, 0, 9, 17, 11, 15, 12, 6, 11]\n",
      "其中互不相同的数为：\n",
      "{0, 2, 6, 7, 9, 11, 12, 14, 15, 17, 18, 19, 20}\n"
     ]
    }
   ],
   "source": [
    "# ch5-4\n",
    "import random\n",
    "\n",
    "list1=[]\n",
    "for i in range(20):\n",
    "    list1.append(random.randint(0,20))\n",
    "\n",
    "set1=set(list1)\n",
    "print(\"生成的20个0~20随机数为：\")\n",
    "print(list1)\n",
    "print(\"其中互不相同的数为：\")\n",
    "print(set1)"
   ]
  },
  {
   "cell_type": "markdown",
   "id": "24f8f6cc-da8d-4eca-aa1e-50225f0f6a0e",
   "metadata": {},
   "source": [
    "集合的常见操作"
   ]
  },
  {
   "cell_type": "code",
   "execution_count": 14,
   "id": "05dccfb5-4fc2-4b48-96a3-de30d8b52ccd",
   "metadata": {},
   "outputs": [
    {
     "name": "stdout",
     "output_type": "stream",
     "text": [
      "Initial set: set()\n",
      "Set after adding 1: {1}\n",
      "Set after attempting to add 1 again: {1}\n"
     ]
    }
   ],
   "source": [
    "# 创建一个空集合\n",
    "my_set = set()\n",
    "print(\"Initial set:\", my_set)\n",
    "# 使用 add 方法向集合中添加元素\n",
    "my_set.add(1)\n",
    "print(\"Set after adding 1:\", my_set)\n",
    "# 尝试添加已存在的元素，集合不会改变\n",
    "my_set.add(1)\n",
    "print(\"Set after attempting to add 1 again:\", my_set)"
   ]
  },
  {
   "cell_type": "code",
   "execution_count": 15,
   "id": "e998c20b-48be-40ff-a8f3-04b339cb1b63",
   "metadata": {},
   "outputs": [
    {
     "name": "stdout",
     "output_type": "stream",
     "text": [
      "Initial set: {1, 2, 3, 4}\n",
      "Set after removing 3: {1, 2, 4}\n",
      "Set after discarding 2: {1, 4}\n",
      "Set after attempting to discard 5: {1, 4}\n"
     ]
    }
   ],
   "source": [
    "# 创建一个包含一些元素的集合\n",
    "my_set = {1, 2, 3, 4}\n",
    "print(\"Initial set:\", my_set)\n",
    "\n",
    "# 使用 remove 方法移除元素\n",
    "my_set.remove(3)\n",
    "print(\"Set after removing 3:\", my_set)\n",
    "# 尝试移除不存在的元素，会引发报错\n",
    "# my_set.remove(5)  # 这行代码会引发错误\n",
    "\n",
    "# 使用 discard 方法移除元素\n",
    "my_set.discard(2)\n",
    "print(\"Set after discarding 2:\", my_set)\n",
    "# 尝试丢弃不存在的元素，不会引发错误\n",
    "my_set.discard(5)\n",
    "print(\"Set after attempting to discard 5:\", my_set)"
   ]
  },
  {
   "cell_type": "markdown",
   "id": "2e0a6c68-5bbc-4b00-92f2-82153ac093b0",
   "metadata": {},
   "source": [
    "集合的数学运算"
   ]
  },
  {
   "cell_type": "code",
   "execution_count": 16,
   "id": "ae487ae0-0032-43ae-9e55-ce9b60a8c5d1",
   "metadata": {},
   "outputs": [
    {
     "name": "stdout",
     "output_type": "stream",
     "text": [
      "True\n",
      "True\n",
      "True\n",
      "True\n",
      "True\n"
     ]
    }
   ],
   "source": [
    "# 创建两个集合\n",
    "set_a = {1, 2, 3}\n",
    "set_b = {1, 2, 3, 4, 5}\n",
    "set_c = {4,5}\n",
    "# 使用 issubset 方法判断 set_a 是否是 set_b 的子集\n",
    "print(set_a.issubset(set_b))\n",
    "# 使用 <= 运算符判断\n",
    "print(set_a <= set_b)\n",
    "# 使用 issuperset 方法判断 set_b 是否是 set_a 的超集\n",
    "print(set_b.issuperset(set_a))\n",
    "# 使用 >= 运算符判断\n",
    "print(set_b >= set_a)\n",
    "# 使用isdisjoint判断 set_a 是否与 set_c 不相交\n",
    "print(set_a.isdisjoint(set_c))"
   ]
  },
  {
   "cell_type": "code",
   "execution_count": 17,
   "id": "1188e6fa-4d54-42c7-9a74-fe708e413f54",
   "metadata": {},
   "outputs": [
    {
     "name": "stdout",
     "output_type": "stream",
     "text": [
      "{2, 3} {2, 3}\n",
      "{1, 2, 3, 4} {1, 2, 3, 4}\n",
      "{1} {1}\n",
      "{1, 4} {1, 4}\n"
     ]
    }
   ],
   "source": [
    "# 创建两个集合\n",
    "set_c = {1, 2, 3}\n",
    "set_d = {2, 3, 4}\n",
    "# 使用 intersection 方法或 & 运算符获取交集\n",
    "print(set_c.intersection(set_d),set_c & set_d)\n",
    "# 使用 union 方法或 | 运算符获取并集\n",
    "print(set_c.union(set_d),set_c | set_d)\n",
    "# 使用 difference 方法或 - 运算符获取差集\n",
    "print(set_c.difference(set_d),set_c - set_d)\n",
    "# 使用 symmetric_difference 方法或 ^ 运算符获取对称差集\n",
    "print(set_c.symmetric_difference(set_d),set_c ^ set_d)"
   ]
  },
  {
   "cell_type": "markdown",
   "id": "f3ea7c7a-f082-472d-be2d-3d352c656b64",
   "metadata": {
    "jp-MarkdownHeadingCollapsed": true
   },
   "source": [
    "# 实例代码"
   ]
  },
  {
   "cell_type": "markdown",
   "id": "72f55517-8f8f-43de-8908-3ed1b9992ae4",
   "metadata": {
    "jp-MarkdownHeadingCollapsed": true
   },
   "source": [
    "## 例题5-4 使用字典模拟JSON复杂查询"
   ]
  },
  {
   "cell_type": "markdown",
   "id": "d28be7a3-5dc0-486c-a007-39da707033e7",
   "metadata": {},
   "source": [
    "**背景介绍：** JSON（JavaScript Object Notation）是一种轻量级的数据交换格式，它易于人阅读和编写，同时也易于机器解析和生成。它采用完全独立于语言的文本格式，这些特性使JSON成为理想的数据交换语言，广泛应用于网络数据传输，API开发、配置文件设置与日志记录等，是目前运用的十分广泛的数据传输语言。"
   ]
  },
  {
   "cell_type": "markdown",
   "id": "4f323ab4-c01d-4108-951e-db98308f3ebd",
   "metadata": {},
   "source": [
    "**问题描述：** JSON数据由键值对组成，每个键值对之间用逗号分隔，这与Python中的字典十分相似，现在要求使用字典模拟JSON的数据格式，实现JSON复杂嵌套查询，要求输入查询链，返回对应的查询结果，比如输入name->first_name，返回John。"
   ]
  },
  {
   "cell_type": "markdown",
   "id": "5c51f70c-73ca-4105-bb29-54d0beede614",
   "metadata": {},
   "source": [
    "**代码思路：** 这个问题实际上考察的字典的嵌套查询，我们首先需要运用字符串的相关方法对输入的查询链进行拆解，再根据查询链中的键的顺序逐个嵌套查询，同时考虑到用户误输入的可能性，我们也应该使用更加安全的get方法进行查询，具体代码如下："
   ]
  },
  {
   "cell_type": "code",
   "execution_count": 19,
   "id": "534dfb44-443b-4ca0-9331-167ea1df62fb",
   "metadata": {},
   "outputs": [
    {
     "name": "stdin",
     "output_type": "stream",
     "text": [
      "请输出JSON查询链: address->detail\n"
     ]
    },
    {
     "name": "stdout",
     "output_type": "stream",
     "text": [
      "查询结果为: {'street': 'Wall Street', 'number': '100'}\n"
     ]
    }
   ],
   "source": [
    "#ch5-5示例字典（模拟JSON）\n",
    "JSON_data = {\n",
    "    \"name\": {\n",
    "        \"first_name\": \"John\",\n",
    "        \"last_name\": \"Doe\"\n",
    "    },\n",
    "    \"age\": 30,\n",
    "    \"address\": {\n",
    "        \"city\": \"New York\",\n",
    "        \"detail\":{\n",
    "            \"street\":\"Wall Street\",\n",
    "            \"number\":\"100\"\n",
    "        },\n",
    "        \"zipcode\": \"10001\"\n",
    "    },\n",
    "    \"hobby\":[\"writing\",\"reading\",\"jogging\"]\n",
    "}\n",
    "\n",
    "# 输入部分\n",
    "# 输入查询链\n",
    "query_chain = input(\"请输出JSON查询链:\")\n",
    "# 分割查询链为键列表\n",
    "key_list = query_chain.split(\"->\")\n",
    "\n",
    "# 查询部分\n",
    "# 初始化当前层级为最外层数据字典\n",
    "current_level = JSON_data\n",
    "# 逐层遍历键列表\n",
    "for key in key_list:\n",
    "    # 进入下一层级,使用安全的get方法查询\n",
    "    current_level = current_level.get(key,None)\n",
    "    # 如果查询结果不存在或输入错误\n",
    "    if current_level is None:\n",
    "        print(\"查询结果不存在或输入错误!\")\n",
    "        break\n",
    "else:\n",
    "    # 正常结束查询,输出查询结果\n",
    "    print(\"查询结果为:\",current_level)"
   ]
  },
  {
   "cell_type": "markdown",
   "id": "07be1ba1-3f92-4655-80b1-3295dbb917c2",
   "metadata": {
    "jp-MarkdownHeadingCollapsed": true
   },
   "source": [
    "## 例题5-5 使用Python统计词频"
   ]
  },
  {
   "cell_type": "markdown",
   "id": "25f68451-050c-44ef-9762-f428c452e927",
   "metadata": {},
   "source": [
    "**背景介绍：** 词频统计是一种文本分析方法，用于计算和分析在一段文本中各个词汇出现的频率，可以为后续的深入自然语言处理（NLP）提供基础性分析，其广泛应用于文本主题识别、信息检索与词云图绘制当中。"
   ]
  },
  {
   "cell_type": "markdown",
   "id": "959db22d-1d21-40b5-a339-2a2b0dc58485",
   "metadata": {},
   "source": [
    "**问题描述：** 现有一个已经分词以及预处理后的单词列表，现在要求使用字典统计单词列表中各个单词的词频，并按词频的大小降序输出。"
   ]
  },
  {
   "cell_type": "markdown",
   "id": "ffeef185-9a2e-4807-b00e-4b61c5956e88",
   "metadata": {},
   "source": [
    "**代码思路：** 这个问题实际上考察的字典的访问与排序，我们首先需要逐个遍历单词列表并分别在字典中相应单词词频中加1，值得注意的是，还没统计到的单词为在字典中出现，因此我们使用更加安全的get方法设置默认值来统计，具体代码如下："
   ]
  },
  {
   "cell_type": "code",
   "execution_count": 20,
   "id": "9f1a1af5-dc6d-4e27-8eec-33f78189342a",
   "metadata": {},
   "outputs": [
    {
     "name": "stdout",
     "output_type": "stream",
     "text": [
      "apple : 4\n",
      "banana : 3\n",
      "kiwi : 2\n",
      "orange : 1\n"
     ]
    }
   ],
   "source": [
    "# 假设已经分词并预处理后的单词列表\n",
    "word_list = [\n",
    "    \"apple\", \"banana\", \"apple\", \"orange\", \"banana\", \"apple\", \"kiwi\", \"kiwi\", \"banana\",\"apple\"\n",
    "]\n",
    "\n",
    "# 统计词频阶段\n",
    "# 初始化一个空字典来存储词频\n",
    "word_freq = {}\n",
    "# 遍历单词列表，统计词频\n",
    "for word in word_list:\n",
    "    # 使用get方法在单词还没统计时,设置词频为0,避免报错\n",
    "    word_freq[word] = word_freq.get(word,0)+1\n",
    "\n",
    "# 将词频字典按值（词频）降序排序,并输出\n",
    "# 首先，将字典项转换为列表，列表中的元素为 (frequency, word) 元组\n",
    "word_freq_list = [(value,key) for key,value in word_freq.items()]\n",
    "# 将列表降序排序,列表元素为元组,符合元组首位元素比较法则\n",
    "word_freq_list.sort(reverse=True)\n",
    "# 输出排序后的词频列表\n",
    "for freq,word in word_freq_list:\n",
    "    print(word,\":\",freq)"
   ]
  },
  {
   "cell_type": "markdown",
   "id": "30bd89e3-b042-4964-af4e-f46398072268",
   "metadata": {
    "jp-MarkdownHeadingCollapsed": true
   },
   "source": [
    "## 例题5-6 使用Python解决集合论问题"
   ]
  },
  {
   "cell_type": "markdown",
   "id": "4fcb9cc6-34c7-4b1b-821a-68f4ba82c196",
   "metadata": {},
   "source": [
    "**背景介绍：** 集合论是数学的一个基本分支，它研究的是对象（称为元素）的集合以及这些集合之间的关系和运算。集合具有无序性、互异性和确定性三大特性，这些特性使得集合成为数学和计算机科学中处理数据的基本工具。集合论在数据库设计、算法分析、逻辑推理等领域有着广泛的应用。"
   ]
  },
  {
   "cell_type": "markdown",
   "id": "bb7935ed-a32b-4cd7-87e6-8e6f8167ab46",
   "metadata": {},
   "source": [
    "**问题描述：** 选课是大学中的常见情景，现在有两门选修课A与B，各自有选课的同学名单，现在教务处想要统计如下内容，请在Python中编程实现：1.同时选A与B课程的学生人数\n",
    "2.选修课程A与B的学生总人 \n",
    "3.仅选修课程A的学生总 4.数\n",
    "仅选修一门课程的学生总人数"
   ]
  },
  {
   "cell_type": "markdown",
   "id": "40d62895-34cd-4812-9d18-2c82d4e97f2c",
   "metadata": {},
   "source": [
    "**代码思路：** 这个问题实际上考察的是Python中集合的基本运算，我们可以根据一定的数学知识将该问题建模为集合论问题，并使用Python中提供的集合常见数学运算求解，具体代码如下："
   ]
  },
  {
   "cell_type": "code",
   "execution_count": 1,
   "id": "591d9774-8ceb-4622-80e6-c0ec74668d77",
   "metadata": {},
   "outputs": [
    {
     "name": "stdout",
     "output_type": "stream",
     "text": [
      "同时选A与B课程的学生人数: 2\n",
      "选修课程A与B的学生总人数: 6\n",
      "仅选修课程A的学生总人数: 2\n",
      "仅选修一门课程的学生总人数: 4\n"
     ]
    }
   ],
   "source": [
    "# 定义选课学生集合\n",
    "course_A = {\"Alice\", \"Bob\", \"Charlie\", \"David\"}\n",
    "course_B = {\"Bob\", \"David\", \"Eve\", \"Frank\"}\n",
    "\n",
    "# 1. 同时选A与B课程的学生人数\n",
    "both_courses = course_A & course_B  # 交集运算\n",
    "num_both_courses = len(both_courses)\n",
    "print(\"同时选A与B课程的学生人数:\",num_both_courses)\n",
    "\n",
    "# 2. 选修课程A与B的学生总人数\n",
    "all_students = course_A | course_B  # 并集运算\n",
    "num_all_students = len(all_students)\n",
    "print(\"选修课程A与B的学生总人数:\",num_all_students)\n",
    "\n",
    "# 3. 仅选修课程A的学生总人数\n",
    "only_course_A = course_A - course_B  # 差集运算\n",
    "num_only_course_A = len(only_course_A)\n",
    "print(\"仅选修课程A的学生总人数:\",num_only_course_A)\n",
    "\n",
    "# 4. 仅选修一门课程的学生总人数\n",
    "only_one_course = course_A ^ course_B  # 对称差集运算\n",
    "num_only_one_course = len(only_one_course)\n",
    "print(\"仅选修一门课程的学生总人数:\",num_only_one_course)"
   ]
  },
  {
   "cell_type": "code",
   "execution_count": 5,
   "id": "dd755b75",
   "metadata": {},
   "outputs": [
    {
     "name": "stdout",
     "output_type": "stream",
     "text": [
      "{'A': ['Alice', 'Charlie'], 'B': ['Bob', 'Kevin']}\n"
     ]
    }
   ],
   "source": [
    "# ch5-8 按班级对学生进行分组\n",
    "students = [\n",
    "    {\"name\": \"Alice\", \"class\": \"A\"},\n",
    "    {\"name\": \"Bob\", \"class\": \"B\"},\n",
    "    {\"name\": \"Charlie\", \"class\": \"A\"},\n",
    "    {\"name\": \"Kevin\", \"class\":\"B\"}\n",
    "]\n",
    "grouped_students = {}\n",
    "for student in students:\n",
    "    class_name = student[\"class\"]\n",
    "    if class_name not in grouped_students:\n",
    "        grouped_students[class_name] = []\n",
    "    grouped_students[class_name].append(student[\"name\"])\n",
    "\n",
    "print(grouped_students)  # 输出: {'A': ['Alice', 'Charlie'], 'B': ['Bob', 'Kevin']}"
   ]
  },
  {
   "cell_type": "markdown",
   "id": "503a266c-62a6-40cf-a3f7-b07d0f7ff5ad",
   "metadata": {
    "jp-MarkdownHeadingCollapsed": true
   },
   "source": [
    "# 课后习题"
   ]
  },
  {
   "cell_type": "markdown",
   "id": "1372a8ae-1a9e-47b6-be96-966b06b4a03d",
   "metadata": {},
   "source": [
    "习题1"
   ]
  },
  {
   "cell_type": "code",
   "execution_count": null,
   "id": "3e0ecbb8-1698-46aa-a170-bf72f9ae4754",
   "metadata": {},
   "outputs": [],
   "source": [
    "# 针对字典dict_test = {\"ab\": 5, \"cd\": 7, \"ef\": 3}，思考以下操作\n",
    "dict_test = {\"ab\": 5, \"cd\": 7, \"ef\": 3}\n",
    "# 1. len(dict_test)的结果是多少？\n",
    "\n",
    "# 2. 如何向字典中添加键值对\"\"gh\": 8\"\n",
    "\n",
    "# 3. 如何修改\"ab\"对应的值为1\n",
    "\n",
    "# 4. 如何删除\"ef\"对应的键值对？\n"
   ]
  },
  {
   "cell_type": "markdown",
   "id": "2a7b5c46-fdd2-43e7-8757-eeac304fd30f",
   "metadata": {},
   "source": [
    "习题2"
   ]
  },
  {
   "cell_type": "code",
   "execution_count": null,
   "id": "f3441584-bc75-4fae-8c79-d7066463876e",
   "metadata": {},
   "outputs": [],
   "source": [
    "# 根据课程A和课程B的学生名单表，使用集的概念，找到同时在两个班的学生名单\n",
    "classA = [\"Bob\", \"Alice\", \"David\", \"Catherine\", \"Gauss\", \"Euler\", \"Kate\"]\n",
    "classB = [\"Catherine\", \"Rose\", \"Hopper\", \"Keith\", \"Bob\"]"
   ]
  },
  {
   "cell_type": "markdown",
   "id": "f9ad8630-21fb-4af6-9a46-927caca8f1b3",
   "metadata": {},
   "source": [
    "习题3"
   ]
  },
  {
   "cell_type": "code",
   "execution_count": null,
   "id": "cd1ae314-3bcf-4185-9c58-c0581ad6182b",
   "metadata": {},
   "outputs": [],
   "source": [
    "# 创建两个集合，分别包含几个整数\n",
    "setA = {1,2,3}\n",
    "setB = {2,4,5}\n",
    "# 然后展示两个集合的交集、并集、差集\n"
   ]
  },
  {
   "cell_type": "markdown",
   "id": "e9f6aded-dad5-4d6d-b516-ea48ffaddc4d",
   "metadata": {},
   "source": [
    "习题4"
   ]
  },
  {
   "cell_type": "code",
   "execution_count": null,
   "id": "96a37e5a-bb17-4e87-9edd-c6061d14baef",
   "metadata": {},
   "outputs": [],
   "source": [
    "# 编写一个程序，提示用户输入一系列用空格分开的数字，然后创建一个集合以去除重复项，并打印出最终的结果\n"
   ]
  },
  {
   "cell_type": "markdown",
   "id": "0ca7438b-161d-4f51-9613-2dcc07e7d145",
   "metadata": {},
   "source": [
    "习题5"
   ]
  },
  {
   "cell_type": "code",
   "execution_count": null,
   "id": "e8c988e9-bec0-4074-a212-ad92cdcabc7f",
   "metadata": {},
   "outputs": [],
   "source": [
    "# 5.已知一个购物车里有以下商品及对应数量：{\"apple\": 3, \"banana\": 6, \"cherry\": 2}。\n",
    "# 编写一个程序，让用户输入商品名称和购买数量，如果商品存在于购物车中，则更新数量。如果商品不存在，则添加商品及其数量。\n"
   ]
  }
 ],
 "metadata": {
  "kernelspec": {
   "display_name": "Python 3 (ipykernel)",
   "language": "python",
   "name": "python3"
  },
  "language_info": {
   "codemirror_mode": {
    "name": "ipython",
    "version": 3
   },
   "file_extension": ".py",
   "mimetype": "text/x-python",
   "name": "python",
   "nbconvert_exporter": "python",
   "pygments_lexer": "ipython3",
   "version": "3.11.7"
  }
 },
 "nbformat": 4,
 "nbformat_minor": 5
}
