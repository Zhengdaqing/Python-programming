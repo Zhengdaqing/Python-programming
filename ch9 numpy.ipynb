{
 "cells": [
  {
   "cell_type": "markdown",
   "id": "ace305ac",
   "metadata": {},
   "source": [
    "# 第九章 numpy"
   ]
  },
  {
   "cell_type": "code",
   "execution_count": 53,
   "id": "0cd678e6",
   "metadata": {},
   "outputs": [
    {
     "name": "stdout",
     "output_type": "stream",
     "text": [
      "[1 2 3]\n"
     ]
    }
   ],
   "source": [
    "import numpy as np #导入numpy库\n",
    "l = [1, 2, 3]\n",
    "array1 = np.array(l)\n",
    "print(array1) # 输出 一维数组 [1 2 3]"
   ]
  },
  {
   "cell_type": "code",
   "execution_count": 55,
   "id": "77260127",
   "metadata": {},
   "outputs": [
    {
     "name": "stdout",
     "output_type": "stream",
     "text": [
      "[[1.5 2.  3. ]\n",
      " [4.  5.  6. ]]\n"
     ]
    }
   ],
   "source": [
    "# array还可以将序列转换为二维数组\n",
    "b = np.array([[1.5,2,3], [4,5,6]])\n",
    "print(b)"
   ]
  },
  {
   "cell_type": "code",
   "execution_count": null,
   "id": "f02b0b2b",
   "metadata": {},
   "outputs": [],
   "source": [
    "c = np.array([(1.5,2,3), (4,5,6)])"
   ]
  },
  {
   "cell_type": "code",
   "execution_count": 7,
   "id": "7fbf7113",
   "metadata": {},
   "outputs": [
    {
     "data": {
      "text/plain": [
       "array([[0., 0., 0., 0.],\n",
       "       [0., 0., 0., 0.],\n",
       "       [0., 0., 0., 0.]])"
      ]
     },
     "execution_count": 7,
     "metadata": {},
     "output_type": "execute_result"
    }
   ],
   "source": [
    "import numpy as np #导入numpy库\n",
    "\n",
    "np.zeros((3, 4)) # 创建一个3行4列的零矩阵"
   ]
  },
  {
   "cell_type": "code",
   "execution_count": 16,
   "id": "b9f59527",
   "metadata": {},
   "outputs": [
    {
     "data": {
      "text/plain": [
       "array([[[1, 1, 1, 1],\n",
       "        [1, 1, 1, 1],\n",
       "        [1, 1, 1, 1]],\n",
       "\n",
       "       [[1, 1, 1, 1],\n",
       "        [1, 1, 1, 1],\n",
       "        [1, 1, 1, 1]]], dtype=int16)"
      ]
     },
     "execution_count": 16,
     "metadata": {},
     "output_type": "execute_result"
    }
   ],
   "source": [
    "np.ones( (2,3,4), dtype=np.int16)  # dtype可以被指定"
   ]
  },
  {
   "cell_type": "code",
   "execution_count": 9,
   "id": "471234b1",
   "metadata": {},
   "outputs": [
    {
     "name": "stdout",
     "output_type": "stream",
     "text": [
      "[[1.39069238e-309 1.39069238e-309 1.39069238e-309]\n",
      " [1.39069238e-309 1.39069238e-309 1.39069238e-309]]\n"
     ]
    }
   ],
   "source": [
    "print(np.empty( (2,3)))      # 不初始化，可能导致很大的差异"
   ]
  },
  {
   "cell_type": "code",
   "execution_count": 21,
   "id": "5df5f848",
   "metadata": {},
   "outputs": [
    {
     "data": {
      "text/plain": [
       "array([10, 15, 20, 25])"
      ]
     },
     "execution_count": 21,
     "metadata": {},
     "output_type": "execute_result"
    }
   ],
   "source": [
    "np.arange( 10, 30, 5 )"
   ]
  },
  {
   "cell_type": "code",
   "execution_count": 11,
   "id": "d682b7cb",
   "metadata": {},
   "outputs": [
    {
     "data": {
      "text/plain": [
       "array([0. , 0.3, 0.6, 0.9, 1.2, 1.5, 1.8])"
      ]
     },
     "execution_count": 11,
     "metadata": {},
     "output_type": "execute_result"
    }
   ],
   "source": [
    "np.arange( 0, 2, 0.3 ) "
   ]
  },
  {
   "cell_type": "code",
   "execution_count": 12,
   "id": "4e9d7e4f",
   "metadata": {},
   "outputs": [
    {
     "data": {
      "text/plain": [
       "array([0.  , 0.25, 0.5 , 0.75, 1.  , 1.25, 1.5 , 1.75, 2.  ])"
      ]
     },
     "execution_count": 12,
     "metadata": {},
     "output_type": "execute_result"
    }
   ],
   "source": [
    "from numpy import pi\n",
    "np.linspace( 0, 2, 9 ) # 在0到2中间取9个数字"
   ]
  },
  {
   "cell_type": "code",
   "execution_count": 17,
   "id": "c288d117",
   "metadata": {},
   "outputs": [
    {
     "data": {
      "image/png": "[encoded data removed]",
      "text/plain": [
       "<Figure size 640x480 with 1 Axes>"
      ]
     },
     "metadata": {},
     "output_type": "display_data"
    }
   ],
   "source": [
    "import matplotlib.pyplot as plt\n",
    "\n",
    "x = np.linspace( 0, 2*pi, 100)        # 在很多点上求函数值\n",
    "f = np.sin(x)\n",
    "plt.plot(x,f)  # 可视化展示sin函数\n",
    "plt.show()"
   ]
  },
  {
   "cell_type": "code",
   "execution_count": 30,
   "id": "c929083f",
   "metadata": {},
   "outputs": [
    {
     "name": "stdout",
     "output_type": "stream",
     "text": [
      "[[11 22 33]\n",
      " [14 25 36]]\n"
     ]
    }
   ],
   "source": [
    "import numpy as np\n",
    "\n",
    "array1 = np.array([[1, 2, 3], [4, 5, 6]])\n",
    "array2 = np.array([10, 20, 30])\n",
    "\n",
    "result = array1 + array2 # 使用广播机制\n",
    "print(result)\n"
   ]
  },
  {
   "cell_type": "code",
   "execution_count": 31,
   "id": "ee0111fa",
   "metadata": {},
   "outputs": [
    {
     "name": "stdout",
     "output_type": "stream",
     "text": [
      "[[ 0  1  2  3  4]\n",
      " [ 5  6  7  8  9]\n",
      " [10 11 12 13 14]]\n"
     ]
    }
   ],
   "source": [
    "import numpy as np\n",
    "a = np.arange(15).reshape(3, 5)\n",
    "print(a)"
   ]
  },
  {
   "cell_type": "code",
   "execution_count": 32,
   "id": "679f41a3",
   "metadata": {},
   "outputs": [
    {
     "name": "stdout",
     "output_type": "stream",
     "text": [
      "(3, 5)\n"
     ]
    }
   ],
   "source": [
    "print(a.shape)"
   ]
  },
  {
   "cell_type": "code",
   "execution_count": 33,
   "id": "f9f8d839",
   "metadata": {},
   "outputs": [
    {
     "name": "stdout",
     "output_type": "stream",
     "text": [
      "2\n"
     ]
    }
   ],
   "source": [
    "print(a.ndim)"
   ]
  },
  {
   "cell_type": "code",
   "execution_count": 34,
   "id": "da4d4b68",
   "metadata": {},
   "outputs": [
    {
     "name": "stdout",
     "output_type": "stream",
     "text": [
      "int32\n"
     ]
    }
   ],
   "source": [
    "print(a.dtype.name)"
   ]
  },
  {
   "cell_type": "code",
   "execution_count": 35,
   "id": "600da619",
   "metadata": {},
   "outputs": [
    {
     "name": "stdout",
     "output_type": "stream",
     "text": [
      "4\n"
     ]
    }
   ],
   "source": [
    "print(a.itemsize)"
   ]
  },
  {
   "cell_type": "code",
   "execution_count": 36,
   "id": "3167982d",
   "metadata": {},
   "outputs": [
    {
     "name": "stdout",
     "output_type": "stream",
     "text": [
      "15\n"
     ]
    }
   ],
   "source": [
    "print(a.size)"
   ]
  },
  {
   "cell_type": "code",
   "execution_count": 46,
   "id": "561674ad",
   "metadata": {},
   "outputs": [
    {
     "name": "stdout",
     "output_type": "stream",
     "text": [
      "[0 1 4 9]\n"
     ]
    }
   ],
   "source": [
    "a = np.arange(4) # 数组a为 [0, 1, 2, 3]\n",
    "print(a**2)"
   ]
  },
  {
   "cell_type": "code",
   "execution_count": 47,
   "id": "8acd8410",
   "metadata": {},
   "outputs": [
    {
     "name": "stdout",
     "output_type": "stream",
     "text": [
      "[20 29 38 47]\n"
     ]
    }
   ],
   "source": [
    "a = np.arange(4) # 数组a为 [0, 1, 2, 3]\n",
    "b = np.array( [20,30,40,50] )\n",
    "c = b-a\n",
    "print(c) # 输出  [20 29 38 47]"
   ]
  },
  {
   "cell_type": "code",
   "execution_count": 48,
   "id": "31377b39",
   "metadata": {},
   "outputs": [
    {
     "name": "stdout",
     "output_type": "stream",
     "text": [
      "[ True  True False False]\n"
     ]
    }
   ],
   "source": [
    "b = np.array( [20,30,40,50] )\n",
    "print(b<35)\n",
    "# 输出：array([ True, True, False, False])"
   ]
  },
  {
   "cell_type": "code",
   "execution_count": 52,
   "id": "626e3edc",
   "metadata": {},
   "outputs": [
    {
     "name": "stdout",
     "output_type": "stream",
     "text": [
      "[[2 0]\n",
      " [0 4]]\n"
     ]
    }
   ],
   "source": [
    "A = np.array([[1,1],[0,1]])\n",
    "B = np.array([[2,0],[3,4]])\n",
    "print(A * B)  # 元素积，两个相同尺寸的矩阵或向量之间的对应元素逐一相乘\n"
   ]
  },
  {
   "cell_type": "code",
   "execution_count": 50,
   "id": "f483f9ea",
   "metadata": {},
   "outputs": [
    {
     "name": "stdout",
     "output_type": "stream",
     "text": [
      "[[5 4]\n",
      " [3 4]]\n"
     ]
    }
   ],
   "source": [
    "print(A @ B)  # 矩阵乘法"
   ]
  },
  {
   "cell_type": "code",
   "execution_count": 51,
   "id": "0297d252",
   "metadata": {},
   "outputs": [
    {
     "name": "stdout",
     "output_type": "stream",
     "text": [
      "[[5 4]\n",
      " [3 4]]\n"
     ]
    }
   ],
   "source": [
    "print(A.dot(B))  # 另一种矩阵乘法形式"
   ]
  },
  {
   "cell_type": "code",
   "execution_count": 74,
   "id": "bebd3265",
   "metadata": {},
   "outputs": [
    {
     "name": "stdout",
     "output_type": "stream",
     "text": [
      "27\n",
      "1\n",
      "9\n",
      "4.5\n",
      "3.5\n"
     ]
    }
   ],
   "source": [
    "array1 = np.array([\n",
    "    [1,2,4],\n",
    "    [3,8,9]\n",
    "])\n",
    "print(np.sum(array1)) # 输出 求和值 27\n",
    "print(np.min(array1)) # 输出最小值 1\n",
    "print(np.max(array1)) # 输出最大值 9\n",
    "print(np.mean(array1)) # 输出平均值 4.5\n",
    "print(np.median(array1)) # 输出中位数 3.5"
   ]
  },
  {
   "cell_type": "markdown",
   "id": "5d8d138b",
   "metadata": {},
   "source": [
    "### 索引、切片和迭代"
   ]
  },
  {
   "cell_type": "code",
   "execution_count": 75,
   "id": "d538a925",
   "metadata": {},
   "outputs": [
    {
     "name": "stdout",
     "output_type": "stream",
     "text": [
      "[  0   1   8  27  64 125 216 343 512 729]\n",
      "8\n",
      "[ 8 27 64]\n"
     ]
    }
   ],
   "source": [
    "a = np.arange(10)**3\n",
    "print(a)\n",
    "# 输出：array([  0,   1,   8,  27,  64, 125, 216, 343, 512, 729])\n",
    "\n",
    "print(a[2])\n",
    "# 输出：8\n",
    "\n",
    "print(a[2:5])\n",
    "# 输出：array([ 8, 27, 64])\n"
   ]
  },
  {
   "cell_type": "code",
   "execution_count": 81,
   "id": "287157d1",
   "metadata": {},
   "outputs": [
    {
     "name": "stdout",
     "output_type": "stream",
     "text": [
      "0\n",
      "[ 0 12]\n",
      "[[ 0  1  2  3]\n",
      " [ 4  5  6  7]\n",
      " [ 8  9 10 11]]\n",
      "[4 5 6 7]\n",
      "[4 6]\n"
     ]
    }
   ],
   "source": [
    "office_room = np.array([[[0, 1, 2, 3],\n",
    "                  [4, 5, 6, 7],\n",
    "                  [8, 9,10,11]],\n",
    "                 \n",
    "                 [[12, 13, 14, 15],\n",
    "                  [16, 17, 18, 19],\n",
    "                  [20, 21, 22, 23]]])\n",
    "print(office_room[0,0,0]) # 访问第0层0行0列的办公室序号\n",
    "print(office_room[:,0,0]) # 分别访问第0层和第1层的0行0列的办公室序号\n",
    "print(office_room[0,:,:]) # 访问第0层的所有办公室序号\n",
    "print(office_room[0,1,:]) # 访问第0层第2行的所有办公室序号\n",
    "print(office_room[0,1,0:4:2]) # 访问第0层第2行，第0列和第2列的办公室序号"
   ]
  },
  {
   "cell_type": "code",
   "execution_count": 133,
   "id": "6664f85e",
   "metadata": {},
   "outputs": [
    {
     "name": "stdout",
     "output_type": "stream",
     "text": [
      "[[False False False False]\n",
      " [False  True  True  True]\n",
      " [ True  True  True  True]]\n"
     ]
    },
    {
     "data": {
      "text/plain": [
       "array([ 5,  6,  7,  8,  9, 10, 11])"
      ]
     },
     "execution_count": 133,
     "metadata": {},
     "output_type": "execute_result"
    }
   ],
   "source": [
    "# 布尔索引\n",
    "arr = np.arange(12).reshape(3,4)\n",
    "condition = a > 4\n",
    "print(condition) # 输出 3行4列的布尔值数组\n",
    "arr[condition] #输出一维数组：array([ 5,  6,  7,  8,  9, 10, 11])"
   ]
  },
  {
   "cell_type": "code",
   "execution_count": 135,
   "id": "d5351d67",
   "metadata": {},
   "outputs": [
    {
     "name": "stdout",
     "output_type": "stream",
     "text": [
      "[ 1  1  9 64 25]\n",
      "[[ 9 16]\n",
      " [81 49]]\n"
     ]
    }
   ],
   "source": [
    "# 整数数组索引\n",
    "a = np.arange(12)**2 # 获得前12个数的平方数\n",
    "i = np.array([1, 1, 3, 8, 5])  # 创建一个索引数组\n",
    "print(a[i])  # 输出在位置i处的a的元素，array([1, 1, 9,64,25])\n",
    "j = np.array([[3, 4], [9, 7]]) # 创建一个二维索引数组\n",
    "print(a[j]) # 与j形状相同"
   ]
  },
  {
   "cell_type": "code",
   "execution_count": 136,
   "id": "96238580",
   "metadata": {},
   "outputs": [
    {
     "name": "stdout",
     "output_type": "stream",
     "text": [
      "[2 9]\n",
      "[1 5 9]\n"
     ]
    }
   ],
   "source": [
    "# 使用整数数组索引\n",
    "arr = np.array([[1, 2, 3], [4, 5, 6], [7, 8, 9]])\n",
    "\n",
    "rows = np.array([0, 2])\n",
    "cols = np.array([1, 2])\n",
    "print(arr[rows, cols])  # 选择第0行第1列和第2行第2列的元素，输出：[2 9]\n",
    "print(arr[[0, 1, 2], [0, 1, 2]])  # 选择对角线元素，输出：[1 5 9]"
   ]
  },
  {
   "cell_type": "code",
   "execution_count": 85,
   "id": "25f47f72",
   "metadata": {},
   "outputs": [
    {
     "name": "stdout",
     "output_type": "stream",
     "text": [
      "1 2 3 4 5 6 "
     ]
    }
   ],
   "source": [
    "arr = np.array([[1, 2, 3], [4, 5, 6]])\n",
    "for row in arr:\n",
    "    for element in row:\n",
    "        print(element, end=\" \") # 依序输出二维数组的6个元素 1 2 3 4 5 6 "
   ]
  },
  {
   "cell_type": "code",
   "execution_count": 86,
   "id": "22315771",
   "metadata": {},
   "outputs": [
    {
     "name": "stdout",
     "output_type": "stream",
     "text": [
      "1 4 2 5 3 6 "
     ]
    }
   ],
   "source": [
    "arr = np.array([[1, 2, 3], [4, 5, 6]])\n",
    "\n",
    "for element in np.nditer(arr, order='F'): # 按列优先迭代\n",
    "    print(element, end = \" \") # 依序输出二维数组的6个元素 1 4 2 5 3 6 "
   ]
  },
  {
   "cell_type": "code",
   "execution_count": 88,
   "id": "b82ec877",
   "metadata": {},
   "outputs": [
    {
     "name": "stdout",
     "output_type": "stream",
     "text": [
      "[[0 1 2]\n",
      " [3 4 5]]\n"
     ]
    }
   ],
   "source": [
    "arr = np.arange(6)  # 创建一个一维数组 [0, 1, 2, 3, 4, 5]\n",
    "reshaped_arr = arr.reshape(2, 3)  # 将数组重塑为 2x3 的二维数组\n",
    "print(reshaped_arr)"
   ]
  },
  {
   "cell_type": "code",
   "execution_count": 92,
   "id": "b7dae176",
   "metadata": {},
   "outputs": [
    {
     "name": "stdout",
     "output_type": "stream",
     "text": [
      "[[0 1 2]\n",
      " [3 4 5]]\n"
     ]
    }
   ],
   "source": [
    "arr = np.arange(6)  # 创建一个一维数组 [0, 1, 2, 3, 4, 5]\n",
    "arr.resize(2, 3)  # 直接将数组重塑为 2x3 的二维数组\n",
    "print(arr)"
   ]
  },
  {
   "cell_type": "code",
   "execution_count": 96,
   "id": "adccb38c",
   "metadata": {},
   "outputs": [
    {
     "name": "stdout",
     "output_type": "stream",
     "text": [
      "[1 2 3 4 5 6]\n"
     ]
    }
   ],
   "source": [
    "arr = np.array([[1, 2, 3], [4, 5, 6]])\n",
    "flattened_arr=arr.flatten()  # 返回副本\n",
    "print(flattened_arr)  # 输出：[1 2 3 4 5 6]"
   ]
  },
  {
   "cell_type": "code",
   "execution_count": 101,
   "id": "a8358364",
   "metadata": {},
   "outputs": [
    {
     "name": "stdout",
     "output_type": "stream",
     "text": [
      "(3, 2)\n"
     ]
    }
   ],
   "source": [
    "arr = np.array([[1, 2, 3], [4, 5, 6]])\n",
    "transposed_arr = np.transpose(arr)\n",
    "print(transposed_arr.shape) # 输出 （3,2）"
   ]
  },
  {
   "cell_type": "code",
   "execution_count": 100,
   "id": "be68e52e",
   "metadata": {},
   "outputs": [
    {
     "name": "stdout",
     "output_type": "stream",
     "text": [
      "(3, 2, 4)\n"
     ]
    }
   ],
   "source": [
    "arr_3d = np.arange(24).reshape(2, 3, 4)\n",
    "transposed_arr_3d = arr_3d.transpose(1, 0, 2)\n",
    "print(transposed_arr_3d.shape)  # 输出：(3, 2, 4)"
   ]
  },
  {
   "cell_type": "code",
   "execution_count": 116,
   "id": "1bb4b161",
   "metadata": {},
   "outputs": [
    {
     "name": "stdout",
     "output_type": "stream",
     "text": [
      "垂直堆叠结果：\n",
      " [[1 2 3]\n",
      " [4 5 6]]\n",
      "水平堆叠结果：\n",
      " [1 2 3 4 5 6]\n",
      "深度堆叠结果：\n",
      " [[[ 1  2  3  7  8  9]]\n",
      "\n",
      " [[ 4  5  6 10 11 12]]]\n"
     ]
    }
   ],
   "source": [
    "arr1 = np.array([1, 2, 3])\n",
    "arr2 = np.array([4, 5, 6])\n",
    "\n",
    "vstacked = np.vstack((arr1, arr2)) # 垂直堆叠\n",
    "print(\"垂直堆叠结果：\\n\", vstacked)\n",
    "hstacked = np.hstack((arr1, arr2)) # 水平堆叠\n",
    "print(\"水平堆叠结果：\\n\",hstacked)\n",
    "arr3 = np.array([[[1, 2, 3]],\n",
    "              [[4, 5, 6]]])\n",
    "arr4 = np.array([[[7, 8, 9]],\n",
    "              [[10, 11, 12]]])\n",
    "dstacked = np.dstack((arr3, arr4)) # 深度堆叠\n",
    "print(\"深度堆叠结果：\\n\", dstacked)"
   ]
  },
  {
   "cell_type": "code",
   "execution_count": 122,
   "id": "c0267fe5",
   "metadata": {},
   "outputs": [
    {
     "name": "stdout",
     "output_type": "stream",
     "text": [
      "拆分结果：\n",
      "[[1 2 3 4]\n",
      " [5 6 7 8]]\n",
      "[[ 9 10 11 12]\n",
      " [13 14 15 16]]\n"
     ]
    }
   ],
   "source": [
    "arr = np.array([[1, 2, 3, 4],\n",
    "           [5, 6, 7, 8],\n",
    "           [9, 10, 11, 12],\n",
    "           [13, 14, 15, 16]])\n",
    "splitted_arr = np.split(arr, 2, axis = 0)\n",
    "print(\"拆分结果：\")\n",
    "for arr in splitted_arr:\n",
    "    print(arr)"
   ]
  },
  {
   "cell_type": "code",
   "execution_count": 124,
   "id": "8ef82c78",
   "metadata": {},
   "outputs": [
    {
     "name": "stdout",
     "output_type": "stream",
     "text": [
      "拆分结果：\n",
      "[[1 2 3 4]\n",
      " [5 6 7 8]]\n",
      "[[ 9 10 11 12]\n",
      " [13 14 15 16]]\n",
      "垂直拆分结果：\n",
      "[[ 9 10 11 12]]\n",
      "[[13 14 15 16]]\n",
      "水平拆分结果：\n",
      "[[ 1  2]\n",
      " [ 5  6]\n",
      " [ 9 10]\n",
      " [13 14]]\n",
      "[[ 3  4]\n",
      " [ 7  8]\n",
      " [11 12]\n",
      " [15 16]]\n",
      "水平拆分（不等分）结果：\n",
      "[[ 1  2  3]\n",
      " [ 5  6  7]\n",
      " [ 9 10 11]\n",
      " [13 14 15]]\n",
      "[[ 4]\n",
      " [ 8]\n",
      " [12]\n",
      " [16]]\n"
     ]
    }
   ],
   "source": [
    "# 创建一个4x4的数组\n",
    "arr = np.array([[1, 2, 3, 4],\n",
    "           [5, 6, 7, 8],\n",
    "           [9, 10, 11, 12],\n",
    "           [13, 14, 15, 16]])\n",
    "splitted_arr = np.split(arr, 2, axis = 0)\n",
    "print(\"拆分结果：\")\n",
    "for arr in splitted_arr:\n",
    "    print(arr)\n",
    "   \n",
    "vsplitted = np.vsplit(arr, 2) # 垂直拆分，分成两个2x4的数组\n",
    "print(\"垂直拆分结果：\")\n",
    "for arr in vsplitted:\n",
    "    print(arr) \n",
    "\n",
    "hsplitted = np.hsplit(a, 2) # 水平拆分，分成两个4x2的数组\n",
    "print(\"水平拆分结果：\")\n",
    "for arr in hsplitted:\n",
    "    print(arr) \n",
    "\n",
    "hsplitted_diff = np.hsplit(a, [3]) # 水平拆分，通过指定索引分成不等大小的数组\n",
    "print(\"水平拆分（不等分）结果：\")\n",
    "for arr in hsplitted_diff:\n",
    "    print(arr)\n",
    "    "
   ]
  },
  {
   "cell_type": "code",
   "execution_count": 150,
   "id": "a7912a83",
   "metadata": {},
   "outputs": [
    {
     "name": "stdout",
     "output_type": "stream",
     "text": [
      "Mean values: [-0.10295661 -0.0168736  -0.05841267 -0.09427399  0.14574467]\n",
      "Standard Deviations: [1.00853176 0.95662951 1.00102105 1.03436658 0.96754297]\n",
      "Variances: [1.01713631 0.91514001 1.00204315 1.06991421 0.9361394 ]\n",
      "Median values: [-0.12440451  0.00713545 -0.11713399 -0.22018517  0.05405537]\n"
     ]
    }
   ],
   "source": [
    "import numpy as np\n",
    "\n",
    "np.random.seed(0)\n",
    "data = np.random.normal(loc=0.0, scale=1.0, size=(100, 5)) # 生成有0-1之间的随机数组成的100行5列的数组\n",
    "\n",
    "mean_values = np.mean(data, axis=0) # 按列结算均值\n",
    "print(\"Mean values:\", mean_values)\n",
    "\n",
    "std_dev = np.std(data, axis=0) # 按列计算标准差\n",
    "print(\"Standard Deviations:\", std_dev)\n",
    "\n",
    "variance = np.var(data, axis=0) # 按列计算方差\n",
    "print(\"Variances:\", variance)\n",
    "\n",
    "median_values = np.median(data, axis=0) # 按列计算中位数\n",
    "print(\"Median values:\", median_values)"
   ]
  },
  {
   "cell_type": "code",
   "execution_count": 157,
   "id": "b2e76a72",
   "metadata": {},
   "outputs": [
    {
     "name": "stdout",
     "output_type": "stream",
     "text": [
      "随机整数数组: [4 6 7 6 6]\n",
      "均匀分布的随机数数组:\n",
      " [[0.06739745 0.45677502 0.0295279 ]\n",
      " [0.44917844 0.07668314 0.13696916]]\n",
      "正态分布的随机数数组:\n",
      " [[0.08681954 1.27314928 0.08418292]\n",
      " [0.58240047 0.54476501 1.11181695]]\n",
      "随机洗牌后的数组: [0 9 1 7 3 8 4 5 2 6]\n"
     ]
    }
   ],
   "source": [
    "import numpy as np\n",
    "\n",
    "np.random.seed(64) # 设置随机种子\n",
    "random_integers = np.random.randint(0, 10, size=5) # 生成随机整数\n",
    "print(\"随机整数数组:\", random_integers) # 输出5个随机整数组成的数组\n",
    "\n",
    "niform_randoms = np.random.rand(2, 3) # 生成符合均匀分布的随机数组成的2行3列的数组\n",
    "print(\"均匀分布的随机数数组:\\n\", uniform_randoms) # 输出：均匀分布的随机数数组:\n",
    "\n",
    "normal_randoms = np.random.normal(0, 1, size=(2, 3)) # 生成符合正态分布的随机数组成的2行3列的数组\n",
    "print(\"正态分布的随机数数组:\\n\", normal_randoms) # 输出：正态分布的随机数数组:\n",
    "\n",
    "arr_to_shuffle = np.arange(10) \n",
    "np.random.shuffle(arr_to_shuffle) # 随机洗牌\n",
    "print(\"随机洗牌后的数组:\", arr_to_shuffle) # 输出：随机洗牌后的数组"
   ]
  },
  {
   "cell_type": "code",
   "execution_count": 183,
   "id": "2ae67610",
   "metadata": {},
   "outputs": [
    {
     "name": "stdout",
     "output_type": "stream",
     "text": [
      "-2.0\n"
     ]
    }
   ],
   "source": [
    "# 计算矩阵的行列式的值\n",
    "import numpy as np\n",
    "\n",
    "arr1 = np.arange(4).reshape((2,2))\n",
    "det_arr1 = np.linalg.det(arr1) #计算矩阵的行列式\n",
    "print(det_arr1)  # 输出 -2.0"
   ]
  },
  {
   "cell_type": "code",
   "execution_count": 168,
   "id": "99b0641b",
   "metadata": {},
   "outputs": [
    {
     "name": "stdout",
     "output_type": "stream",
     "text": [
      "[[ 1.00000000e+00 -2.22044605e-16  5.55111512e-17]\n",
      " [-1.33226763e-15  1.00000000e+00  2.77555756e-16]\n",
      " [-4.44089210e-16  2.22044605e-16  1.00000000e+00]]\n"
     ]
    }
   ],
   "source": [
    "# 计算逆矩阵\n",
    "arr1 = np.mat('1 2 3; 5 6 7; 9 8 5')# 创建一个3 X 3 矩阵\n",
    "arr2 = np.linalg.inv(arr1) # 用linalg下的inv求A的逆矩阵\n",
    "\n",
    "# 验证是否是逆矩阵\n",
    "I = arr1 * arr2  # 矩阵和它的逆矩阵相乘，结果为单位阵\n",
    "print(I)"
   ]
  },
  {
   "cell_type": "code",
   "execution_count": 189,
   "id": "e62b3771",
   "metadata": {},
   "outputs": [
    {
     "name": "stdout",
     "output_type": "stream",
     "text": [
      "矩阵和特征向量的乘积:\n",
      "[[1.78885438]\n",
      " [0.89442719]]\n",
      "特征值和特征向量的乘积:\n",
      "[[1.78885438]\n",
      " [0.89442719]]\n"
     ]
    }
   ],
   "source": [
    "# 计算矩阵的特征值和特征向量\n",
    "import numpy as np\n",
    "\n",
    "A = np.mat('3 -2; 1 0') # 创建 2 X 2矩阵\n",
    "eigvals, eigvecs = np.linalg.eig(A)  # 用两个对象来接收特征值和特征向量\n",
    "\n",
    "# 证明特征值正确：Ax=ax\n",
    "print(\"矩阵和特征向量的乘积:\")\n",
    "print(A * eigvecs[:, 0], end = \"\\n\")  # 计算矩阵和特征向量的乘积\n",
    "print(\"特征值和特征向量的乘积:\")\n",
    "print(eigvals[0] * eigvecs[:, 0], end = \"\\n\") # 计算特征值和特征向量的乘积"
   ]
  },
  {
   "cell_type": "code",
   "execution_count": 182,
   "id": "f633f694",
   "metadata": {},
   "outputs": [
    {
     "name": "stdout",
     "output_type": "stream",
     "text": [
      "矩阵U,S和V分别为：\n",
      "[[ 0.99700687 -0.07731296]\n",
      " [ 0.07731296  0.99700687]]\n",
      "[[15.1938473  0.       ]\n",
      " [ 0.         9.3886636]]\n",
      "[[ 0.22738799  0.29247652  0.92884454]\n",
      " [ 0.61245163 -0.78452198  0.09709926]\n",
      " [-0.75709821 -0.54679315  0.3575186 ]]\n",
      "正交矩阵U和V与其转置矩阵的乘积：\n",
      "[[1.00000000e+00 5.74099638e-18]\n",
      " [5.74099638e-18 1.00000000e+00]]\n",
      "[[ 1.00000000e+00 -1.93291601e-16  2.20009373e-16]\n",
      " [-1.93291601e-16  1.00000000e+00  3.89452085e-17]\n",
      " [ 2.20009373e-16  3.89452085e-17  1.00000000e+00]]\n"
     ]
    }
   ],
   "source": [
    "# 奇异值分解与广义逆矩阵\n",
    "# 正交矩阵：对于一个满足特定条件的矩阵M，可以被分解为三个矩阵的乘积，M=USV，其中U和V都是正交矩阵（U*U^T=I，某矩阵与其转置相乘等于单位矩阵）\n",
    "# 返回值：U，S主对角线上的元素，V\n",
    "\n",
    "M = np.mat('3 5 14; 6 -7 2')# 建立1个2 X 3的矩阵\n",
    "\n",
    "U, s, V = np.linalg.svd(M)\n",
    "S = np.diag(s)  # 以参数数组s作为对角线得到一个矩阵（其余空位补充0）\n",
    "print(\"矩阵U,S和V分别为：\",U, S, V, sep= \"\\n\")\n",
    "\n",
    "# 验证，U、V乘上转置应该的单位矩阵\n",
    "print(\"正交矩阵U和V与其转置矩阵的乘积：\",U*U.T, V*V.T, sep= \"\\n\")"
   ]
  },
  {
   "cell_type": "code",
   "execution_count": 190,
   "id": "9147ccc2",
   "metadata": {},
   "outputs": [
    {
     "name": "stdout",
     "output_type": "stream",
     "text": [
      "鸡：10.0，兔：17.0\n"
     ]
    }
   ],
   "source": [
    "# 9-1 鸡兔同笼问题，求二元一次方程组\n",
    "import numpy as np\n",
    "from numpy.linalg import solve\n",
    "\n",
    "heads,foots=27,88\n",
    "A=np.array([[1,1],[2,4]]) #方程组的系数矩阵\n",
    "b=np.array([heads,foots]) #方程组右侧的常数矩阵\n",
    "X=solve(A,b)\n",
    "print(\"鸡：{}，兔：{}\".format(X[0],X[1])) # 输出 鸡：10.0，兔：17.0"
   ]
  },
  {
   "cell_type": "code",
   "execution_count": 220,
   "id": "d6cd5a2c",
   "metadata": {},
   "outputs": [
    {
     "name": "stdout",
     "output_type": "stream",
     "text": [
      "37\n"
     ]
    }
   ],
   "source": [
    "# numpy.polynomial模块在多项式中的应用\n",
    "import numpy as np\n",
    "\n",
    "A = np.array([2, 1, 0, -2, 1]) # 系数数字，没有出现的系数用0补齐\n",
    "f = np.poly1d(A) # 多项式的数学表达式f(x)= 2x^4+ x^3 -2x +1 \n",
    "print(f(2)) # 输出 37，表示x=2时多项式的值"
   ]
  },
  {
   "cell_type": "code",
   "execution_count": 200,
   "id": "8e3df4c9",
   "metadata": {},
   "outputs": [
    {
     "data": {
      "text/plain": [
       "array([ 2, 37])"
      ]
     },
     "execution_count": 200,
     "metadata": {},
     "output_type": "execute_result"
    }
   ],
   "source": [
    "#利用np.polyval()计算多项式在多个点的值\n",
    "\n",
    "A = np.array([2, 1, 0, -2, 1]) # 系数数字，没有出现的系数用0补齐\n",
    "f = np.poly1d(A) # 多项式的数学表达式f(x)= 2x^4+ x^3 -2x +1 \n",
    "np.polyval(f,[1,2]) # 输出 array([ 2, 37])"
   ]
  },
  {
   "cell_type": "code",
   "execution_count": 243,
   "id": "3cb14891",
   "metadata": {},
   "outputs": [
    {
     "name": "stdout",
     "output_type": "stream",
     "text": [
      "   3     2\n",
      "8 x + 3 x - 2\n"
     ]
    }
   ],
   "source": [
    "#利用np.polyder()求多项式的导数\n",
    "\n",
    "A = np.array([2, 1, 0, -2, 1]) # 系数数字，没有出现的系数用0补齐\n",
    "f = np.poly1d(A) # 多项式的数学表达式f(x)= 2x^4+ x^3 -2x +1 \n",
    "f1 = np.polyder(f, 1)# 求多项式f的一阶导\n",
    "print( f1) # 输出 8x^3+ 3x^2-2"
   ]
  },
  {
   "cell_type": "code",
   "execution_count": 219,
   "id": "3a3f9611",
   "metadata": {},
   "outputs": [
    {
     "name": "stdout",
     "output_type": "stream",
     "text": [
      "     5        4     2\n",
      "0.4 x + 0.25 x - 1 x + 1 x\n"
     ]
    }
   ],
   "source": [
    "#利用np.polyint()计算多项式的积分\n",
    "A = np.array([2, 1, 0, -2, 1]) # 系数数字，没有出现的系数用0补齐\n",
    "f = np.poly1d(A) # 多项式的数学表达式f(x)= 2x^4 + x^3 - 2x + 1 \n",
    "f2 = np.polyint(f,1) # 计算多项式积分\n",
    "print(f2) # 输出 0.4x^5 + 0.25x^4 - x^2 + x"
   ]
  },
  {
   "cell_type": "code",
   "execution_count": 244,
   "id": "6e104954",
   "metadata": {},
   "outputs": [
    {
     "name": "stdout",
     "output_type": "stream",
     "text": [
      "   4     3     2\n",
      "2 x + 3 x + 1 x + 2 x + 6\n"
     ]
    }
   ],
   "source": [
    "#利用np.polyadd()计算多项式的和\n",
    "f1 = np.poly1d(np.array([2, 1, 0, -2, 1])) # 多项式的数学表达式f3(x)= 2x^4+ x^3 -2x +1 \n",
    "f2 = np.poly1d(np.array([2,1,4,5]))# 多项式的数学表达式f4(x)= 2x^3+ x^2 +4x +1\n",
    "f = np.polyadd(f3, f4) \n",
    "print(f) #输出 2x^4 + 3x^3 + x^2 + 2x +6"
   ]
  },
  {
   "cell_type": "code",
   "execution_count": 246,
   "id": "a9b3f903",
   "metadata": {},
   "outputs": [
    {
     "name": "stdout",
     "output_type": "stream",
     "text": [
      "   4     3     2\n",
      "2 x - 1 x - 1 x - 6 x - 4\n"
     ]
    }
   ],
   "source": [
    "# 利用np.polysub()计算多项式的差\n",
    "f1 = np.poly1d(np.array([2, 1, 0, -2, 1])) # 多项式的数学表达式f3(x)= 2x^4+ x^3 -2x +1 \n",
    "f2 = np.poly1d(np.array([2,1,4,5]))# 多项式的数学表达式f4(x)= 2x^3+ x^2 +4x +1\n",
    "f = np.polysub(f3, f4)\n",
    "print(f) # 2x^4 - x^3 -x^2 -6x -4"
   ]
  },
  {
   "cell_type": "code",
   "execution_count": 233,
   "id": "02894144",
   "metadata": {},
   "outputs": [
    {
     "name": "stdout",
     "output_type": "stream",
     "text": [
      "   7     6     5      4     3     2\n",
      "4 x + 4 x + 9 x + 10 x + 5 x - 7 x - 6 x + 5\n"
     ]
    }
   ],
   "source": [
    "# 利用np.polymul()计算多项式的积\n",
    "f1 = np.poly1d(np.array([2, 1, 0, -2, 1])) # 多项式的数学表达式f3(x)= 2x^4+ x^3 -2x +1 \n",
    "f2 = np.poly1d(np.array([2,1,4,5]))# 多项式的数学表达式f4(x)= 2x^3+ x^2 +4x +1\n",
    "f = np.polymul(f3, f4)\n",
    "print(f) #输出 4x^7+4x^6+9x^5+10x^4+5x^3-7x^2-6x+5"
   ]
  },
  {
   "cell_type": "code",
   "execution_count": 234,
   "id": "b53d539c",
   "metadata": {},
   "outputs": [
    {
     "name": "stdout",
     "output_type": "stream",
     "text": [
      "(poly1d([1., 0.]), poly1d([-4., -7.,  1.]))\n"
     ]
    }
   ],
   "source": [
    "# 利用np.polydiv()计算多项式的商\n",
    "f1 = np.poly1d(np.array([2, 1, 0, -2, 1])) # 多项式的数学表达式f3(x)= 2x^4+ x^3 -2x +1 \n",
    "f2 = np.poly1d(np.array([2,1,4,5]))# 多项式的数学表达式f4(x)= 2x^3+ x^2 +4x +1\n",
    "f = np.polydiv(f3, f4) # 计算多项式的商\n",
    "print(f) # 输出 商为 x,余数为-4x^2-7x+1"
   ]
  },
  {
   "cell_type": "code",
   "execution_count": 242,
   "id": "80f59a93",
   "metadata": {},
   "outputs": [
    {
     "name": "stdout",
     "output_type": "stream",
     "text": [
      "[2.09130512 4.13220938 5.00909924]\n"
     ]
    },
    {
     "data": {
      "image/png": "[encoded data removed]",
      "text/plain": [
       "<Figure size 640x480 with 1 Axes>"
      ]
     },
     "metadata": {},
     "output_type": "display_data"
    }
   ],
   "source": [
    "# 利用np.polyfit()进行多项式的拟合\n",
    "import numpy as np\n",
    "import matplotlib.pyplot as plt\n",
    "\n",
    "x = np.linspace(0, 10, 100)\n",
    "y = 2 * x * x + 5 * x + 4 + np.random.normal(0, 5, 100)\n",
    "\n",
    "coefficients = np.polyfit(x, y, 2) # 使用二次多项式拟合\n",
    "print(coefficients) # 输出系数 \n",
    "polynomial = np.poly1d(coefficients)\n",
    "\n",
    "# 绘制原始数据和拟合曲线\n",
    "plt.scatter(x, y, label='Data points')\n",
    "plt.plot(x, polynomial(x), label='Fitted Quadratic', color='red')\n",
    "plt.legend() # 添加图例\n",
    "plt.show()"
   ]
  },
  {
   "cell_type": "markdown",
   "id": "9c429e1a",
   "metadata": {},
   "source": [
    "## numpy数组的加载与存储"
   ]
  },
  {
   "cell_type": "code",
   "execution_count": 271,
   "id": "f17836f0",
   "metadata": {},
   "outputs": [
    {
     "name": "stdout",
     "output_type": "stream",
     "text": [
      "数组已保存为 'data.npy'\n"
     ]
    }
   ],
   "source": [
    "# np.save()应用示例\n",
    "import numpy as np\n",
    "\n",
    "data = np.array([[1, 2], [3, 4]]) # 创建一个数组\n",
    "np.save('data.npy', data) # 保存为.npy文件\n",
    "print(\"数组已保存为 'data.npy'\")"
   ]
  },
  {
   "cell_type": "code",
   "execution_count": 272,
   "id": "3b875075",
   "metadata": {},
   "outputs": [
    {
     "name": "stdout",
     "output_type": "stream",
     "text": [
      "加载的数组： [[1 2]\n",
      " [3 4]]\n"
     ]
    }
   ],
   "source": [
    "#np.load()方法应用示例\n",
    "import numpy as np\n",
    "\n",
    "data = np.load(\"data.npy\") # 加载单个数组\n",
    "print(\"加载的数组：\", data)"
   ]
  },
  {
   "cell_type": "code",
   "execution_count": 262,
   "id": "dc0d8820",
   "metadata": {},
   "outputs": [
    {
     "name": "stdout",
     "output_type": "stream",
     "text": [
      "从二进制文件读取的数据： [3.3 4.4 5.5]\n"
     ]
    }
   ],
   "source": [
    "# np.fromfile()应用示例\n",
    "import numpy as np\n",
    "\n",
    "# 创建一个数组并保存为二进制文件\n",
    "data = np.array([1.1, 2.2, 3.3, 4.4, 5.5], dtype=np.float32)\n",
    "data.tofile('data.npy')\n",
    "\n",
    "loaded_data = np.fromfile('data.npy', dtype=np.float32, offset=2*4)# 从二进制文件读取数据\n",
    "print(\"从二进制文件读取的数据：\", loaded_data)"
   ]
  },
  {
   "cell_type": "code",
   "execution_count": null,
   "id": "8fabac52",
   "metadata": {},
   "outputs": [],
   "source": [
    "#np.savez()应用示例\n",
    "\n",
    "arr1 = np.array([1, 2, 3]) # 创建多个数组\n",
    "arr2 = np.array([4, 5, 6]) \n",
    "\n",
    "np.savez('arrays.npz', array1=arr1, array2=arr2) # 保存为 .npz 文件\n",
    "print(\"多个数组已保存为 'arrays.npz' 文件\")"
   ]
  },
  {
   "cell_type": "code",
   "execution_count": null,
   "id": "898cc482",
   "metadata": {},
   "outputs": [],
   "source": [
    "# np. savez_compressed()应用示例\n",
    "arr1 = np.array([1, 2, 3]) # 创建多个数组\n",
    "arr2 = np.array([4, 5, 6]) \n",
    "\n",
    "np.savez_compressed('arrays_compressed.npz', array1=arr1, array2=arr2)\n",
    "print(\"多个数组已保存为 'arrays_compressed.npz' 文件\")"
   ]
  },
  {
   "cell_type": "code",
   "execution_count": 264,
   "id": "33a3851a",
   "metadata": {},
   "outputs": [
    {
     "name": "stdout",
     "output_type": "stream",
     "text": [
      "数组已保存为 'data.bin'\n",
      "数组已保存为 'data.txt'\n"
     ]
    }
   ],
   "source": [
    "#np.ndarray.tofile()应用示例\n",
    "\n",
    "data = np.array([[1, 2], [3, 4]], dtype=np.float32)\n",
    "data.tofile('data.bin') # 以二进制格式保存到文件\n",
    "print(\"数组已保存为 'data.bin'\")\n",
    "\n",
    "data.tofile('data.txt', sep=',') # 以文本格式保存到文件，并指定格式\n",
    "print(\"数组已保存为 'data.txt'\")"
   ]
  },
  {
   "cell_type": "markdown",
   "id": "e215af48",
   "metadata": {},
   "source": [
    "## 文本文件加载与存储 "
   ]
  },
  {
   "cell_type": "code",
   "execution_count": 266,
   "id": "3912c2f2",
   "metadata": {},
   "outputs": [
    {
     "name": "stdout",
     "output_type": "stream",
     "text": [
      "从 CSV 文件加载的数据： [[1. 2. 3.]\n",
      " [4. 5. 6.]\n",
      " [7. 8. 9.]]\n"
     ]
    }
   ],
   "source": [
    "# np.loadtxt()方法示例\n",
    "import numpy as np\n",
    "\n",
    "with open('data.csv', 'w') as f: # 创建一个 CSV 文件并写入数据\n",
    "    f.write('1,2,3\\n4,5,6\\n7,8,9')\n",
    "\n",
    "data = np.loadtxt('data.csv', delimiter=',') # 从 CSV 文件加载数据\n",
    "print(\"从 CSV 文件加载的数据：\", data)"
   ]
  },
  {
   "cell_type": "code",
   "execution_count": 268,
   "id": "3cf14adc",
   "metadata": {},
   "outputs": [
    {
     "name": "stdout",
     "output_type": "stream",
     "text": [
      "数组已保存为 'data.csv'\n"
     ]
    }
   ],
   "source": [
    "#np.savetxt()方法示例\n",
    "\n",
    "data = np.array([[1, 2, 3], [4, 5, 6], [7, 8, 9]]) # 创建一个数组\n",
    "np.savetxt('data.csv', data, fmt='%d', delimiter=',', newline='\\n', header='col1,col2,col3', comments='')\n",
    "print(\"数组已保存为 'data.csv'\")"
   ]
  },
  {
   "cell_type": "code",
   "execution_count": 269,
   "id": "52e41e15",
   "metadata": {},
   "outputs": [
    {
     "name": "stdout",
     "output_type": "stream",
     "text": [
      "[[ 1.  2.  3.]\n",
      " [ 4. nan  6.]\n",
      " [ 7.  8.  9.]]\n"
     ]
    }
   ],
   "source": [
    "#np.genfromtxt()方法示例\n",
    "\n",
    "with open('data_with_missing_values.csv', 'w') as f: # 创建一个包含缺失值的CSV文件并写入数据\n",
    "    f.write('1,2,3\\n4,,6\\n7,8,9')\n",
    "\n",
    "# 使用 genfromtxt 加载包含缺失值的CSV文件\n",
    "data = np.genfromtxt('data_with_missing_values.csv', delimiter=',', missing_values='NA', filling_values=np.nan)\n",
    "print(data)"
   ]
  },
  {
   "cell_type": "code",
   "execution_count": 163,
   "id": "33716298",
   "metadata": {},
   "outputs": [
    {
     "name": "stdout",
     "output_type": "stream",
     "text": [
      "p = 0.732118\n",
      "The null hypothesis cannot be rejected\n"
     ]
    }
   ],
   "source": [
    "import scipy \n",
    "# from scipy import stats\n",
    "import numpy as np\n",
    "\n",
    "# 生成正态分布样本\n",
    "data = np.random.normal(loc=0, scale=1, size=1000)\n",
    "# 进行正态性检验 (Kolmogorov-Smirnov test)\n",
    "k2, p = stats.normaltest(data)\n",
    "alpha = 1e-3\n",
    "print(\"p = {:g}\".format(p))\n",
    "\n",
    "# 零假设：x属于正态分布\n",
    "if p < alpha:\n",
    "    print(\"The null hypothesis can be rejected\")\n",
    "else:\n",
    "    print(\"The null hypothesis cannot be rejected\")"
   ]
  },
  {
   "cell_type": "code",
   "execution_count": 7,
   "id": "47578274",
   "metadata": {},
   "outputs": [
    {
     "ename": "ValueError",
     "evalue": "shapes (5,5) and (3,) not aligned: 5 (dim 1) != 3 (dim 0)",
     "output_type": "error",
     "traceback": [
      "\u001b[1;31m---------------------------------------------------------------------------\u001b[0m",
      "\u001b[1;31mValueError\u001b[0m                                Traceback (most recent call last)",
      "Cell \u001b[1;32mIn[7], line 33\u001b[0m\n\u001b[0;32m     30\u001b[0m target_return \u001b[38;5;241m=\u001b[39m \u001b[38;5;241m0.10\u001b[39m\n\u001b[0;32m     32\u001b[0m \u001b[38;5;66;03m# 使用SciPy的minimize函数来求解优化问题\u001b[39;00m\n\u001b[1;32m---> 33\u001b[0m optimized_result \u001b[38;5;241m=\u001b[39m minimize(minimize_risk, \u001b[38;5;28mlen\u001b[39m(mean_returns) \u001b[38;5;241m*\u001b[39m [\u001b[38;5;241m1.\u001b[39m \u001b[38;5;241m/\u001b[39m \u001b[38;5;28mlen\u001b[39m(mean_returns),], \\\n\u001b[0;32m     34\u001b[0m                             args\u001b[38;5;241m=\u001b[39m(mean_returns, cov_matrix,target_return),method\u001b[38;5;241m=\u001b[39m\u001b[38;5;124m'\u001b[39m\u001b[38;5;124mSLSQP\u001b[39m\u001b[38;5;124m'\u001b[39m, \\\n\u001b[0;32m     35\u001b[0m                             bounds\u001b[38;5;241m=\u001b[39mbounds, constraints\u001b[38;5;241m=\u001b[39mconstraints)\n\u001b[0;32m     37\u001b[0m \u001b[38;5;66;03m# 输出最优权重和对应的风险\u001b[39;00m\n\u001b[0;32m     38\u001b[0m optimized_weights \u001b[38;5;241m=\u001b[39m optimized_result\u001b[38;5;241m.\u001b[39mx\n",
      "File \u001b[1;32m~\\anaconda3\\Lib\\site-packages\\scipy\\optimize\\_minimize.py:750\u001b[0m, in \u001b[0;36mminimize\u001b[1;34m(fun, x0, args, method, jac, hess, hessp, bounds, constraints, tol, callback, options)\u001b[0m\n\u001b[0;32m    747\u001b[0m     res \u001b[38;5;241m=\u001b[39m _minimize_cobyqa(fun, x0, args, bounds, constraints, callback,\n\u001b[0;32m    748\u001b[0m                            \u001b[38;5;241m*\u001b[39m\u001b[38;5;241m*\u001b[39moptions)\n\u001b[0;32m    749\u001b[0m \u001b[38;5;28;01melif\u001b[39;00m meth \u001b[38;5;241m==\u001b[39m \u001b[38;5;124m'\u001b[39m\u001b[38;5;124mslsqp\u001b[39m\u001b[38;5;124m'\u001b[39m:\n\u001b[1;32m--> 750\u001b[0m     res \u001b[38;5;241m=\u001b[39m _minimize_slsqp(fun, x0, args, jac, bounds,\n\u001b[0;32m    751\u001b[0m                           constraints, callback\u001b[38;5;241m=\u001b[39mcallback, \u001b[38;5;241m*\u001b[39m\u001b[38;5;241m*\u001b[39moptions)\n\u001b[0;32m    752\u001b[0m \u001b[38;5;28;01melif\u001b[39;00m meth \u001b[38;5;241m==\u001b[39m \u001b[38;5;124m'\u001b[39m\u001b[38;5;124mtrust-constr\u001b[39m\u001b[38;5;124m'\u001b[39m:\n\u001b[0;32m    753\u001b[0m     res \u001b[38;5;241m=\u001b[39m _minimize_trustregion_constr(fun, x0, args, jac, hess, hessp,\n\u001b[0;32m    754\u001b[0m                                        bounds, constraints,\n\u001b[0;32m    755\u001b[0m                                        callback\u001b[38;5;241m=\u001b[39mcallback, \u001b[38;5;241m*\u001b[39m\u001b[38;5;241m*\u001b[39moptions)\n",
      "File \u001b[1;32m~\\anaconda3\\Lib\\site-packages\\scipy\\optimize\\_slsqp_py.py:381\u001b[0m, in \u001b[0;36m_minimize_slsqp\u001b[1;34m(func, x0, args, jac, bounds, constraints, maxiter, ftol, iprint, disp, eps, callback, finite_diff_rel_step, **unknown_options)\u001b[0m\n\u001b[0;32m    378\u001b[0m     xu[infbnd[:, \u001b[38;5;241m1\u001b[39m]] \u001b[38;5;241m=\u001b[39m np\u001b[38;5;241m.\u001b[39mnan\n\u001b[0;32m    380\u001b[0m \u001b[38;5;66;03m# ScalarFunction provides function and gradient evaluation\u001b[39;00m\n\u001b[1;32m--> 381\u001b[0m sf \u001b[38;5;241m=\u001b[39m _prepare_scalar_function(func, x, jac\u001b[38;5;241m=\u001b[39mjac, args\u001b[38;5;241m=\u001b[39margs, epsilon\u001b[38;5;241m=\u001b[39meps,\n\u001b[0;32m    382\u001b[0m                               finite_diff_rel_step\u001b[38;5;241m=\u001b[39mfinite_diff_rel_step,\n\u001b[0;32m    383\u001b[0m                               bounds\u001b[38;5;241m=\u001b[39mnew_bounds)\n\u001b[0;32m    384\u001b[0m \u001b[38;5;66;03m# gh11403 SLSQP sometimes exceeds bounds by 1 or 2 ULP, make sure this\u001b[39;00m\n\u001b[0;32m    385\u001b[0m \u001b[38;5;66;03m# doesn't get sent to the func/grad evaluator.\u001b[39;00m\n\u001b[0;32m    386\u001b[0m wrapped_fun \u001b[38;5;241m=\u001b[39m _clip_x_for_func(sf\u001b[38;5;241m.\u001b[39mfun, new_bounds)\n",
      "File \u001b[1;32m~\\anaconda3\\Lib\\site-packages\\scipy\\optimize\\_optimize.py:291\u001b[0m, in \u001b[0;36m_prepare_scalar_function\u001b[1;34m(fun, x0, jac, args, bounds, epsilon, finite_diff_rel_step, hess)\u001b[0m\n\u001b[0;32m    287\u001b[0m     bounds \u001b[38;5;241m=\u001b[39m (\u001b[38;5;241m-\u001b[39mnp\u001b[38;5;241m.\u001b[39minf, np\u001b[38;5;241m.\u001b[39minf)\n\u001b[0;32m    289\u001b[0m \u001b[38;5;66;03m# ScalarFunction caches. Reuse of fun(x) during grad\u001b[39;00m\n\u001b[0;32m    290\u001b[0m \u001b[38;5;66;03m# calculation reduces overall function evaluations.\u001b[39;00m\n\u001b[1;32m--> 291\u001b[0m sf \u001b[38;5;241m=\u001b[39m ScalarFunction(fun, x0, args, grad, hess,\n\u001b[0;32m    292\u001b[0m                     finite_diff_rel_step, bounds, epsilon\u001b[38;5;241m=\u001b[39mepsilon)\n\u001b[0;32m    294\u001b[0m \u001b[38;5;28;01mreturn\u001b[39;00m sf\n",
      "File \u001b[1;32m~\\anaconda3\\Lib\\site-packages\\scipy\\optimize\\_differentiable_functions.py:223\u001b[0m, in \u001b[0;36mScalarFunction.__init__\u001b[1;34m(self, fun, x0, args, grad, hess, finite_diff_rel_step, finite_diff_bounds, epsilon)\u001b[0m\n\u001b[0;32m    220\u001b[0m     finite_diff_options[\u001b[38;5;124m\"\u001b[39m\u001b[38;5;124mas_linear_operator\u001b[39m\u001b[38;5;124m\"\u001b[39m] \u001b[38;5;241m=\u001b[39m \u001b[38;5;28;01mTrue\u001b[39;00m\n\u001b[0;32m    222\u001b[0m \u001b[38;5;66;03m# Initial function evaluation\u001b[39;00m\n\u001b[1;32m--> 223\u001b[0m \u001b[38;5;28mself\u001b[39m\u001b[38;5;241m.\u001b[39m_update_fun()\n\u001b[0;32m    225\u001b[0m \u001b[38;5;66;03m# Initial gradient evaluation\u001b[39;00m\n\u001b[0;32m    226\u001b[0m \u001b[38;5;28mself\u001b[39m\u001b[38;5;241m.\u001b[39m_wrapped_grad, \u001b[38;5;28mself\u001b[39m\u001b[38;5;241m.\u001b[39m_ngev \u001b[38;5;241m=\u001b[39m _wrapper_grad(\n\u001b[0;32m    227\u001b[0m     grad,\n\u001b[0;32m    228\u001b[0m     fun\u001b[38;5;241m=\u001b[39m\u001b[38;5;28mself\u001b[39m\u001b[38;5;241m.\u001b[39m_wrapped_fun,\n\u001b[0;32m    229\u001b[0m     args\u001b[38;5;241m=\u001b[39margs,\n\u001b[0;32m    230\u001b[0m     finite_diff_options\u001b[38;5;241m=\u001b[39mfinite_diff_options\n\u001b[0;32m    231\u001b[0m )\n",
      "File \u001b[1;32m~\\anaconda3\\Lib\\site-packages\\scipy\\optimize\\_differentiable_functions.py:295\u001b[0m, in \u001b[0;36mScalarFunction._update_fun\u001b[1;34m(self)\u001b[0m\n\u001b[0;32m    293\u001b[0m \u001b[38;5;28;01mdef\u001b[39;00m \u001b[38;5;21m_update_fun\u001b[39m(\u001b[38;5;28mself\u001b[39m):\n\u001b[0;32m    294\u001b[0m     \u001b[38;5;28;01mif\u001b[39;00m \u001b[38;5;129;01mnot\u001b[39;00m \u001b[38;5;28mself\u001b[39m\u001b[38;5;241m.\u001b[39mf_updated:\n\u001b[1;32m--> 295\u001b[0m         fx \u001b[38;5;241m=\u001b[39m \u001b[38;5;28mself\u001b[39m\u001b[38;5;241m.\u001b[39m_wrapped_fun(\u001b[38;5;28mself\u001b[39m\u001b[38;5;241m.\u001b[39mx)\n\u001b[0;32m    296\u001b[0m         \u001b[38;5;28;01mif\u001b[39;00m fx \u001b[38;5;241m<\u001b[39m \u001b[38;5;28mself\u001b[39m\u001b[38;5;241m.\u001b[39m_lowest_f:\n\u001b[0;32m    297\u001b[0m             \u001b[38;5;28mself\u001b[39m\u001b[38;5;241m.\u001b[39m_lowest_x \u001b[38;5;241m=\u001b[39m \u001b[38;5;28mself\u001b[39m\u001b[38;5;241m.\u001b[39mx\n",
      "File \u001b[1;32m~\\anaconda3\\Lib\\site-packages\\scipy\\optimize\\_differentiable_functions.py:21\u001b[0m, in \u001b[0;36m_wrapper_fun.<locals>.wrapped\u001b[1;34m(x)\u001b[0m\n\u001b[0;32m     17\u001b[0m ncalls[\u001b[38;5;241m0\u001b[39m] \u001b[38;5;241m+\u001b[39m\u001b[38;5;241m=\u001b[39m \u001b[38;5;241m1\u001b[39m\n\u001b[0;32m     18\u001b[0m \u001b[38;5;66;03m# Send a copy because the user may overwrite it.\u001b[39;00m\n\u001b[0;32m     19\u001b[0m \u001b[38;5;66;03m# Overwriting results in undefined behaviour because\u001b[39;00m\n\u001b[0;32m     20\u001b[0m \u001b[38;5;66;03m# fun(self.x) will change self.x, with the two no longer linked.\u001b[39;00m\n\u001b[1;32m---> 21\u001b[0m fx \u001b[38;5;241m=\u001b[39m fun(np\u001b[38;5;241m.\u001b[39mcopy(x), \u001b[38;5;241m*\u001b[39margs)\n\u001b[0;32m     22\u001b[0m \u001b[38;5;66;03m# Make sure the function returns a true scalar\u001b[39;00m\n\u001b[0;32m     23\u001b[0m \u001b[38;5;28;01mif\u001b[39;00m \u001b[38;5;129;01mnot\u001b[39;00m np\u001b[38;5;241m.\u001b[39misscalar(fx):\n",
      "Cell \u001b[1;32mIn[7], line 24\u001b[0m, in \u001b[0;36mminimize_risk\u001b[1;34m(weights, mean_returns, cov_matrix, target_return)\u001b[0m\n\u001b[0;32m     23\u001b[0m \u001b[38;5;28;01mdef\u001b[39;00m \u001b[38;5;21mminimize_risk\u001b[39m(weights, mean_returns, cov_matrix, target_return):\n\u001b[1;32m---> 24\u001b[0m     \u001b[38;5;28;01mreturn\u001b[39;00m portfolio_stddev(weights, cov_matrix)\n",
      "Cell \u001b[1;32mIn[7], line 20\u001b[0m, in \u001b[0;36mportfolio_stddev\u001b[1;34m(weights, cov_matrix)\u001b[0m\n\u001b[0;32m     19\u001b[0m \u001b[38;5;28;01mdef\u001b[39;00m \u001b[38;5;21mportfolio_stddev\u001b[39m(weights, cov_matrix):\n\u001b[1;32m---> 20\u001b[0m     \u001b[38;5;28;01mreturn\u001b[39;00m np\u001b[38;5;241m.\u001b[39msqrt(np\u001b[38;5;241m.\u001b[39mdot(weights\u001b[38;5;241m.\u001b[39mT, np\u001b[38;5;241m.\u001b[39mdot(cov_matrix, weights)))\n",
      "\u001b[1;31mValueError\u001b[0m: shapes (5,5) and (3,) not aligned: 5 (dim 1) != 3 (dim 0)"
     ]
    }
   ],
   "source": [
    "import numpy as np\n",
    "from scipy.optimize import minimize\n",
    "\n",
    "# 假设我们有3种资产的历史收益率数据\n",
    "historical_returns = np.array([\n",
    "    [0.01, 0.02, -0.01, 0.03, 0.02],\n",
    "    [0.02, 0.01, 0.00, 0.04, -0.01],\n",
    "    [-0.01, 0.03, 0.02, 0.01, 0.00]\n",
    "])\n",
    "\n",
    "# 计算收益率的均值和协方差矩阵\n",
    "mean_returns = np.mean(historical_returns, axis=1)\n",
    "cov_matrix = np.cov(historical_returns, rowvar=False)\n",
    "\n",
    "# 投资组合权重的约束条件：权重之和为1，且每个权重都在0到1之间\n",
    "def portfolio_return(weights, mean_returns):\n",
    "    return np.sum(mean_returns * weights)\n",
    "\n",
    "def portfolio_stddev(weights, cov_matrix):\n",
    "    return np.sqrt(np.dot(weights.T, np.dot(cov_matrix, weights)))\n",
    "\n",
    "# 目标函数：最小化投资组合的风险（标准差），同时满足期望收益率的约束\n",
    "def minimize_risk(weights, mean_returns, cov_matrix, target_return):\n",
    "    return portfolio_stddev(weights, cov_matrix)\n",
    "\n",
    "constraints = ({'type': 'eq', 'fun': lambda weights: np.sum(weights) - 1},)\n",
    "bounds = tuple((0, 1) for asset in range(len(mean_returns)))\n",
    "\n",
    "# 设定目标收益率（例如年化10%）\n",
    "target_return = 0.10\n",
    "\n",
    "# 使用SciPy的minimize函数来求解优化问题\n",
    "optimized_result = minimize(minimize_risk, len(mean_returns) * [1. / len(mean_returns),], \\\n",
    "                            args=(mean_returns, cov_matrix,target_return),method='SLSQP', \\\n",
    "                            bounds=bounds, constraints=constraints)\n",
    "\n",
    "# 输出最优权重和对应的风险\n",
    "optimized_weights = optimized_result.x\n",
    "optimized_risk = optimized_result.fun\n",
    "print(f\"Optimal weights: {optimized_weights}\")\n",
    "print(f\"Risk (standard deviation): {optimized_risk}\")"
   ]
  },
  {
   "cell_type": "code",
   "execution_count": null,
   "id": "c3cccd75",
   "metadata": {},
   "outputs": [],
   "source": []
  }
 ],
 "metadata": {
  "kernelspec": {
   "display_name": "Python 3 (ipykernel)",
   "language": "python",
   "name": "python3"
  },
  "language_info": {
   "codemirror_mode": {
    "name": "ipython",
    "version": 3
   },
   "file_extension": ".py",
   "mimetype": "text/x-python",
   "name": "python",
   "nbconvert_exporter": "python",
   "pygments_lexer": "ipython3",
   "version": "3.11.7"
  }
 },
 "nbformat": 4,
 "nbformat_minor": 5
}
