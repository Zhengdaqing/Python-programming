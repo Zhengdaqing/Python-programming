{
 "cells": [
  {
   "cell_type": "markdown",
   "id": "257fe810",
   "metadata": {},
   "source": [
    "## Python文件与异常 "
   ]
  },
  {
   "cell_type": "code",
   "execution_count": 8,
   "id": "11705824-597c-4827-ab84-5d5c780fd7e1",
   "metadata": {},
   "outputs": [
    {
     "name": "stdout",
     "output_type": "stream",
     "text": [
      "['This is a test!', '']\n",
      "['what should I do']\n",
      "Hellow world!\n"
     ]
    }
   ],
   "source": [
    "import csv\n",
    "\n",
    "with open('example.csv', 'r') as file:\n",
    "    csv_reader = csv.reader(file)\n",
    "    for row in csv_reader:\n",
    "        print(row)\n",
    "print('Hellow world!')        "
   ]
  },
  {
   "cell_type": "code",
   "execution_count": 7,
   "id": "b69fa9e8-faee-442c-ac71-054aa9c3a9da",
   "metadata": {},
   "outputs": [
    {
     "name": "stdout",
     "output_type": "stream",
     "text": [
      "['国家', '2019年GDP(亿美元)', '2019年人均GDP(美元)']\n",
      "['美国', '21433226', '65112']\n",
      "['中国', '14342903', '10261']\n",
      "['日本', '5081770', '40259']\n"
     ]
    }
   ],
   "source": [
    "import csv\n",
    "\n",
    "# 待写入的数据列表\n",
    "data = [\n",
    "    ['国家', '2019年GDP(亿美元)', '2019年人均GDP(美元)'],\n",
    "    ['美国', 21433226, 65112],\n",
    "    ['中国', 14342903, 10261],\n",
    "    ['日本', 5081770, 40259]]\n",
    "\n",
    "# 打开CSV文件\n",
    "with open('example.csv', 'w', newline='', encoding = 'gbk') as csvfile:\n",
    "    csv_writer = csv.writer(csvfile)\n",
    "    # 写入数据\n",
    "    for row in data:\n",
    "        csv_writer.writerow(row)\n",
    "        \n",
    "with open('example.csv', 'r', newline='', encoding= 'gbk') as csvfile:\n",
    "    reader = csv.reader(csvfile)\n",
    "    for row in reader:\n",
    "        print(row)"
   ]
  },
  {
   "cell_type": "code",
   "execution_count": null,
   "id": "61523d63-7b4f-4cbd-9e1b-9012065f1458",
   "metadata": {},
   "outputs": [],
   "source": [
    "with open (\"vCard.json\", \"r+\") as f:\n",
    "    f.read(10)\n",
    "    f.tell()\n",
    "    f.read()\n",
    "    f.tell()\n",
    "    "
   ]
  },
  {
   "cell_type": "code",
   "execution_count": 1,
   "id": "14573d7b-e0a4-4c6d-add3-3b88de168faf",
   "metadata": {},
   "outputs": [
    {
     "name": "stdout",
     "output_type": "stream",
     "text": [
      "{'name': '林冲', 'age': 40, 'address': {'street': '水泊梁山', 'city': '山东省济宁市', 'zip': '272600'}, 'hobbies': ['武术', '骑马', '喝酒']}\n",
      "水泊梁山\n",
      "骑马\n"
     ]
    }
   ],
   "source": [
    "# 7.1 JSON数据转化为Python数据类型\n",
    "import json\n",
    "\n",
    "json_string = '''\n",
    "{\n",
    "    \"name\": \"林冲\",\n",
    "    \"age\": 40,\n",
    "    \"address\": {\n",
    "        \"street\": \"水泊梁山\",\n",
    "        \"city\": \"山东省济宁市\",\n",
    "        \"zip\": \"272600\"\n",
    "    },\n",
    "    \"hobbies\": [\"武术\", \"骑马\", \"喝酒\"]\n",
    "}\n",
    "'''\n",
    "\n",
    "data = json.loads(json_string)\n",
    "print(data)  # 输出解析后的数据 \n",
    "print(data[\"address\"][\"street\"])  # 访问嵌套字段，输出 水泊梁山\n",
    "print(data[\"hobbies\"][1])  # 访问列表中的元素，输出 骑马"
   ]
  },
  {
   "cell_type": "code",
   "execution_count": 11,
   "id": "bf7fa4b1",
   "metadata": {},
   "outputs": [
    {
     "name": "stdout",
     "output_type": "stream",
     "text": [
      "{'name': '林冲', 'age': 40, 'address': '水泊梁山'}\n"
     ]
    }
   ],
   "source": [
    "# 7.2 JSON数据存储\n",
    "import json\n",
    "\n",
    "data = {\n",
    "    \"name\": \"林冲\",\n",
    "    \"age\": 40,\n",
    "    \"address\": \"水泊梁山\"\n",
    "}\n",
    "\n",
    "with open('output.json', 'w') as file:\n",
    "    json.dump(data, file, indent=4)  # indent 参数用于格式化输出\n",
    "\n",
    "with open('output.json', 'r') as file:\n",
    "    data1 = json.load(file)\n",
    "    print(data1)"
   ]
  },
  {
   "cell_type": "code",
   "execution_count": 4,
   "id": "1b13209a",
   "metadata": {},
   "outputs": [
    {
     "ename": "NameError",
     "evalue": "name 'prin' is not defined",
     "output_type": "error",
     "traceback": [
      "\u001b[1;31m---------------------------------------------------------------------------\u001b[0m",
      "\u001b[1;31mNameError\u001b[0m                                 Traceback (most recent call last)",
      "Cell \u001b[1;32mIn[4], line 1\u001b[0m\n\u001b[1;32m----> 1\u001b[0m prin(\u001b[38;5;124m\"\u001b[39m\u001b[38;5;124mHello, world!\u001b[39m\u001b[38;5;124m\"\u001b[39m)  \u001b[38;5;66;03m# \"print\"拼写错误\u001b[39;00m\n\u001b[0;32m      2\u001b[0m \u001b[38;5;66;03m# 报错信息：NameError: name ‘prin’ is not defined\u001b[39;00m\n\u001b[0;32m      4\u001b[0m \u001b[38;5;28mprint\u001b[39m(\u001b[38;5;241m10\u001b[39m \u001b[38;5;241m/\u001b[39m \u001b[38;5;241m0\u001b[39m)  \u001b[38;5;66;03m# 尝试除以零，产生ZeroDivisionError\u001b[39;00m\n",
      "\u001b[1;31mNameError\u001b[0m: name 'prin' is not defined"
     ]
    }
   ],
   "source": [
    "prin(\"Hello, world!\")  # \"print\"拼写错误\n",
    "# 报错信息：NameError: name ‘prin’ is not defined\n",
    "\n",
    "print(10 / 0)  # 尝试除以零，产生ZeroDivisionError\n",
    "# 报错信息： ZeroDivisionError: division by zero\n",
    "\n",
    "def multiply(a, b):\n",
    "    return a + b  # 逻辑错误：这里应该使用 a * b "
   ]
  },
  {
   "cell_type": "code",
   "execution_count": 5,
   "id": "27d0ab83",
   "metadata": {},
   "outputs": [
    {
     "name": "stdout",
     "output_type": "stream",
     "text": [
      "请输入一段文本:\n",
      "你输入的内容是: \n",
      "请输入多行内容，按 Ctrl+D（Linux/Mac）或 Ctrl+Z（Windows）结束输入:\n",
      "你输入的内容是:\n",
      "\n"
     ]
    }
   ],
   "source": [
    "import sys\n",
    "\n",
    "print(\"请输入一段文本:\")\n",
    "line = sys.stdin.readline()\n",
    "print(f\"你输入的内容是: {line}\")\n",
    "\n",
    "print(\"请输入多行内容，按 Ctrl+D（Linux/Mac）或 Ctrl+Z（Windows）结束输入:\")\n",
    "content = sys.stdin.read()\n",
    "print(\"你输入的内容是:\")\n",
    "print(content)"
   ]
  },
  {
   "cell_type": "code",
   "execution_count": 6,
   "id": "aed5cc68",
   "metadata": {},
   "outputs": [],
   "source": [
    "import sys\n",
    "\n",
    "# 打开文件用于写入\n",
    "with open(\"output.txt\", \"w\") as f:\n",
    "    # 重定向 sys.stdout 到文件\n",
    "    sys.stdout = f\n",
    "    print(\"这是一条输出内容，会被写入文件 output.txt 中\")\n",
    "    sys.stdout.write(\"这也是一条输出内容\\n\")\n",
    "\n",
    "# 恢复标准输出到终端\n",
    "sys.stdout = sys.__stdout__\n",
    "print(\"标准输出已恢复到终端\")"
   ]
  },
  {
   "cell_type": "code",
   "execution_count": null,
   "id": "8f1b05bf",
   "metadata": {},
   "outputs": [],
   "source": []
  },
  {
   "cell_type": "code",
   "execution_count": null,
   "id": "285d7991",
   "metadata": {},
   "outputs": [],
   "source": []
  }
 ],
 "metadata": {
  "kernelspec": {
   "display_name": "Python 3 (ipykernel)",
   "language": "python",
   "name": "python3"
  },
  "language_info": {
   "codemirror_mode": {
    "name": "ipython",
    "version": 3
   },
   "file_extension": ".py",
   "mimetype": "text/x-python",
   "name": "python",
   "nbconvert_exporter": "python",
   "pygments_lexer": "ipython3",
   "version": "3.11.7"
  }
 },
 "nbformat": 4,
 "nbformat_minor": 5
}
