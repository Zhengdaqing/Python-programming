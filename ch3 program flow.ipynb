{
 "cells": [
  {
   "cell_type": "markdown",
   "id": "43661c36-2a80-467f-84fa-692f2170a762",
   "metadata": {},
   "source": [
    "# 第三章 程序流程控制"
   ]
  },
  {
   "cell_type": "code",
   "execution_count": null,
   "id": "234b30f8-7e3d-421d-9f0a-1d748b3c7d2a",
   "metadata": {},
   "outputs": [],
   "source": [
    "a, b = 10, 50\n",
    "print(a>10 and b<100) # 表示a>10并且b<100，结果为False\n",
    "print(a>10 or b<100) # 表示a>10或者b<100,结果为True\n",
    "print(not(a>10 and b<100)) # 将a>10并且b<100的结果取反，最终结果为True"
   ]
  },
  {
   "cell_type": "code",
   "execution_count": null,
   "id": "8ef5a082-b971-4974-8908-d06b4ba3307b",
   "metadata": {},
   "outputs": [],
   "source": [
    "bool(123),bool(\"abc\"),bool((1,2)),bool([0]),bool(0) # (True, True, True, True, False)"
   ]
  },
  {
   "cell_type": "code",
   "execution_count": null,
   "id": "248f639e-31d1-42ca-9c9f-2ebb75031097",
   "metadata": {},
   "outputs": [],
   "source": [
    "bool(1>2),bool(1>2 or 3>2), bool(1<=2 and 3>2) # (False, True, True)"
   ]
  },
  {
   "cell_type": "code",
   "execution_count": 1,
   "id": "8a5ab9e3-c98a-4cb0-bc67-2cdc77c7f1c4",
   "metadata": {},
   "outputs": [
    {
     "name": "stdout",
     "output_type": "stream",
     "text": [
      "Please input the length of side a of a triangle:3\n",
      "Please input the length of side b of a triangle:4\n",
      "Please input the length of side c of a triangle:5\n",
      "the area of a triangle is:6.00\n"
     ]
    }
   ],
   "source": [
    "#ch3-1 输入三角形三条边的长度，计算三角形的面积。\n",
    "import math \n",
    "x = float(input('Please input the length of side a of a triangle:'))\n",
    "y = float(input('Please input the length of side b of a triangle:'))\n",
    "z = float(input('Please input the length of side c of a triangle:'))\n",
    "h = (x+y+z)/2\n",
    "area = math.sqrt(h*(h-x)*(h-y)*(h-z))\n",
    "print('the area of a triangle is:{:.2f}'.format(area))"
   ]
  },
  {
   "cell_type": "code",
   "execution_count": null,
   "id": "d3992235-805b-4064-8f67-895fe60eb0a9",
   "metadata": {},
   "outputs": [],
   "source": [
    "#ch3-2 \n",
    "a = int(input('请输入整数a:')) # 提示输入整数a\n",
    "b = int(input('请输入整数b:')) # 提示输入整数b\n",
    "print('输入值a = {}, b={}'.format(a, b))  # 输出整数a,b\n",
    "if a < b:  # 比较a和b,如果a小于b,则交换a，b的值\n",
    "    a, b = b, a\n",
    "print('比较后的值 a = {}, b={}'.format(a,b)) # 输出整数a，b"
   ]
  },
  {
   "cell_type": "code",
   "execution_count": null,
   "id": "e8422fdd-57fd-4c52-a83d-6671f4b25dd8",
   "metadata": {},
   "outputs": [],
   "source": [
    "#ch3-2 PM2.5空气质量提示\n",
    "PM25 = eval(input('请输入PM2.5数值：'))\n",
    "if 0 <=PM25 <35:\n",
    "    print('空气质量为 优！')\n",
    "if 35<=PM25 <75:\n",
    "    print('空气质量为 良！')\n",
    "if 75<=PM25 < 115:\n",
    "    print('空气质量为 轻度污染！')\n",
    "if 115<=PM25 <150:\n",
    "    print('空气质量为 中度污染！')\n",
    "if 150<=PM25 <250:\n",
    "    print('空气质量为 重度污染！')\n",
    "if 250<=PM25 <500:\n",
    "    print('空气质量为 严重污染！')"
   ]
  },
  {
   "cell_type": "code",
   "execution_count": 3,
   "id": "f96a03d2-6fd7-4aa1-914b-4c06c25302b0",
   "metadata": {},
   "outputs": [
    {
     "name": "stdout",
     "output_type": "stream",
     "text": [
      "Please input the length of side x of a triangle:1\n",
      "Please input the length of side y of a triangle:2\n",
      "Please input the length of side z of a triangle:4\n",
      "The data is wrong!\n"
     ]
    }
   ],
   "source": [
    "#ch3-3 \n",
    "import math\n",
    "x = float(input(\"Please input the length of side x of a triangle:\"))\n",
    "y = float(input(\"Please input the length of side y of a triangle:\"))  \n",
    "z = float(input(\"Please input the length of side z of a triangle:\"))  \n",
    "if (x+y>z and x+z>y and y+z>x and x>0 and y>0 and z>0):\n",
    "    h = (x+y+z)/2\n",
    "    area = math.sqrt(h*(h-x)*(h-y)*(h-z))\n",
    "    print(\"The area of a triangle is: {:.2f}\".format(area))\n",
    "else:\n",
    "    print(\"The data is wrong！\")"
   ]
  },
  {
   "cell_type": "code",
   "execution_count": 4,
   "id": "f8a98214-658e-4459-9519-d200f4cdb45f",
   "metadata": {},
   "outputs": [
    {
     "name": "stdout",
     "output_type": "stream",
     "text": [
      "正数\n"
     ]
    }
   ],
   "source": [
    "num = 5\n",
    "result = \"正数\" if num > 0 else \"负数\"\n",
    "print(result)  # 输出: 正数"
   ]
  },
  {
   "cell_type": "code",
   "execution_count": null,
   "id": "243dcb33-a79d-4b12-bbe8-19eb2e3f6c8e",
   "metadata": {},
   "outputs": [],
   "source": [
    "#ch3-4 采用多分支选择结构实现PM2.5空气质量提示\n",
    "PM25 = eval(input('请输入PM2.5数值：'))\n",
    "if 0 <=PM25 <35:\n",
    "    print('空气质量为 优！')\n",
    "elif 35<=PM25 <75:\n",
    "    print('空气质量为 良！')\n",
    "elif 75<=PM25 < 115:\n",
    "    print('空气质量为 轻度污染！')\n",
    "elif 115<=PM25 <150:\n",
    "    print('空气质量为 中度污染！')\n",
    "elif 150<=PM25 <250:\n",
    "    print('空气质量为 重度污染！')\n",
    "elif 250<=PM25 <500:\n",
    "    print('空气质量为 严重污染！')\n",
    "else: print('空气质量爆表！')"
   ]
  },
  {
   "cell_type": "code",
   "execution_count": 8,
   "id": "20542744-2522-43d5-9047-0fb06c77664e",
   "metadata": {},
   "outputs": [
    {
     "name": "stdout",
     "output_type": "stream",
     "text": [
      "请输入一个3位正整数：32\n",
      "输入的数据不符合要求！\n"
     ]
    }
   ],
   "source": [
    "#ch3-5 使用键盘输入一个3位的正整数，输出其中的最大1位数\n",
    "st = input(\"请输入一个3位正整数：\")\n",
    "if len(st)==3:\n",
    "    a = int(st[0])\n",
    "    b = int(st[1])\n",
    "    c = int(st[2])\n",
    "    \n",
    "    if a>=b:\n",
    "        if a>c:\n",
    "            max_num = a\n",
    "        else:\n",
    "            max_num = c\n",
    "    else:\n",
    "        if b>=c:\n",
    "            max_num = b\n",
    "        else:\n",
    "            max_num = c\n",
    "    print(st + '中最大的1位数字是：',  max_num)\n",
    "else:\n",
    "    print(\"输入的数据不符合要求！\")"
   ]
  },
  {
   "cell_type": "code",
   "execution_count": 1,
   "id": "66a26cb5",
   "metadata": {},
   "outputs": [
    {
     "name": "stdout",
     "output_type": "stream",
     "text": [
      "sum= 5050\n"
     ]
    }
   ],
   "source": [
    "#ch3-6\n",
    "sum = 0\n",
    "i = 1\n",
    "while i<=100:\n",
    "    sum = sum + i \n",
    "    i = i +1\n",
    "print(\"sum=\", sum)"
   ]
  },
  {
   "cell_type": "code",
   "execution_count": 1,
   "id": "a3bf5642",
   "metadata": {},
   "outputs": [
    {
     "name": "stdout",
     "output_type": "stream",
     "text": [
      "请输入一个实数：3\n",
      "1 2.0\n",
      "2 1.75\n",
      "3 1.7321428571428572\n",
      "4 1.7320508100147274\n",
      "算术平方根为： 1.7320508100147274\n",
      "sqrt函数求出的算术平方根为： 1.7320508075688772\n"
     ]
    }
   ],
   "source": [
    "#ch3-7\n",
    "import math\n",
    "x = float (input(\"请输入一个实数：\"))\n",
    "n = 0\n",
    "y = 1.0\n",
    "while abs(x -y * y) > 1e-8:\n",
    "    y = (y + x/y)/2\n",
    "    n = n + 1\n",
    "    print(n, y)\n",
    "print(\"算术平方根为：\", y)\n",
    "print(\"sqrt函数求出的算术平方根为：\", math.sqrt(x))"
   ]
  },
  {
   "cell_type": "code",
   "execution_count": 3,
   "id": "6f8b8425-c97c-4a58-a493-59b6db92622d",
   "metadata": {},
   "outputs": [
    {
     "name": "stdout",
     "output_type": "stream",
     "text": [
      "Total Volume: 570\n",
      "Highest Price: 290.10\n",
      "Lowest Price: 175.32\n"
     ]
    }
   ],
   "source": [
    "#ch3-8\n",
    "# 交易日志，每行1个交易记录，格式\"日期, 股票代码, 成交价格, 成交量\"\n",
    "trade_log = \"\"\"2024-12-15, AAPL, 175.32, 100\n",
    "2024-12-15, MSFT, 289.45, 150\n",
    "2024-12-16, AAPL, 176.10, 200\n",
    "2024-12-16, MSFT, 290.10, 120\"\"\"\n",
    "# 初始化变量用于存储统计数据\n",
    "total_volume = 0\n",
    "highest_price = 0\n",
    "lowest_price = float('inf')\n",
    "number_of_trades = 0\n",
    "price_dict = {}\n",
    "# 使用 for 循环迭代字符串中的每一行\n",
    "for line in trade_log.splitlines():\n",
    "    # 忽略空行\n",
    "    if not line.strip():\n",
    "        continue\n",
    "    # 解析每一行的数据\n",
    "    date, stock_code, price_str, volume_str = line.split(',')\n",
    "    price = float(price_str)\n",
    "    volume = int(volume_str)\n",
    "    # 更新统计数据\n",
    "    total_volume += volume\n",
    "    highest_price = max(highest_price, price)\n",
    "    lowest_price = min(lowest_price, price)\n",
    "    # 记录每个股票的总成交量\n",
    "    if stock_code in price_dict:\n",
    "        price_dict[stock_code]['volume'] += volume\n",
    "    else:\n",
    "        price_dict[stock_code] = {'volume': volume}\n",
    "# 打印统计结果\n",
    "print(\"Total Volume: {}\".format(total_volume)) # 输出 Total Volume: 570\n",
    "print(\"Highest Price: {:.2f}\".format(highest_price)) # 输出 Highest Price: 290.10\n",
    "print(\"Lowest Price: {:.2f}\".format(lowest_price)) # 输出 Lowest Price: 175.32"
   ]
  },
  {
   "cell_type": "code",
   "execution_count": 20,
   "id": "9c0204f6",
   "metadata": {},
   "outputs": [
    {
     "name": "stdout",
     "output_type": "stream",
     "text": [
      "sum= 5050\n"
     ]
    }
   ],
   "source": [
    "#ch3-9\n",
    "sum = 0\n",
    "for i in range(1, 100+1):\n",
    "    sum = sum +i\n",
    "print(\"sum=\", sum)"
   ]
  },
  {
   "cell_type": "code",
   "execution_count": 22,
   "id": "d38aac34",
   "metadata": {},
   "outputs": [
    {
     "name": "stdout",
     "output_type": "stream",
     "text": [
      "1~100中所有的奇数和： 2500\n",
      "1~100中所有的偶数和： 2550\n"
     ]
    }
   ],
   "source": [
    "#ch3-10\n",
    "sum_odd = 0\n",
    "sum_even = 0\n",
    "for i in range(1, 100+1):\n",
    "    if i%2 ==1:\n",
    "        sum_odd = sum_odd + i\n",
    "    else:\n",
    "        sum_even = sum_even + i\n",
    "print(\"1~100中所有的奇数和：\", sum_odd)\n",
    "print(\"1~100中所有的偶数和：\", sum_even)"
   ]
  },
  {
   "cell_type": "code",
   "execution_count": 23,
   "id": "f5bf55e7",
   "metadata": {},
   "outputs": [
    {
     "name": "stdout",
     "output_type": "stream",
     "text": [
      "请输入一个正整数：6\n",
      "1 2 3 6 "
     ]
    }
   ],
   "source": [
    "#ch3-11\n",
    "n = int(input(\"请输入一个正整数：\"))\n",
    "for i in range(1, n+1):\n",
    "    if n%i ==0:\n",
    "        print(i, end = ' ')"
   ]
  },
  {
   "cell_type": "code",
   "execution_count": 3,
   "id": "e4e63a64",
   "metadata": {},
   "outputs": [
    {
     "name": "stdout",
     "output_type": "stream",
     "text": [
      "请输入一个实数：4\n",
      "算术平方根为： 2.0\n"
     ]
    }
   ],
   "source": [
    "x = float (input(\"请输入一个实数：\"))\n",
    "y = 1.0\n",
    "while y * y != x:\n",
    "    y = (y + x/y)/2\n",
    "print(\"算术平方根为：\", y)"
   ]
  },
  {
   "cell_type": "code",
   "execution_count": 12,
   "id": "a78fecf3",
   "metadata": {},
   "outputs": [
    {
     "name": "stdout",
     "output_type": "stream",
     "text": [
      "Pyhon"
     ]
    }
   ],
   "source": [
    "for s in \"Python\":\n",
    "    if s == \"t\":\n",
    "        continue\n",
    "    print(s, end=\"\")"
   ]
  },
  {
   "cell_type": "code",
   "execution_count": 13,
   "id": "fadce809",
   "metadata": {},
   "outputs": [
    {
     "name": "stdout",
     "output_type": "stream",
     "text": [
      "Py"
     ]
    }
   ],
   "source": [
    "for s in \"Python\":\n",
    "    if s == \"t\":\n",
    "        break\n",
    "    print(s, end=\"\")"
   ]
  },
  {
   "cell_type": "code",
   "execution_count": 4,
   "id": "85ef3895",
   "metadata": {},
   "outputs": [
    {
     "name": "stdout",
     "output_type": "stream",
     "text": [
      "当前检查的数字是: 1\n",
      "当前检查的数字是: 3\n",
      "当前检查的数字是: 5\n",
      "当前检查的数字是: 7\n",
      "找到了目标值: 7\n"
     ]
    }
   ],
   "source": [
    "#ch3-12\n",
    "# 定义一个数字列表\n",
    "numbers = [1, 3, 5, 7, 9, 11, 13, 15]\n",
    "target = 7 # 定义目标值\n",
    "\n",
    "# 遍历列表，查找目标值\n",
    "found = False\n",
    "for num in numbers:\n",
    "    print(\"当前检查的数字是: {}\".format(num))\n",
    "    if num == target:\n",
    "        print(\"找到了目标值: {}\".format(target))\n",
    "        found = True\n",
    "        break  # 找到目标值后，退出循环\n",
    "\n",
    "if not found:\n",
    "    print(\"没有找到目标值: {}\".format(target))"
   ]
  },
  {
   "cell_type": "code",
   "execution_count": 15,
   "id": "c384354f",
   "metadata": {},
   "outputs": [
    {
     "name": "stdout",
     "output_type": "stream",
     "text": [
      "Pyhon正常退出\n"
     ]
    }
   ],
   "source": [
    "for s in \"Python\":\n",
    "    if s ==\"t\":\n",
    "        continue\n",
    "    print(s, end= \"\")\n",
    "else:\n",
    "    print(\"正常退出\")"
   ]
  },
  {
   "cell_type": "code",
   "execution_count": 16,
   "id": "27103f5a",
   "metadata": {},
   "outputs": [
    {
     "name": "stdout",
     "output_type": "stream",
     "text": [
      "Py"
     ]
    }
   ],
   "source": [
    "for s in \"Python\":\n",
    "    if s ==\"t\":\n",
    "        break\n",
    "    print(s, end= \"\")\n",
    "else:\n",
    "    print(\"正常退出\")"
   ]
  },
  {
   "cell_type": "code",
   "execution_count": 3,
   "id": "ca4040b4",
   "metadata": {},
   "outputs": [
    {
     "ename": "IndentationError",
     "evalue": "expected an indented block after 'if' statement on line 2 (3236160080.py, line 4)",
     "output_type": "error",
     "traceback": [
      "\u001b[1;36m  Cell \u001b[1;32mIn[3], line 4\u001b[1;36m\u001b[0m\n\u001b[1;33m    else:\u001b[0m\n\u001b[1;37m    ^\u001b[0m\n\u001b[1;31mIndentationError\u001b[0m\u001b[1;31m:\u001b[0m expected an indented block after 'if' statement on line 2\n"
     ]
    }
   ],
   "source": [
    "for i in range(5):\n",
    "    if i == 3:\n",
    "        pass  # 当i等于3时，不执行任何操作\n",
    "    else:\n",
    "        print(i) # 输出结果：0 1 2 4（当i为3时，不打印任何内容）"
   ]
  },
  {
   "cell_type": "code",
   "execution_count": 17,
   "id": "31383818",
   "metadata": {},
   "outputs": [
    {
     "name": "stdout",
     "output_type": "stream",
     "text": [
      "* * * * * * * * * * \n",
      "* * * * * * * * * * \n",
      "* * * * * * * * * * \n",
      "* * * * * * * * * * \n",
      "* * * * * * * * * * \n"
     ]
    }
   ],
   "source": [
    "#ch3-13 定义矩形的行数和列数\n",
    "rows = 5\n",
    "columns = 10\n",
    "\n",
    "# 外层循环控制行\n",
    "for i in range(rows):\n",
    "    # 内层循环控制列\n",
    "    for j in range(columns):\n",
    "        # 打印星号\n",
    "        print(\"*\", end=\" \")\n",
    "    # 每打印完一行后换行\n",
    "    print()"
   ]
  },
  {
   "cell_type": "code",
   "execution_count": 6,
   "id": "2f7b467f",
   "metadata": {},
   "outputs": [
    {
     "name": "stdout",
     "output_type": "stream",
     "text": [
      "Outer loop: 0\n",
      "- Inner loop: 0\n",
      "- Inner loop: 1\n",
      "- Inner loop: 2\n",
      "Print after inner loop\n",
      "Outer loop: 1\n",
      "- Inner loop: 0\n",
      "- Inner loop: 1\n",
      "- Inner loop: 2\n",
      "Print after inner loop\n",
      "Outer loop: 2\n",
      "- Inner loop: 0\n",
      "- Inner loop: 1\n",
      "- Inner loop: 2\n",
      "Print after inner loop\n"
     ]
    }
   ],
   "source": [
    "for i in range(3):\n",
    "    print(\"Outer loop:\", i)\n",
    "    inner_break = False  # 用于记录内层循环是否被break\n",
    "    for j in range(3):\n",
    "        if j == 5:\n",
    "            inner_break = True  # 标记内层循环被break\n",
    "            break\n",
    "        print(\"- Inner loop:\", j)\n",
    "    if not inner_break:\n",
    "        print(\"Print after inner loop\")"
   ]
  },
  {
   "cell_type": "code",
   "execution_count": 18,
   "id": "5a801c63",
   "metadata": {},
   "outputs": [
    {
     "name": "stdout",
     "output_type": "stream",
     "text": [
      "2  3  4  5  7  11  13  17  19  23  29  31  37  41  43  47  53  59  61  67  71  73  79  83  89  97  "
     ]
    }
   ],
   "source": [
    "#ch3-14 输出100以内的素数\n",
    "for i in range(2,100+1):\n",
    "    flag = True\n",
    "    for j in range(2, i//2):\n",
    "        if(i%j ==0):\n",
    "            flag = False\n",
    "            break\n",
    "            \n",
    "    if (flag):\n",
    "        print(i,\" \", end=\"\")"
   ]
  },
  {
   "cell_type": "code",
   "execution_count": 19,
   "id": "81d99982",
   "metadata": {},
   "outputs": [
    {
     "name": "stdout",
     "output_type": "stream",
     "text": [
      "2  3  4  5  7  11  13  17  19  23  29  31  37  41  43  47  53  59  61  67  71  73  79  83  89  97  "
     ]
    }
   ],
   "source": [
    "#ch3-14 输出100以内的素数\n",
    "for i in range(2,100+1):\n",
    "    #flag = True\n",
    "    for j in range(2, i//2):\n",
    "        if(i%j ==0):\n",
    "            flag = False\n",
    "            break\n",
    "    else: \n",
    "        print(i,\" \", end=\"\")"
   ]
  },
  {
   "cell_type": "code",
   "execution_count": 24,
   "id": "af23f801",
   "metadata": {},
   "outputs": [
    {
     "name": "stdout",
     "output_type": "stream",
     "text": [
      "4  0  5  7  6  2  8  4  2  0  "
     ]
    }
   ],
   "source": [
    "import random\n",
    "for i in range(10):\n",
    "    print(random.randint(0,9), \" \",end=\"\")"
   ]
  },
  {
   "cell_type": "code",
   "execution_count": 25,
   "id": "60363354",
   "metadata": {},
   "outputs": [
    {
     "name": "stdout",
     "output_type": "stream",
     "text": [
      "None\n",
      "[2, 1, 3, 4, 5]\n"
     ]
    }
   ],
   "source": [
    "import random\n",
    "\n",
    "my_list = [1, 2, 3, 4, 5]\n",
    "my_list1 = random.shuffle(my_list)\n",
    "print(my_list1)\n",
    "print(my_list)"
   ]
  },
  {
   "cell_type": "code",
   "execution_count": 18,
   "id": "9fa1f04f",
   "metadata": {},
   "outputs": [
    {
     "name": "stdout",
     "output_type": "stream",
     "text": [
      "9 8 7 6 5 4 3 2 1 0 \n",
      "max= 10\n"
     ]
    }
   ],
   "source": [
    "#ch3-14 赌场“幸运7”游戏模拟\n",
    "from random import * \n",
    "money = 10\n",
    "max = money\n",
    "\n",
    "while money >0:\n",
    "    num1 = randint(1,6)\n",
    "    num2 = randint(1,6)\n",
    "    if num1 + num2 == 7:\n",
    "        money += 4\n",
    "        if money > max: max = money\n",
    "    else: \n",
    "        money -= 1\n",
    "    print(money, end = ' ')\n",
    "print('\\nmax=', max)"
   ]
  },
  {
   "cell_type": "code",
   "execution_count": 7,
   "id": "68b35e86",
   "metadata": {},
   "outputs": [
    {
     "name": "stdout",
     "output_type": "stream",
     "text": [
      "估算的圆周率值: 3.1441\n"
     ]
    }
   ],
   "source": [
    "#ch3-15 利用蒙特卡罗方法计算圆周率\n",
    "import random\n",
    "  \n",
    "# 设置采样点数\n",
    "num_samples = 1000000\n",
    "inside_circle = 0  # 统计落在圆内的点数\n",
    "for i in range(num_samples+1):\n",
    "    # 生成随机点 (x, y) 在单位正方形内\n",
    "    x = random.random()\n",
    "    y = random.random()\n",
    "    # 判断点是否在单位圆内\n",
    "    if x**2 + y**2 <= 1:\n",
    "        inside_circle += 1\n",
    "# 估算圆周率\n",
    "estimate_pi = 4 * inside_circle / num_samples\n",
    "pi = estimate_pi\n",
    "print(\"估算的圆周率值: {}\".format(pi))"
   ]
  },
  {
   "cell_type": "code",
   "execution_count": 28,
   "id": "b0ee3486",
   "metadata": {},
   "outputs": [
    {
     "name": "stdout",
     "output_type": "stream",
     "text": [
      "请输入系数a：1\n",
      "请输入系数b：-1\n",
      "请输入系数c：0.5\n",
      "此方程有两个共轭复根：(0.5+0.5j)  和  (0.5-0.5j)\n"
     ]
    }
   ],
   "source": [
    "#ch3-16 编程实现一元二次方程根的求解\n",
    "import math\n",
    "a = float(input('请输入系数a：'))\n",
    "b = float(input('请输入系数b：'))\n",
    "c = float(input('请输入系数c：'))\n",
    "d = b*b-4*a*c  # 判别式\n",
    "if a==0 and b==0:  \n",
    "    print('此方程无解！')\n",
    "elif a==0 and b!=0: #退化为一元一次方程，只有1个解\n",
    "    print('此方程的解为：',end='')\n",
    "    x=-c/b\n",
    "    print(x)\n",
    "elif d==0:      # 判别式等于0 \n",
    "    print('此方程有两个相等实根：',end='')\n",
    "    x=(-b)/2*a\n",
    "    print(x)\n",
    "elif d>0:       # 判别式大于0，有两个不等实根\n",
    "    print('此方程有两个不等实根：',end='')\n",
    "    x1=((-b)+ math.sqrt(d))/2 * a\n",
    "    x2=((-b)- math.sqrt(d))/2 * a\n",
    "    print(x1,' 和 ',x2)\n",
    "elif d<0:      # 判别式小于0，有两个共轭复根\n",
    "    print('此方程有两个共轭复根：',end='')\n",
    "    real=(-b)/2*a          # 实部\n",
    "    imag=(math.sqrt(-d))/2*a   # 虚部\n",
    "    x1=complex(real,imag)\n",
    "    x2=complex(real,-imag)\n",
    "    print(x1,' 和 ',x2)"
   ]
  },
  {
   "cell_type": "code",
   "execution_count": null,
   "id": "d16285c3",
   "metadata": {},
   "outputs": [],
   "source": [
    "#ch3-17 用户输入股票和债券的预期收益率\n",
    "expected_return_stock = float(input(\"请输入股票的预期收益率（如0.05表示5%）：\"))\n",
    "expected_return_bond = float(input(\"请输入债券的预期收益率（如0.03表示3%）：\"))\n",
    "# 用户输入股票和债券在投资组合中的权重\n",
    "weight_stock = float(input(\"请输入股票在投资组合中的权重（如0.6表示60%）：\"))\n",
    "weight_bond = float(input(\"请输入债券在投资组合中的权重（如0.4表示40%）：\"))\n",
    "\n",
    "# 确保权重总和为1\n",
    "if weight_stock + weight_bond != 1:\n",
    "    print(\"权重之和必须为1，请重新输入。\")\n",
    "else:\n",
    "    # 计算投资组合的预期收益率\n",
    "    portfolio_expected_return = (expected_return_stock * weight_stock +\n",
    "                                 expected_return_bond * weight_bond)\n",
    "\n",
    "    # 打印投资组合的预期收益率\n",
    "    print(\"投资组合的预期收益率为：{:.2%}\".format(portfolio_expected_return))"
   ]
  },
  {
   "cell_type": "code",
   "execution_count": 20,
   "id": "2b54b816",
   "metadata": {},
   "outputs": [
    {
     "name": "stdout",
     "output_type": "stream",
     "text": [
      "[['萧峰', 98], ['杨过', 96]]\n"
     ]
    }
   ],
   "source": [
    "group1 = [\"萧峰\", 98]\n",
    "group2 = [\"杨过\", 96]\n",
    "groups = [group1, group2]\n",
    "print(groups)"
   ]
  },
  {
   "cell_type": "code",
   "execution_count": 3,
   "id": "a282e50d",
   "metadata": {},
   "outputs": [
    {
     "name": "stdout",
     "output_type": "stream",
     "text": [
      "Original List: [1, 2, ['changed', 4], 5]\n",
      "Shallow Copy: [1, 2, ['changed', 4], 5]\n",
      "Deep Copy: [1, 2, [3, 4], 5]\n"
     ]
    }
   ],
   "source": [
    "# 深拷贝和浅拷贝的区别\n",
    "import copy\n",
    "# 原始对象\n",
    "original_list = [1, 2, [3, 4], 5]\n",
    "# 浅拷贝\n",
    "shallow_copy = copy.copy(original_list)\n",
    "# 深拷贝\n",
    "deep_copy = copy.deepcopy(original_list)\n",
    "# 修改浅拷贝中的嵌套列表\n",
    "shallow_copy[2][0] = 'changed'\n",
    "# 输出结果\n",
    "print(\"Original List:\", original_list) #输出 Original List: [1, 2, ['changed', 4], 5]\n",
    "print(\"Shallow Copy:\", shallow_copy) # 输出 Shallow Copy: [1, 2, ['changed', 4], 5]\n",
    "print(\"Deep Copy:\", deep_copy) # 输出 Deep Copy: [1, 2, [3, 4], 5]"
   ]
  },
  {
   "cell_type": "code",
   "execution_count": null,
   "id": "591fb5dd",
   "metadata": {},
   "outputs": [],
   "source": []
  }
 ],
 "metadata": {
  "kernelspec": {
   "display_name": "Python 3 (ipykernel)",
   "language": "python",
   "name": "python3"
  },
  "language_info": {
   "codemirror_mode": {
    "name": "ipython",
    "version": 3
   },
   "file_extension": ".py",
   "mimetype": "text/x-python",
   "name": "python",
   "nbconvert_exporter": "python",
   "pygments_lexer": "ipython3",
   "version": "3.11.7"
  }
 },
 "nbformat": 4,
 "nbformat_minor": 5
}
