{
 "cells": [
  {
   "cell_type": "code",
   "execution_count": 5,
   "id": "d36b0dea",
   "metadata": {},
   "outputs": [
    {
     "name": "stdout",
     "output_type": "stream",
     "text": [
      "True\n",
      "140720834659400 140720834659400\n",
      "False\n",
      "True\n",
      "[1, 2, 3, 4]\n",
      "1451095125696 1451095125696\n"
     ]
    }
   ],
   "source": [
    "# 不可变对象\n",
    "a = 10\n",
    "b = a\n",
    "print(a is b)  # a和b引用了同一个对象 # 输出: True\n",
    "print(id(a), id(b)) # 查看a和b的身份号，二者相同\n",
    "\n",
    "a = 20 # 修改a的值，a引用了新的对象\n",
    "print(a is b) # 此时a和b不再是同一个对象, 输出：False\n",
    "\n",
    "# 可变对象示例\n",
    "list1 = [1, 2, 3]\n",
    "list2 = list1 # list2是对list1的引用\n",
    "print(list1 is list2) # list1和list2引用了同一个对象, 输出：True\n",
    "\n",
    "list1.append(4)\n",
    "print(list2) # 修改list1, 能通过list2看到变化, 输出：[1, 2, 3, 4]\n",
    "\n",
    "print(id(list1), id(list2)) # 输出: (id_of_list1) (id_of_list2),二者身份号相同"
   ]
  },
  {
   "cell_type": "code",
   "execution_count": 3,
   "id": "72f38160",
   "metadata": {},
   "outputs": [
    {
     "name": "stdout",
     "output_type": "stream",
     "text": [
      "None\n",
      "[1, 2, 3, 4, 5]\n",
      "['__add__', '__class__', '__class_getitem__', '__contains__', '__delattr__', '__delitem__', '__dir__', '__doc__', '__eq__', '__format__', '__ge__', '__getattribute__', '__getitem__', '__getstate__', '__gt__', '__hash__', '__iadd__', '__imul__', '__init__', '__init_subclass__', '__iter__', '__le__', '__len__', '__lt__', '__mul__', '__ne__', '__new__', '__reduce__', '__reduce_ex__', '__repr__', '__reversed__', '__rmul__', '__setattr__', '__setitem__', '__sizeof__', '__str__', '__subclasshook__', 'append', 'clear', 'copy', 'count', 'extend', 'index', 'insert', 'pop', 'remove', 'reverse', 'sort']\n"
     ]
    }
   ],
   "source": [
    "x = None # 使用关键字None表示空对象\n",
    "print(x) # 输出：None\n",
    "\n",
    "list1 = [1, 2, 3, 4]\n",
    "list1.append(5) # 使用“.”运算符调用append方法，向列表中添加元素\n",
    "print(list1) # 输出：[1, 2, 3, 4, 5]\n",
    "print(dir(list1)) # 使用dir()查看列表对象支持的属性和方法，输出：['__add__', '__class__', '__contains__', ..., 'append', 'clear', 'copy', 'count', ...]"
   ]
  },
  {
   "cell_type": "code",
   "execution_count": 4,
   "id": "23f4b709",
   "metadata": {},
   "outputs": [],
   "source": [
    "#ch8-1\n",
    "class Student:\n",
    "    def __init__(self, name, gender, ID, birth_date): #构造方法\n",
    "        self.name = name\n",
    "        self.gender = gender\n",
    "        self.ID = ID\n",
    "        self.birth_date = birth_date\n",
    "        \n",
    "    def getInfor(self): # 成员方法\n",
    "        print(self.name, self.gender, self.ID, self.birth_date)\n",
    "    def entrance(self):\n",
    "        pass\n",
    "    def enrolled(self):\n",
    "        pass\n",
    "    def suspending(self):\n",
    "        pass"
   ]
  },
  {
   "cell_type": "code",
   "execution_count": 6,
   "id": "8aaf8cd1",
   "metadata": {},
   "outputs": [
    {
     "name": "stdout",
     "output_type": "stream",
     "text": [
      "Tom\n",
      "Tom male 2024011001 20040105\n"
     ]
    }
   ],
   "source": [
    "student1 = Student(\"Tom\", \"male\", 2024011001, 20040105)\n",
    "print(student1.name)\n",
    "student1.getInfor()"
   ]
  },
  {
   "cell_type": "code",
   "execution_count": 7,
   "id": "6d12374c",
   "metadata": {},
   "outputs": [
    {
     "name": "stdout",
     "output_type": "stream",
     "text": [
      "开始实例化一个student对象，名为 张三\n",
      "开始实例化一个student对象，名为 无名氏\n"
     ]
    }
   ],
   "source": [
    "class Student:\n",
    "    def __init__(self, name = \"无名氏\"):\n",
    "        print(\"开始实例化一个student对象，名为\", name)\n",
    "\n",
    "student1 = Student(\"张三\")\n",
    "student2 = Student()\n"
   ]
  },
  {
   "cell_type": "code",
   "execution_count": 8,
   "id": "de96c2f0",
   "metadata": {},
   "outputs": [
    {
     "name": "stdout",
     "output_type": "stream",
     "text": [
      "<class 'int'>\n",
      "<class 'float'>\n",
      "<class 'list'>\n",
      "<class 'set'>\n",
      "48\n",
      "{8, 9, 7}\n",
      "<class 'int'>\n",
      "<class 'set'>\n"
     ]
    }
   ],
   "source": [
    "x = 10 \n",
    "y = 3.14  \n",
    "z = [1, 2, 3] \n",
    "s = {1, 2, 3}\n",
    "\n",
    "# 使用type()查看对象的类型\n",
    "print(type(x))\n",
    "print(type(y))  \n",
    "print(type(z))  \n",
    "print(type(s)) \n",
    "\n",
    "# 实例化对象\n",
    "new_int = int(48)\n",
    "new_set = set([7, 8, 9]) \n",
    "print(new_int) \n",
    "print(new_set)  # 输出 {8, 9, 7}\n",
    "print(type(new_int))\n",
    "print(type(new_set))\n"
   ]
  },
  {
   "cell_type": "code",
   "execution_count": 9,
   "id": "8b3226e3",
   "metadata": {},
   "outputs": [
    {
     "name": "stdout",
     "output_type": "stream",
     "text": [
      "<class 'int'>\n",
      "<class 'str'>\n",
      "<class 'function'>\n",
      "<class 'type'>\n",
      "<class 'type'>\n",
      "<class 'type'>\n"
     ]
    }
   ],
   "source": [
    "a = 48\n",
    "b = \"hello\"\n",
    "c = lambda x: x+1\n",
    "\n",
    "print(type(a))\n",
    "print(type(b))\n",
    "print(type(c))\n",
    "# 类型本身也是对象，且他们的类型属于type\n",
    "print(type(int))\n",
    "print(type(str))\n",
    "print(type(type))"
   ]
  },
  {
   "cell_type": "code",
   "execution_count": 19,
   "id": "6c1797ac",
   "metadata": {},
   "outputs": [
    {
     "name": "stdout",
     "output_type": "stream",
     "text": [
      "2000\n"
     ]
    }
   ],
   "source": [
    "class Student:\n",
    "    def __init__(self, birth_year):\n",
    "        self.__birth_year = birth_year # 设置为私有属性\n",
    "\n",
    "    def get_birth_year(self):\n",
    "        return self.__birth_year\n",
    "\n",
    "    def set_birth_year(self, year):\n",
    "        if 1900 <= year <= 2100:  # 合法性检查\n",
    "            self.__birth_year = year\n",
    "        else:\n",
    "            raise ValueError(\"年份必须在1900到2100之间\")\n",
    "    \n",
    "    # 使用 property 创建对外接口\n",
    "    birth_year = property(get_birth_year, set_birth_year)\n",
    "        \n",
    "student = Student(2000)\n",
    "print(student.birth_year)  # 输出：2000\n",
    "student.birth_year = 1995  # 合法赋值\n",
    "# student.birth_year = 3000  # 抛出 ValueError"
   ]
  },
  {
   "cell_type": "code",
   "execution_count": 16,
   "id": "a0fb8ebb",
   "metadata": {},
   "outputs": [
    {
     "name": "stdout",
     "output_type": "stream",
     "text": [
      "2000\n"
     ]
    }
   ],
   "source": [
    "class Student:\n",
    "    def __init__(self, birth_year):\n",
    "        self.__birth_year = birth_year  # 设置为私有属性\n",
    "\n",
    "    @property\n",
    "    def birth_year(self):\n",
    "        return self.__birth_year\n",
    "\n",
    "    @birth_year.setter\n",
    "    def birth_year(self, year):\n",
    "        if 1900 <= year <= 2100:  # 合法性检查\n",
    "            self.__birth_year = year\n",
    "        else:\n",
    "            raise ValueError(\"年份必须在 1900 到 2100 之间\")\n",
    "\n",
    "student = Student(2000)\n",
    "print(student.birth_year)  # 输出：2000\n",
    "student.birth_year = 1995  # 合法赋值\n",
    "# student.birth_year = 3000 # 抛出 ValueError"
   ]
  },
  {
   "cell_type": "code",
   "execution_count": 20,
   "id": "8d13eaa3",
   "metadata": {},
   "outputs": [
    {
     "name": "stdout",
     "output_type": "stream",
     "text": [
      "This is DemoClass\n",
      "This is DemoClass\n"
     ]
    }
   ],
   "source": [
    "class DemoClass:\n",
    "    class_name = \"DemoClass\"\n",
    "\n",
    "    @classmethod\n",
    "    def get_class_name(cls):\n",
    "        return f\"This is {cls.class_name}\"\n",
    "\n",
    "print(DemoClass.get_class_name())  # 使用类名调用，输出：This is DemoClass\n",
    "demo_instance = DemoClass()\n",
    "print(demo_instance.get_class_name())  # 使用实例调用，输出：This is DemoClass"
   ]
  },
  {
   "cell_type": "code",
   "execution_count": 1,
   "id": "9932dcd6",
   "metadata": {},
   "outputs": [
    {
     "name": "stdout",
     "output_type": "stream",
     "text": [
      "Member1年龄: 25\n",
      "Member2年龄: 35\n"
     ]
    }
   ],
   "source": [
    "from datetime import datetime\n",
    "\n",
    "class Member:\n",
    "    def __init__(self, age):\n",
    "        self.age = age\n",
    "\n",
    "    @classmethod\n",
    "    def from_birth_year(cls, birth_year):\n",
    "        current_year = datetime.now().year\n",
    "        age = current_year - birth_year\n",
    "        return cls(age)  # 调用构造器返回实例\n",
    "\n",
    "member1 = Member(25)  # 使用普通构造器\n",
    "print(f\"Member1年龄: {member1.age}\")\t# 输出：Member1年龄：25\n",
    "\n",
    "member2 = Member.from_birth_year(1990)  # 使用辅助构造器\n",
    "print(f\"Member2年龄: {member2.age}\")\t# 输出：Member2年龄：35"
   ]
  },
  {
   "cell_type": "code",
   "execution_count": 21,
   "id": "e7ab7d79",
   "metadata": {},
   "outputs": [
    {
     "name": "stdout",
     "output_type": "stream",
     "text": [
      "8\n",
      "8\n"
     ]
    }
   ],
   "source": [
    "class MathUtils:\n",
    "    @staticmethod\n",
    "    def add(x, y):\n",
    "        return x + y\n",
    "\n",
    "    @staticmethod\n",
    "    def multiply(x, y):\n",
    "        return x * y\n",
    "\n",
    "# 使用类名调用静态方法\n",
    "print(MathUtils.add(5, 3))  # 输出：8\n",
    "math_instance = MathUtils() # 使用实例调用静态方法\n",
    "print(math_instance.multiply(4, 2)) # 输出：8"
   ]
  },
  {
   "cell_type": "code",
   "execution_count": 22,
   "id": "224e2330",
   "metadata": {},
   "outputs": [
    {
     "name": "stdout",
     "output_type": "stream",
     "text": [
      "Person(name=Alice, age=30)\n"
     ]
    }
   ],
   "source": [
    "class Person:\n",
    "    def __init__(self, name, age):\n",
    "        self.name = name\n",
    "        self.age = age\n",
    "\n",
    "    def __str__(self):\n",
    "        return f\"Person(name={self.name}, age={self.age})\"\n",
    "\n",
    "p = Person(\"Alice\", 30)\n",
    "print(str(p))  # 输出: Person(name=Alice, age=30)"
   ]
  },
  {
   "cell_type": "code",
   "execution_count": 23,
   "id": "d44f7d83",
   "metadata": {},
   "outputs": [
    {
     "name": "stdout",
     "output_type": "stream",
     "text": [
      "True\n"
     ]
    }
   ],
   "source": [
    "class Person:\n",
    "    def __init__(self, name, age):\n",
    "        self.name = name\n",
    "        self.age = age\n",
    "\n",
    "    def __eq__(self, other):\n",
    "        if isinstance(other, Person):\n",
    "            return self.name == other.name and self.age == other.age\n",
    "        return False\n",
    "\n",
    "p1 = Person(\"Alice\", 30)\n",
    "p2 = Person(\"Alice\", 30)\n",
    "print(p1 == p2)  # 输出: True\n"
   ]
  },
  {
   "cell_type": "code",
   "execution_count": 24,
   "id": "08ed5ae9",
   "metadata": {},
   "outputs": [
    {
     "name": "stdout",
     "output_type": "stream",
     "text": [
      "Buddy\n",
      "Woof!\n"
     ]
    }
   ],
   "source": [
    "class Animal:\n",
    "    def __init__(self, name):\n",
    "        self.name = name\n",
    "\n",
    "    def make_sound(self):\n",
    "        return \"Some generic sound\"\n",
    "\n",
    "class Dog(Animal):\n",
    "    def make_sound(self):  # 重写父类方法\n",
    "        return \"Woof!\"\n",
    "\n",
    "dog = Dog(\"Buddy\")\n",
    "print(dog.name)           # 输出：Buddy\n",
    "print(dog.make_sound())   # 输出：Woof!\n"
   ]
  },
  {
   "cell_type": "code",
   "execution_count": 25,
   "id": "b60d8962",
   "metadata": {},
   "outputs": [
    {
     "name": "stdout",
     "output_type": "stream",
     "text": [
      "Flying...\n",
      "Swimming...\n",
      "Quack!\n"
     ]
    }
   ],
   "source": [
    "#多重继承示例\n",
    "# 定义父类Flyer和Swimmer\n",
    "class Flyer:\n",
    "    def fly(self):\n",
    "        print(\"Flying...\")\n",
    "\n",
    "class Swimmer:\n",
    "    def swim(self):\n",
    "        print(\"Swimming...\")\n",
    "\n",
    "class Duck(Flyer, Swimmer):\n",
    "    def quack(self):\n",
    "        print(\"Quack!\")\n",
    "#定义多重继承子类    \n",
    "duck = Duck()\n",
    "duck.fly()   # 输出：Flying...\n",
    "duck.swim()  # 输出：Swimming...\n",
    "duck.quack() # 输出：Quack! "
   ]
  },
  {
   "cell_type": "code",
   "execution_count": 26,
   "id": "9b2e8848",
   "metadata": {},
   "outputs": [
    {
     "name": "stdout",
     "output_type": "stream",
     "text": [
      "True\n",
      "True\n",
      "True\n",
      "True\n",
      "True\n",
      "True\n"
     ]
    }
   ],
   "source": [
    "class C:\n",
    "    pass\n",
    "\n",
    "class B(C):\n",
    "    pass\n",
    "\n",
    "class A(B):\n",
    "    pass\n",
    "\n",
    "a = A()\n",
    "print(isinstance(a, A))  # 输出：True\n",
    "print(isinstance(a, B))  # 输出：True\n",
    "print(isinstance(a, C))  # 输出：True\n",
    "print(issubclass(A, B))  # 输出：True\n",
    "print(issubclass(A, C))  # 输出：True\n",
    "print(issubclass(A, object)) # 输出：True\n"
   ]
  },
  {
   "cell_type": "code",
   "execution_count": 27,
   "id": "5b32afe2",
   "metadata": {},
   "outputs": [
    {
     "name": "stdout",
     "output_type": "stream",
     "text": [
      "Woof!\n",
      "Meow!\n"
     ]
    }
   ],
   "source": [
    "class Animal:\n",
    "    def speak(self):\n",
    "        raise NotImplementedError(\"Subclasses must implement this method.\")\n",
    "\n",
    "class Dog(Animal):\n",
    "    def speak(self):\n",
    "        return \"Woof!\"\n",
    "\n",
    "class Cat(Animal):\n",
    "    def speak(self):\n",
    "        return \"Meow!\"\n",
    "\n",
    "def make_animal_speak(animal):\n",
    "    print(animal.speak())\n",
    "\n",
    "dog = Dog()\n",
    "cat = Cat()\n",
    "make_animal_speak(dog)  # 输出：Woof!\n",
    "make_animal_speak(cat)  # 输出：Meow!\n"
   ]
  },
  {
   "cell_type": "code",
   "execution_count": 28,
   "id": "9faad540",
   "metadata": {},
   "outputs": [
    {
     "name": "stdout",
     "output_type": "stream",
     "text": [
      "Person: Alice\n",
      "Machine: T-800\n",
      "Pig: Babe\n"
     ]
    }
   ],
   "source": [
    "class Person:\n",
    "    def __init__(self, name):\n",
    "        self.kind = \"Person\"\n",
    "        self.name = name\n",
    "\n",
    "    def show(self):\n",
    "        return f\"{self.kind}: {self.name}\"\n",
    "\n",
    "class Machine:\n",
    "    def __init__(self, model):\n",
    "        self.kind = \"Machine\"\n",
    "        self.model = model\n",
    "\n",
    "    def show(self):\n",
    "        return f\"{self.kind}: {self.model}\"\n",
    "\n",
    "class Pig:\n",
    "    def __init__(self, nickname):\n",
    "        self.kind = \"Pig\"\n",
    "        self.nickname = nickname\n",
    "\n",
    "    def show(self):\n",
    "        return f\"{self.kind}: {self.nickname}\"\n",
    "    \n",
    "def show_object(obj):\n",
    "    print(obj.show()) # 一个多态函数\n",
    "\n",
    "p = Person(\"Alice\")\n",
    "m = Machine(\"T-800\")\n",
    "pig = Pig(\"Babe\")\n",
    "\n",
    "show_object(p)     # 输出：Person: Alice\n",
    "show_object(m)     # 输出：Machine: T-800\n",
    "show_object(pig)   # 输出：Pig: Babe\n"
   ]
  },
  {
   "cell_type": "code",
   "execution_count": null,
   "id": "cb2f84d0",
   "metadata": {},
   "outputs": [],
   "source": []
  }
 ],
 "metadata": {
  "kernelspec": {
   "display_name": "Python 3 (ipykernel)",
   "language": "python",
   "name": "python3"
  },
  "language_info": {
   "codemirror_mode": {
    "name": "ipython",
    "version": 3
   },
   "file_extension": ".py",
   "mimetype": "text/x-python",
   "name": "python",
   "nbconvert_exporter": "python",
   "pygments_lexer": "ipython3",
   "version": "3.11.7"
  }
 },
 "nbformat": 4,
 "nbformat_minor": 5
}
