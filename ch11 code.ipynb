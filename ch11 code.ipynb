{
 "cells": [
  {
   "cell_type": "code",
   "execution_count": null,
   "id": "9e01ebd5",
   "metadata": {},
   "outputs": [],
   "source": [
    "# import pandas as pd"
   ]
  },
  {
   "cell_type": "code",
   "execution_count": null,
   "id": "e788d959",
   "metadata": {},
   "outputs": [],
   "source": [
    "import pandas as pd\n",
    "\n",
    "s = pd.Series([0,1,3])\n",
    "print(s)"
   ]
  },
  {
   "cell_type": "code",
   "execution_count": null,
   "id": "d50dfd43",
   "metadata": {},
   "outputs": [],
   "source": [
    "s = pd. Series([5.0, 4.0, 3.0, 2.0, 1.0] , index=[\"a\", \"b\", \"c\", \"d\", \"e\"])\n",
    "print(s)"
   ]
  },
  {
   "cell_type": "code",
   "execution_count": null,
   "id": "606065d1",
   "metadata": {},
   "outputs": [],
   "source": [
    "dict = {\"a\": 5.0, \"b\": 4.0, \"c\": 3.0, \"d\": 2.0, \"e\": 1.0}\n",
    "s = pd.Series(dict)\n",
    "print(s)"
   ]
  },
  {
   "cell_type": "code",
   "execution_count": null,
   "id": "7a063721",
   "metadata": {},
   "outputs": [],
   "source": [
    "d = {\"b\": 1, \"a\": 0, \"c\": 2}\n",
    "s = pd.Series(d)\n",
    "\n",
    "print(s[\"e\"]) # 输出：KeyError: 'e'\n",
    "print(s[\"10\"]) # 输出：KeyError: '10'\n",
    "print(s.array) # 输出： [1, 0, 2]"
   ]
  },
  {
   "cell_type": "code",
   "execution_count": null,
   "id": "e25cb251",
   "metadata": {},
   "outputs": [],
   "source": [
    "d = {\"b\": 1, \"a\": 0, \"c\": 2}\n",
    "s = pd.Series(d)\n",
    "print(s[s > 1])\n",
    "print('*'*20) #打印程序分割线\n",
    "d = {\"b\": 1, \"a\": 0, \"c\": 2}\n",
    "s = pd.Series(d, index=[\"b\", \"c\", \"d\", \"a\"])\n",
    "print(s)\n",
    "print('*'*20) #打印程序分割线\n",
    "print(s[s.notnull()])"
   ]
  },
  {
   "cell_type": "code",
   "execution_count": null,
   "id": "3ad88513",
   "metadata": {},
   "outputs": [],
   "source": [
    "d = {\"b\": 1, \"a\": 0, \"c\": 2}\n",
    "s = pd.Series(d)\n",
    "s[\"b\"] = 5.0\n",
    "s[\"d\"] = 8.0\n",
    "print(s)"
   ]
  },
  {
   "cell_type": "code",
   "execution_count": null,
   "id": "83f48309",
   "metadata": {},
   "outputs": [],
   "source": [
    "s = pd. Series([1, 3, 2, 4] , index=[\"b\", \"a\", \"c\", \"d\"])\n",
    "print(s * 2) # 标量乘法：\n",
    "print(s + s) # 加法运算，Series对象支持直接与其他Series进行运算"
   ]
  },
  {
   "cell_type": "code",
   "execution_count": null,
   "id": "d2a0414e",
   "metadata": {},
   "outputs": [],
   "source": [
    "s1 = pd.Series([1, 3, 2, 4], index=[\"b\", \"a\", \"c\", \"d\"])\n",
    "s2 = pd.Series([2, 5, 1], index=[\"b\", \"c\", \"d\"])\n",
    "print(s1[1:] + s2[:-1])"
   ]
  },
  {
   "cell_type": "code",
   "execution_count": null,
   "id": "f6451c33",
   "metadata": {},
   "outputs": [],
   "source": [
    "s = pd. Series([1, 3, 2, 4] , index=[\"b\", \"a\", \"c\", \"d\"])\n",
    "print(s.apply(lambda x: x + 1))"
   ]
  },
  {
   "cell_type": "markdown",
   "id": "5a4bc0f0",
   "metadata": {},
   "source": [
    "# DataFrame对象的应用"
   ]
  },
  {
   "cell_type": "code",
   "execution_count": 3,
   "id": "e8feedc0",
   "metadata": {},
   "outputs": [
    {
     "name": "stdout",
     "output_type": "stream",
     "text": [
      "   one  two\n",
      "a  1.0  1.0\n",
      "b  2.0  2.0\n",
      "c  3.0  3.0\n",
      "d  NaN  4.0\n",
      "   one  two\n",
      "d  NaN  4.0\n",
      "b  2.0  2.0\n",
      "a  1.0  1.0\n",
      "   two\n",
      "d  4.0\n",
      "b  2.0\n",
      "a  1.0\n"
     ]
    }
   ],
   "source": [
    "import pandas as pd\n",
    "\n",
    "d = {\"one\": pd.Series([1.0, 2.0, 3.0], index=[\"a\", \"b\", \"c\"]),\n",
    "     \"two\": pd.Series([1.0, 2.0, 3.0, 4.0], index=[\"a\", \"b\", \"c\", \"d\"])\n",
    "    }\n",
    "df = pd.DataFrame(d)\n",
    "print(df)\n",
    "print(pd.DataFrame(d, index=[\"d\", \"b\", \"a\"]))\n",
    "print(pd.DataFrame(d, index=[\"d\", \"b\", \"a\"], columns=[\"two\"]))"
   ]
  },
  {
   "cell_type": "code",
   "execution_count": null,
   "id": "90dc9a10",
   "metadata": {},
   "outputs": [],
   "source": [
    "d = {\"one\": pd.Series([1.0, 2.0, 3.0], index=[\"a\", \"b\", \"c\"]),\n",
    "     \"two\": pd.Series([1.0, 2.0, 3.0, 4.0], index=[\"a\", \"b\", \"c\", \"d\"])\n",
    "    }\n",
    "df = pd.DataFrame(d)\n",
    "df_set_index = df.set_index(\"one\") # 使用set_index将“one”列作为索引\n",
    "print(df_set_index)"
   ]
  },
  {
   "cell_type": "code",
   "execution_count": null,
   "id": "76aeee0c",
   "metadata": {},
   "outputs": [],
   "source": [
    "d = {\"one\": pd.Series([1.0, 2.0, 3.0], index=[\"a\", \"b\", \"c\"]),\n",
    "     \"two\": pd.Series([1.0, 2.0, 3.0, 4.0], index=[\"a\", \"b\", \"c\", \"d\"])\n",
    "    }\n",
    "df = pd.DataFrame(d)\n",
    "new_index = [\"d\",\"a\",\"b\",\"c\"] # 新的行索引顺序\n",
    "df_reindex = df.reindex(new_index)\n",
    "print(df_reindex)"
   ]
  },
  {
   "cell_type": "code",
   "execution_count": null,
   "id": "101b54b0",
   "metadata": {},
   "outputs": [],
   "source": [
    "d = {\"one\": pd.Series([1.0, 2.0, 3.0], index=[\"a\", \"b\", \"c\"]),\n",
    "     \"two\": pd.Series([1.0, 2.0, 3.0, 4.0], index=[\"a\", \"b\", \"c\", \"d\"])\n",
    "    }\n",
    "df = pd.DataFrame(d)\n",
    "print(df.index) # 输出：Index(['a', 'b', 'c', 'd'], dtype='object')\n",
    "\n",
    "print(df.columns) # 输出：Index(['one', 'two'], dtype='object')\n",
    "print(df.shape) # 输出：(4, 2)\n",
    "print(df.values) # 输出 DataFrame的值"
   ]
  },
  {
   "cell_type": "code",
   "execution_count": null,
   "id": "a982176f",
   "metadata": {},
   "outputs": [],
   "source": [
    "GDP_data = {\"时间\": pd.Series(['2019','2020', '2021', '2022', '2023', '2024']),\n",
    "            \"GDP\": pd.Series([100.59, 103.49,117.38,123.4, 129.43, 135.91]),\n",
    "            \"增速\": pd.Series([6.1, 2.3, 8.6, 3.1, 5.4, 5])}\n",
    "GDP_df = pd.DataFrame(GDP_data)\n",
    "GDP_df = GDP_df.set_index([\"时间\"])\n",
    "print(GDP_df)\n",
    "print(GDP_df[0:1]) # 获取第一行\n",
    "print(GDP_df[1:3]) # 获取第二、三行\n",
    "print(GDP_df['2022':'2024']) # 获取第四行到最后一行\n",
    "print(GDP_df.head()) # 默认获取前5行数据\n",
    "print(GDP_df.head(2)) # 获取前两行\n",
    "print(GDP_df.tail(1)) # 获取最后一行数据"
   ]
  },
  {
   "cell_type": "code",
   "execution_count": null,
   "id": "09450b15",
   "metadata": {},
   "outputs": [],
   "source": [
    "print(GDP_df[\"增速\"]) # 获取增速列"
   ]
  },
  {
   "cell_type": "code",
   "execution_count": null,
   "id": "5f1bafa9",
   "metadata": {},
   "outputs": [],
   "source": [
    "GDP_df.loc['2020':'2023']"
   ]
  },
  {
   "cell_type": "code",
   "execution_count": null,
   "id": "38ec50ab",
   "metadata": {},
   "outputs": [],
   "source": [
    "print(GDP_df.loc['2020':'2022', 'GDP': '增速']) # 选取对应的2行2列数据"
   ]
  },
  {
   "cell_type": "code",
   "execution_count": null,
   "id": "31df844a",
   "metadata": {},
   "outputs": [],
   "source": [
    "print(GDP_df.iloc[1:4, 0: ]) # 基于数据所在行列位置进行选择，结果同上"
   ]
  },
  {
   "cell_type": "code",
   "execution_count": null,
   "id": "c62926e8",
   "metadata": {},
   "outputs": [],
   "source": [
    "print(GDP_df.at['2020', '增速']) # 基于标签选择2020年的增速值：2.2"
   ]
  },
  {
   "cell_type": "code",
   "execution_count": null,
   "id": "d6a7352d",
   "metadata": {},
   "outputs": [],
   "source": [
    "GDP_data = {\"时间\": pd.Series(['2019','2020', '2021', '2022', '2023', '2024']),\n",
    "            \"GDP\": pd.Series([100.59, 103.49,117.38,123.4, 129.43, 135.91]),\n",
    "            \"增速\": pd.Series([6.1, 2.3, 8.6, 3.1, 5.4, 5])}\n",
    "GDP_df = pd.DataFrame(GDP_data)\n",
    "GDP_df = GDP_df.set_index([\"时间\"])\n",
    "\n",
    "print(GDP_df)\n",
    "print(GDP_df.loc['2020']) # 选取2020年份对应的行\n",
    "print(GDP_df.loc['2020':'2023']) # 选取2018、2020、2022三年对应的三行\n",
    "print(GDP_df.loc['2020':'2022', 'GDP': '增速']) # 选取对应的2行2列数据\n",
    "print(GDP_df.iloc[1:4, 0: ]) # 基于数据所在行列位置进行选择，结果同上\n",
    "print(GDP_df.at['2020', '增速']) # 基于标签选择2020年的增速值：2.3\n",
    "print(GDP_df.iat[1,1]) # 基于位置选择2020年的增速值：2.3"
   ]
  },
  {
   "cell_type": "code",
   "execution_count": null,
   "id": "82e11645",
   "metadata": {},
   "outputs": [],
   "source": [
    "Num_data = {\"one\": pd.Series([1.0, 2.0, 3.0], index = ['a', 'b', 'c']),\n",
    "            \"two\": pd.Series([1.0, 2.0, 3.0, 4.0],index = ['a', 'b', 'c','d'])\n",
    "           }\n",
    "Num_df = pd.DataFrame(Num_data)\n",
    "print(Num_df)"
   ]
  },
  {
   "cell_type": "code",
   "execution_count": null,
   "id": "9ad9341c",
   "metadata": {},
   "outputs": [],
   "source": [
    "Num_df.insert(1, \"bar\", Num_df[\"one\"])\n",
    "print(Num_df)"
   ]
  },
  {
   "cell_type": "code",
   "execution_count": null,
   "id": "c331f055",
   "metadata": {},
   "outputs": [],
   "source": [
    "print(Num_df.assign(new_row=lambda x: x['one'] * x['two']))"
   ]
  },
  {
   "cell_type": "code",
   "execution_count": null,
   "id": "282f6494",
   "metadata": {},
   "outputs": [],
   "source": [
    "Num_filter = Num_df[Num_df['two'] > 2.5] # 筛选出“two”列大于2.5的行\n",
    "print(Num_filter)"
   ]
  },
  {
   "cell_type": "code",
   "execution_count": null,
   "id": "36627652",
   "metadata": {},
   "outputs": [],
   "source": [
    "# 筛选出“two”列大于2.5且“one”列大于2.0的行\n",
    "Num_filter = Num_df.loc[(Num_df['two'] > 2.5) & (Num_df['one'] > 2.0)]\n",
    "print(Num_filter)"
   ]
  },
  {
   "cell_type": "code",
   "execution_count": null,
   "id": "266138c6",
   "metadata": {},
   "outputs": [],
   "source": [
    "print(Num_df.apply(lambda x: x['one'] * x['two'], axis=1))"
   ]
  },
  {
   "cell_type": "code",
   "execution_count": null,
   "id": "1718c934",
   "metadata": {},
   "outputs": [],
   "source": [
    "print(Num_df.apply(lambda x: x['a'] * x['b'], axis=0))"
   ]
  },
  {
   "cell_type": "code",
   "execution_count": null,
   "id": "38746274",
   "metadata": {},
   "outputs": [],
   "source": [
    "print(Num_df.map(lambda x: x + 1))"
   ]
  },
  {
   "cell_type": "code",
   "execution_count": null,
   "id": "745653ca",
   "metadata": {},
   "outputs": [],
   "source": [
    "data = {'Department': ['Sales', 'Sales', 'HR', 'HR', 'IT', 'IT', 'IT'],\n",
    "    'Employee': ['Alice', 'Bob', 'Charlie', 'David', 'Eva', 'Frank', 'Grace'],\n",
    "    'Salary': [55000, 60000, 45000, 47000, 70000, 72000, 75000]\n",
    "       }\n",
    "df = pd.DataFrame(data)\n",
    "\n",
    "grouped = df.groupby('Department')# 进行分组操作：根据 'Department' 列分组\n",
    "avg_salary = grouped['Salary'].mean() # 对每个部门计算平均薪资\n",
    "print(avg_salary)"
   ]
  },
  {
   "cell_type": "code",
   "execution_count": null,
   "id": "778d9c8f",
   "metadata": {},
   "outputs": [],
   "source": [
    "data1 = {'A': ['A0', 'A1', 'A2', 'A3'],\n",
    "        'B': ['B0', 'B1', 'B2', 'B3'],\n",
    "        'C': ['C0', 'C1', 'C2', 'C3'],\n",
    "        'D': ['D0', 'D1', 'D2', 'D3']\n",
    "       }\n",
    "df1 = pd.DataFrame(data1)\n",
    "print(df1)"
   ]
  },
  {
   "cell_type": "code",
   "execution_count": null,
   "id": "4209abfd",
   "metadata": {},
   "outputs": [],
   "source": [
    "data2 = {'A': ['A4', 'A5', 'A6', 'A7'],\n",
    "        'B': ['B4', 'B5', 'B6', 'B7'], \n",
    "        'C': ['C4', 'C5', 'C6', 'C7'],\n",
    "        'D': ['D4', 'D5', 'D6', 'D7']\n",
    "       }\n",
    "df2 = pd.DataFrame(data2)\n",
    "print(df2)"
   ]
  },
  {
   "cell_type": "code",
   "execution_count": null,
   "id": "95524abf",
   "metadata": {},
   "outputs": [],
   "source": [
    "res_df1 = pd.concat([df1,df2], ignore_index = True) # 合并两个对象\n",
    "print(res_df1)"
   ]
  },
  {
   "cell_type": "code",
   "execution_count": null,
   "id": "c8c80434",
   "metadata": {},
   "outputs": [],
   "source": [
    "data3 = {'A': ['A8', 'A9', 'A10', 'A11'],\n",
    "        'B': ['B8', 'B9', 'B10', 'B11'], \n",
    "        'C': ['C8', 'C9', 'C10', 'C11'],\n",
    "        'D': ['D8', 'D9', 'D10', 'D11']\n",
    "       }\n",
    "df3 = pd.DataFrame(data3)\n",
    "print(df3)"
   ]
  },
  {
   "cell_type": "code",
   "execution_count": null,
   "id": "000db7fb",
   "metadata": {},
   "outputs": [],
   "source": [
    "res_df2 = pd.concat([df1, df2,df3], ignore_index = True) # 合并三个对象\n",
    "print(res_df2)"
   ]
  },
  {
   "cell_type": "code",
   "execution_count": null,
   "id": "a6a74c08",
   "metadata": {},
   "outputs": [],
   "source": [
    "left = {'key':['K0','K1', 'K2', 'K3'],\n",
    "        'A': ['A0', 'A1', 'A2', 'A3'],\n",
    "        'B': ['B0', 'B1', 'B2', 'B3']\n",
    "       }\n",
    "left_df = pd.DataFrame(left)"
   ]
  },
  {
   "cell_type": "code",
   "execution_count": null,
   "id": "ca1b8e8f",
   "metadata": {},
   "outputs": [],
   "source": [
    "right = {'key':['K0','K1', 'K2', 'K3'],\n",
    "        'C': ['C0', 'C1', 'C2', 'C3'],\n",
    "        'D': ['D0', 'D1', 'D2', 'D3']\n",
    "        }\n",
    "right_df = pd.DataFrame(right)"
   ]
  },
  {
   "cell_type": "code",
   "execution_count": null,
   "id": "08895dea",
   "metadata": {},
   "outputs": [],
   "source": [
    "res_df = pd.merge(left_df, right_df, on = 'key')\n",
    "print(res_df)"
   ]
  },
  {
   "cell_type": "code",
   "execution_count": null,
   "id": "c3afddf1",
   "metadata": {},
   "outputs": [],
   "source": [
    "left = {'key1':['K0','K0', 'K1', 'K2'],\n",
    "        'key2':['K0','K1', 'K0', 'K1'],\n",
    "        'A': ['A0', 'A1', 'A2', 'A3'],\n",
    "        'B': ['B0', 'B1', 'B2', 'B3']\n",
    "       }\n",
    "left_df = pd.DataFrame(left)"
   ]
  },
  {
   "cell_type": "code",
   "execution_count": null,
   "id": "71c78e83",
   "metadata": {},
   "outputs": [],
   "source": [
    "right = {'key1':['K0','K1', 'K1', 'K2'],\n",
    "        'key2':['K0','K0', 'K0', 'K0'],\n",
    "        'C': ['C0', 'C1', 'C2', 'C3'],\n",
    "        'D': ['D0', 'D1', 'D2', 'D3']\n",
    "       }\n",
    "right_df = pd.DataFrame(right)"
   ]
  },
  {
   "cell_type": "code",
   "execution_count": null,
   "id": "f8edcbaf",
   "metadata": {},
   "outputs": [],
   "source": [
    "res_df = pd.merge(left_df, right_df, on =['key1','key2'])\n",
    "print(res_df)"
   ]
  },
  {
   "cell_type": "code",
   "execution_count": null,
   "id": "30faa247",
   "metadata": {},
   "outputs": [],
   "source": [
    "res_df = pd.merge(left_df, right_df, how= 'outer', on = ['key1', 'key2'])\n",
    "print(res_df)"
   ]
  },
  {
   "cell_type": "code",
   "execution_count": 16,
   "id": "79896769",
   "metadata": {},
   "outputs": [
    {
     "name": "stdout",
     "output_type": "stream",
     "text": [
      "  Unnamed: 0  one  two\n",
      "0          a  1.0  1.0\n",
      "1          b  2.0  2.0\n",
      "2          c  3.0  3.0\n",
      "3          d  NaN  4.0\n"
     ]
    }
   ],
   "source": [
    "import pandas as pd\n",
    "\n",
    "df1 = pd.read_csv('test.csv')\n",
    "print(df1)"
   ]
  },
  {
   "cell_type": "code",
   "execution_count": 21,
   "id": "036b5890",
   "metadata": {},
   "outputs": [
    {
     "name": "stdout",
     "output_type": "stream",
     "text": [
      "   时间（年）  GDP（单位：万亿）  增速（%）\n",
      "0   2019      100.59    6.1\n",
      "1   2020      103.49    2.3\n",
      "2   2021      117.38    8.6\n",
      "3   2022      123.40    3.1\n",
      "4   2023      129.43    5.4\n",
      "5   2024      135.91    5.0\n"
     ]
    },
    {
     "data": {
      "text/plain": [
       "pandas.core.frame.DataFrame"
      ]
     },
     "execution_count": 21,
     "metadata": {},
     "output_type": "execute_result"
    }
   ],
   "source": [
    "import pandas as pd\n",
    "\n",
    "df2 = pd.read_excel('data2_xlsx.xlsx')\n",
    "print(df2)\n",
    "type(df2)"
   ]
  },
  {
   "cell_type": "code",
   "execution_count": null,
   "id": "7b883a8d",
   "metadata": {},
   "outputs": [],
   "source": [
    "import pandas as pd\n",
    "\n",
    "d = {\"one\": pd.Series([1.0, 2.0, 3.0], index=[\"a\", \"b\", \"c\"]),\n",
    "    \"two\": pd.Series([1.0, 2.0, 3.0, 4.0], index=[\"a\", \"b\", \"c\", \"d\"])}\n",
    "df = pd.DataFrame(d)\n",
    "print(df)\n",
    "df.to_csv(\"test.csv\", header=True, index=True)"
   ]
  },
  {
   "cell_type": "markdown",
   "id": "0b3fd1b5",
   "metadata": {},
   "source": [
    "# Pandas库的应用实例"
   ]
  },
  {
   "cell_type": "code",
   "execution_count": 4,
   "id": "3aa9e73c",
   "metadata": {},
   "outputs": [
    {
     "name": "stdout",
     "output_type": "stream",
     "text": [
      "   user  movie                                            comment\n",
      "0     0  坠落的审判                                   应该给狗狗也颁发一个最佳演技奖！\n",
      "1     1  坠落的审判  夫妻在小屋的那场对话争吵拍得好绝！男人与生俱来的天赋就是用“无赖的方式”把一个情绪稳定的女人...\n",
      "2     2  坠落的审判                            没有哪一种生活能经受得住抽丝剥茧的审问与反刍。\n",
      "3     3  坠落的审判  1. 同意在任何一段关系里都不应该有一方迷失自我，并且也不应该把责任推到另一方身上。最重要的...\n",
      "4     4  坠落的审判                                     生活的正义从来都与真相无关。\n"
     ]
    }
   ],
   "source": [
    "import pandas\n",
    "\n",
    "comment_df = pandas.read_csv(\"movie_comment.csv\")\n",
    "rate_df = pandas.read_csv(\"movie_rate.csv\")\n",
    "print(comment_df.head())"
   ]
  },
  {
   "cell_type": "code",
   "execution_count": 5,
   "id": "28bd4efc",
   "metadata": {},
   "outputs": [
    {
     "name": "stdout",
     "output_type": "stream",
     "text": [
      "   user  movie rate\n",
      "0     0  坠落的审判   推荐\n",
      "1     1  坠落的审判   力荐\n",
      "2     2  坠落的审判   力荐\n",
      "3     3  坠落的审判   推荐\n",
      "4     4  坠落的审判   推荐\n"
     ]
    }
   ],
   "source": [
    "print(rate_df.head())"
   ]
  },
  {
   "cell_type": "code",
   "execution_count": 6,
   "id": "bd2b90ea",
   "metadata": {},
   "outputs": [],
   "source": [
    "df = pandas.merge(comment_df, rate_df, how=\"inner\")"
   ]
  },
  {
   "cell_type": "code",
   "execution_count": 7,
   "id": "74dcb4f5",
   "metadata": {},
   "outputs": [
    {
     "name": "stdout",
     "output_type": "stream",
     "text": [
      "   user  movie                                            comment rate\n",
      "0     0  坠落的审判                                   应该给狗狗也颁发一个最佳演技奖！   推荐\n",
      "1     1  坠落的审判  夫妻在小屋的那场对话争吵拍得好绝！男人与生俱来的天赋就是用“无赖的方式”把一个情绪稳定的女人...   力荐\n",
      "2     2  坠落的审判                            没有哪一种生活能经受得住抽丝剥茧的审问与反刍。   力荐\n",
      "3     3  坠落的审判  1. 同意在任何一段关系里都不应该有一方迷失自我，并且也不应该把责任推到另一方身上。最重要的...   推荐\n",
      "4     4  坠落的审判                                     生活的正义从来都与真相无关。   推荐\n",
      "5     5  坠落的审判  我心中的金棕榈和最佳女演员桑德拉·惠勒。从极小的切口进入叙事，逐渐如飓风般席卷所有，真相与谎...   力荐\n",
      "6     6  坠落的审判  戛纳看的  巨好看 我超级喜欢 我觉得所有有过长期稳定relationship/经历过恐惧失...   力荐\n",
      "7     7  坠落的审判  由死亡引发的婚姻剖析和自我解读，一遍遍揭露的生活的隐痛。剧本太好，太完整了，需要细细品味。西...   力荐\n",
      "8     8  坠落的审判                           我只想知道犯罪和惊悚这两个标签是哪个傻逼加上去的   还行\n",
      "9     9  坠落的审判  【A】至少是十年来最好的金棕榈，感觉有一种神奇的引力充斥全片，包罗万象。本来以为就这样了，结...   力荐\n"
     ]
    }
   ],
   "source": [
    "print(df.head(10))"
   ]
  },
  {
   "cell_type": "code",
   "execution_count": 8,
   "id": "c8b96dd9",
   "metadata": {},
   "outputs": [
    {
     "name": "stdout",
     "output_type": "stream",
     "text": [
      "['推荐' '力荐' '还行' '较差' '很差' nan]\n"
     ]
    }
   ],
   "source": [
    "print(df['rate'].unique())"
   ]
  },
  {
   "cell_type": "code",
   "execution_count": 9,
   "id": "01a00a22",
   "metadata": {},
   "outputs": [],
   "source": [
    "df.dropna(axis=0, how=\"any\", inplace=True)"
   ]
  },
  {
   "cell_type": "code",
   "execution_count": 10,
   "id": "7bbaca65",
   "metadata": {},
   "outputs": [
    {
     "name": "stdout",
     "output_type": "stream",
     "text": [
      "['推荐' '力荐' '还行' '较差' '很差']\n"
     ]
    }
   ],
   "source": [
    "print(df['rate'].unique())"
   ]
  },
  {
   "cell_type": "code",
   "execution_count": 11,
   "id": "62b0a65a",
   "metadata": {},
   "outputs": [
    {
     "name": "stdout",
     "output_type": "stream",
     "text": [
      "   user  movie                                            comment rate  \\\n",
      "0     0  坠落的审判                                   应该给狗狗也颁发一个最佳演技奖！   推荐   \n",
      "1     1  坠落的审判  夫妻在小屋的那场对话争吵拍得好绝！男人与生俱来的天赋就是用“无赖的方式”把一个情绪稳定的女人...   力荐   \n",
      "2     2  坠落的审判                            没有哪一种生活能经受得住抽丝剥茧的审问与反刍。   力荐   \n",
      "3     3  坠落的审判  1. 同意在任何一段关系里都不应该有一方迷失自我，并且也不应该把责任推到另一方身上。最重要的...   推荐   \n",
      "4     4  坠落的审判                                     生活的正义从来都与真相无关。   推荐   \n",
      "5     5  坠落的审判  我心中的金棕榈和最佳女演员桑德拉·惠勒。从极小的切口进入叙事，逐渐如飓风般席卷所有，真相与谎...   力荐   \n",
      "6     6  坠落的审判  戛纳看的  巨好看 我超级喜欢 我觉得所有有过长期稳定relationship/经历过恐惧失...   力荐   \n",
      "7     7  坠落的审判  由死亡引发的婚姻剖析和自我解读，一遍遍揭露的生活的隐痛。剧本太好，太完整了，需要细细品味。西...   力荐   \n",
      "8     8  坠落的审判                           我只想知道犯罪和惊悚这两个标签是哪个傻逼加上去的   还行   \n",
      "9     9  坠落的审判  【A】至少是十年来最好的金棕榈，感觉有一种神奇的引力充斥全片，包罗万象。本来以为就这样了，结...   力荐   \n",
      "\n",
      "   rate_level  \n",
      "0           4  \n",
      "1           5  \n",
      "2           5  \n",
      "3           4  \n",
      "4           4  \n",
      "5           5  \n",
      "6           5  \n",
      "7           5  \n",
      "8           3  \n",
      "9           5  \n"
     ]
    }
   ],
   "source": [
    "rate_map = {\n",
    "    \"力荐\": 5,\n",
    "    \"推荐\": 4,\n",
    "    \"还行\": 3,\n",
    "    \"较差\": 2,\n",
    "    \"很差\": 1,\n",
    "}\n",
    "\n",
    "df['rate_level'] = df.apply(lambda x: rate_map[x['rate']], axis=1)\n",
    "print(df.head(10))"
   ]
  },
  {
   "cell_type": "code",
   "execution_count": 12,
   "id": "c72e2bf4",
   "metadata": {},
   "outputs": [
    {
     "name": "stdout",
     "output_type": "stream",
     "text": [
      "        rate_level                                             \n",
      "             count      mean       std  min  25%  50%  75%  max\n",
      "movie                                                          \n",
      "1947波士顿       60.0  3.600000  0.785461  2.0  3.0  3.0  4.0  5.0\n",
      "你在光影阑珊处       60.0  3.633333  1.073039  1.0  3.0  4.0  4.0  5.0\n",
      "傻钱            59.0  3.237288  1.022825  1.0  3.0  3.0  4.0  5.0\n",
      "坠落的审判         60.0  4.033333  1.057125  1.0  3.0  4.0  5.0  5.0\n",
      "奈德            59.0  4.033898  0.718382  3.0  4.0  4.0  5.0  5.0\n",
      "教师休息室         59.0  3.932203  0.583225  3.0  4.0  4.0  4.0  5.0\n",
      "猜谜女士          60.0  3.800000  0.798303  2.0  3.0  4.0  4.0  5.0\n",
      "电锯惊魂10        59.0  3.508475  0.916757  1.0  3.0  3.0  4.0  5.0\n",
      "茜茜和我          44.0  3.500000  0.876038  2.0  3.0  3.0  4.0  5.0\n",
      "蓝色巨人          57.0  3.807018  0.854371  2.0  3.0  4.0  4.0  5.0\n"
     ]
    }
   ],
   "source": [
    "print(df[['movie', 'rate_level']].groupby('movie').describe())"
   ]
  },
  {
   "cell_type": "code",
   "execution_count": 13,
   "id": "974d1451",
   "metadata": {},
   "outputs": [
    {
     "name": "stdout",
     "output_type": "stream",
     "text": [
      "     user    movie                                            comment rate  \\\n",
      "0     290     猜谜女士       很搞笑和励志的电影，姐姐几乎为妹妹做了一切，现场观众笑声不断，几乎到片尾字幕结束才离场。   力荐   \n",
      "1     105       奈德  金国威夫妇开拍剧情片了。真实人物传记片，安妮特贝宁，朱迪福斯特，梦幻团队的演绎。60多岁五次...   力荐   \n",
      "2     451  1947波士顿  他们没钱去波士顿跑马拉松，那为什么不去纽约跑呢？原来纽约直到1970年才有马拉松比赛！电影描...   力荐   \n",
      "3     198    教师休息室  看到一半想起初中班主任一副拽样讲以前有一个定点到办公室偷钱的学生，如何被老师们设计假装广播开...   力荐   \n",
      "4     195    教师休息室                                    全程脚趾扣地的电影，堪比惊悚片   力荐   \n",
      "..    ...      ...                                                ...  ...   \n",
      "572   532       傻钱                                            不是特别有意思   很差   \n",
      "573   518       傻钱  音乐用的太烂了（难道是为了流行趋势的现状故意的？），以及塞斯·罗根和皮特·戴维森的烂演技稳稳...   很差   \n",
      "574   175  你在光影阑珊处                                             一颗星给女的   很差   \n",
      "575    36    坠落的审判                                     就挺无聊的，二倍速也浪费时间   很差   \n",
      "576   509       傻钱                                          Dumb film   很差   \n",
      "\n",
      "     rate_level  \n",
      "0             5  \n",
      "1             5  \n",
      "2             5  \n",
      "3             5  \n",
      "4             5  \n",
      "..          ...  \n",
      "572           1  \n",
      "573           1  \n",
      "574           1  \n",
      "575           1  \n",
      "576           1  \n",
      "\n",
      "[577 rows x 5 columns]\n"
     ]
    }
   ],
   "source": [
    "df.sort_values(by=['rate_level'], ascending=False, inplace=True, ignore_index=True)\n",
    "print(df)"
   ]
  },
  {
   "cell_type": "code",
   "execution_count": 14,
   "id": "dd92924a",
   "metadata": {},
   "outputs": [],
   "source": [
    "df.to_excel(\"movie.xlsx\", index=False)"
   ]
  },
  {
   "cell_type": "code",
   "execution_count": null,
   "id": "ba0c0717",
   "metadata": {},
   "outputs": [],
   "source": []
  }
 ],
 "metadata": {
  "kernelspec": {
   "display_name": "Python 3 (ipykernel)",
   "language": "python",
   "name": "python3"
  },
  "language_info": {
   "codemirror_mode": {
    "name": "ipython",
    "version": 3
   },
   "file_extension": ".py",
   "mimetype": "text/x-python",
   "name": "python",
   "nbconvert_exporter": "python",
   "pygments_lexer": "ipython3",
   "version": "3.11.7"
  }
 },
 "nbformat": 4,
 "nbformat_minor": 5
}
