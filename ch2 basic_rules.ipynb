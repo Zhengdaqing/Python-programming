{
 "cells": [
  {
   "cell_type": "code",
   "execution_count": 2,
   "id": "7a8d7634-3d81-4cf7-ab6f-1b78ab59488f",
   "metadata": {},
   "outputs": [
    {
     "name": "stdout",
     "output_type": "stream",
     "text": [
      "['False', 'None', 'True', 'and', 'as', 'assert', 'async', 'await', 'break', 'class', 'continue', 'def', 'del', 'elif', 'else', 'except', 'finally', 'for', 'from', 'global', 'if', 'import', 'in', 'is', 'lambda', 'nonlocal', 'not', 'or', 'pass', 'raise', 'return', 'try', 'while', 'with', 'yield']\n"
     ]
    }
   ],
   "source": [
    "# Python Keywrods\n",
    "import keyword\n",
    "print(keyword.kwlist)"
   ]
  },
  {
   "cell_type": "code",
   "execution_count": 43,
   "id": "fe175a2f-4def-440a-88b6-d55b6c2289cb",
   "metadata": {},
   "outputs": [],
   "source": [
    "#合法的变量标识符\n",
    "variable_1 = 5\n",
    "name = 'Mike'\n",
    "total_sum = 0\n",
    "\n",
    "# 合法的函数名\n",
    "def calculate_sum(num1, num2):\n",
    "    return num1 + num2\n",
    "\n",
    "# 合法的类名\n",
    "class SampleClass:\n",
    "    pass"
   ]
  },
  {
   "cell_type": "code",
   "execution_count": 2,
   "id": "e6cc45bc-b2e7-4861-9240-9200bd8cfc18",
   "metadata": {},
   "outputs": [
    {
     "name": "stdout",
     "output_type": "stream",
     "text": [
      "圆的面积是： 31415.926535897932\n"
     ]
    }
   ],
   "source": [
    "# 变量赋值\n",
    "import math\n",
    "\n",
    "radius = 100\n",
    "area = math.pi * radius **2\n",
    "print(\"圆的面积是：\", area)"
   ]
  },
  {
   "cell_type": "code",
   "execution_count": 45,
   "id": "83c1550f-a53f-4d3e-8237-dc536ad0ef92",
   "metadata": {},
   "outputs": [
    {
     "name": "stdout",
     "output_type": "stream",
     "text": [
      "1 2\n",
      "2 1\n"
     ]
    }
   ],
   "source": [
    "# 用解包赋值实现两个变量的值交换\n",
    "a = 1\n",
    "b = 2\n",
    "print(a, b)\n",
    "a, b = b, a\n",
    "print(a, b)"
   ]
  },
  {
   "cell_type": "code",
   "execution_count": 46,
   "id": "5e569eea-4220-42e3-a835-2f36ade4da0c",
   "metadata": {},
   "outputs": [
    {
     "name": "stdin",
     "output_type": "stream",
     "text": [
      "please input your name: Daqing\n",
      "please input your monthly salary: 5000\n",
      "please input your name and age, separated by spaces: Daqing 40\n"
     ]
    },
    {
     "name": "stdout",
     "output_type": "stream",
     "text": [
      "you name is Daqing and you age is 40\n"
     ]
    }
   ],
   "source": [
    "Name = input('please input your name:')\n",
    "Salary = float(input('please input your monthly salary:'))\n",
    "# 从单个输入中同时获取两个数据\n",
    "Name, age = input('please input your name and age, separated by spaces:').split()\n",
    "print('you name is', Name, 'and you age is', age)"
   ]
  },
  {
   "cell_type": "code",
   "execution_count": 51,
   "id": "268bcd38-da35-46b6-b4a5-4f70fed8ec10",
   "metadata": {},
   "outputs": [
    {
     "name": "stdout",
     "output_type": "stream",
     "text": [
      "The salary of Alice is 5000\n",
      "The salary of Alice is 5000 yuan.\n",
      "005\n",
      "3.14\n"
     ]
    }
   ],
   "source": [
    "name = 'Alice'\n",
    "salary = 5000\n",
    "# 通过str.format()来对结果进行格式化，它使用大括号’{}’作为占位符\n",
    "print(\"The salary of {} is {}\".format(name, salary))\n",
    "# The salary of Alice is 5000 yuan.\n",
    "\n",
    "# 在字符串前添加f来完成格式化字符串字面量\n",
    "print(f\"The salary of {name} is {salary} yuan.\")\n",
    "# The salary of Alice is 5000 yuan.\n",
    "\n",
    "# 在大括号中指定不同格式化选项\n",
    "print(\"{:0>3d}\".format(5))  # 005\n",
    "\n",
    "print(\"{:.2f}\".format(3.14159))  # 3.14"
   ]
  },
  {
   "cell_type": "code",
   "execution_count": null,
   "id": "3f6daea4-05ea-408d-9a7f-3d40172de800",
   "metadata": {},
   "outputs": [],
   "source": [
    "# 使用for循环逐行读取\n",
    "with open('example.txt', 'r') as file:\n",
    "    for line in file:\n",
    "        print(line, end=' ')\n",
    "# 使用write()方法写入文件\n",
    "with open('example.txt', 'w') as file:\n",
    "    file.write(\"Hello World\\n\")"
   ]
  },
  {
   "cell_type": "code",
   "execution_count": 57,
   "id": "e67acb96-85a5-4b35-bc0a-42a5acbca538",
   "metadata": {},
   "outputs": [
    {
     "data": {
      "text/plain": [
       "-5.0"
      ]
     },
     "execution_count": 57,
     "metadata": {},
     "output_type": "execute_result"
    }
   ],
   "source": [
    "type(-2)  # Int\n",
    "\n",
    "int(\"-5\") # 将字符串类型转化为整数类型，结果是-5\n",
    "\n",
    "int(2.5) # 将浮点数类型转化为整数类型，结果是2\n",
    "\n",
    "large_int = 12345678987654321 # 一个很大的整数可以被创建\n",
    "\n",
    "type(-0.333) # float\n",
    "\n",
    "float(\"3.1415926\") # 将字符串类型转化为浮点数类型，3.1415926\n",
    "\n",
    "float(-5) # 将整数类型转化为浮点数类型，-5.0"
   ]
  },
  {
   "cell_type": "code",
   "execution_count": 1,
   "id": "ca41558f-1496-46a8-833e-6e2f1a3dc90d",
   "metadata": {},
   "outputs": [
    {
     "name": "stdout",
     "output_type": "stream",
     "text": [
      "0.30000000000000004\n",
      "False\n"
     ]
    }
   ],
   "source": [
    "print(0.1+0.2)  # 0.30000000000000004\n",
    "print(0.1+0.2 ==0.3)  # False"
   ]
  },
  {
   "cell_type": "code",
   "execution_count": 5,
   "id": "17bdb3b1-ab9a-4d4f-b27a-c9f0d7d63ffe",
   "metadata": {},
   "outputs": [
    {
     "name": "stdout",
     "output_type": "stream",
     "text": [
      "0.30000000000000004\n",
      "False\n"
     ]
    }
   ],
   "source": [
    "print(0.1+0.2)\n",
    "print(0.1+0.2 ==0.3)"
   ]
  },
  {
   "cell_type": "code",
   "execution_count": 6,
   "id": "e3c4bb27-233a-4287-a5e4-8fc29f7bb947",
   "metadata": {},
   "outputs": [
    {
     "name": "stdout",
     "output_type": "stream",
     "text": [
      "1.2345678901234567e+19\n",
      "1.23456789e-19\n"
     ]
    }
   ],
   "source": [
    "# 非常大的数\n",
    "large_number = 12345678901234567890.0\n",
    "print(large_number)  # 输出: 1.2345678901234568e+19\n",
    "\n",
    "# 非常小的数\n",
    "small_number = 0.000000000000000000123456789\n",
    "print(small_number)  # 输出: 1.23456789e-19"
   ]
  },
  {
   "cell_type": "code",
   "execution_count": 7,
   "id": "9a034d71-cb9d-4604-8b86-9d28debe6326",
   "metadata": {},
   "outputs": [
    {
     "name": "stdout",
     "output_type": "stream",
     "text": [
      "1.2345678901234567e+19\n"
     ]
    }
   ],
   "source": [
    "large_number = 1.2345678901234567e+19\n",
    "print(large_number)"
   ]
  },
  {
   "cell_type": "code",
   "execution_count": 11,
   "id": "67d1461d",
   "metadata": {},
   "outputs": [
    {
     "name": "stdout",
     "output_type": "stream",
     "text": [
      "资金的终值为： 134.39\n",
      "资金的现值为： 74.41\n"
     ]
    }
   ],
   "source": [
    "# ch2-1 计算资金的价值\n",
    "#已知资金现值，利率，计算资金的终值\n",
    "pv = 100 \n",
    "interest_rate = 0.03\n",
    "time_year = 10\n",
    "fv = pv * (1 + interest_rate) ** time_year\n",
    "print(\"资金的终值为：\", round(fv,2)) # 取2位小数\n",
    "\n",
    "#已知资金终值，利率，计算资金的现值\n",
    "fv = 100 \n",
    "interest_rate = 0.03\n",
    "time_year = 10\n",
    "pv = fv /(1 + interest_rate) ** time_year\n",
    "print(\"资金的现值为：\", round(pv, 2)) # 取2位小数"
   ]
  },
  {
   "cell_type": "code",
   "execution_count": 9,
   "id": "9a14bdfd-3cae-48db-8169-d68e08a11fd7",
   "metadata": {},
   "outputs": [
    {
     "name": "stdin",
     "output_type": "stream",
     "text": [
      "输入金额： 67\n"
     ]
    },
    {
     "name": "stdout",
     "output_type": "stream",
     "text": [
      "50元面额的人民币需要的张数： 1\n",
      "5元面额的人民币需要的张数： 3\n",
      "1元面额的人民币需要的张数： 2\n"
     ]
    }
   ],
   "source": [
    "#ch2-1\n",
    "money = eval(input(\"输入金额：\"))\n",
    "m50 = money // 50\n",
    "money = money% 50\n",
    "m5 = money // 5\n",
    "money = money % 5\n",
    "m1 = money\n",
    "print(\"50元面额的人民币需要的张数：\", m50)\n",
    "print(\"5元面额的人民币需要的张数：\", m5)\n",
    "print(\"1元面额的人民币需要的张数：\", m1)"
   ]
  },
  {
   "cell_type": "code",
   "execution_count": 1,
   "id": "005161e3-f776-4ffb-b9aa-8afb366cc3c1",
   "metadata": {},
   "outputs": [
    {
     "name": "stdout",
     "output_type": "stream",
     "text": [
      "3.141592653589793\n"
     ]
    }
   ],
   "source": [
    "import math\n",
    "print(math.pi) # 3.141592653589793"
   ]
  },
  {
   "cell_type": "code",
   "execution_count": 2,
   "id": "476a3863-9e82-499a-8c73-42f4c57306d2",
   "metadata": {},
   "outputs": [
    {
     "name": "stdout",
     "output_type": "stream",
     "text": [
      "3.141592653589793\n"
     ]
    }
   ],
   "source": [
    "from math import pi\n",
    "print(pi) # 3.141592653589793"
   ]
  },
  {
   "cell_type": "code",
   "execution_count": 5,
   "id": "bbf0d912",
   "metadata": {},
   "outputs": [
    {
     "name": "stdout",
     "output_type": "stream",
     "text": [
      "1.0999999999904856e-10\n",
      "1.1e-10\n"
     ]
    }
   ],
   "source": [
    "import math\n",
    "\n",
    "data = [1.1e-16] * 1000000 #100万个极小的浮点数\n",
    "print(sum(data))\n",
    "print(math.fsum(data))"
   ]
  },
  {
   "cell_type": "code",
   "execution_count": 6,
   "id": "0f829d92-07a8-4ae2-a327-b9938a873a6b",
   "metadata": {},
   "outputs": [
    {
     "name": "stdout",
     "output_type": "stream",
     "text": [
      "hello, Daqing\n"
     ]
    }
   ],
   "source": [
    "#ch2-2\n",
    "name = \"Daqing\"\n",
    "greeting = \"hello, \" + name\n",
    "print(greeting) # hello, Daqing"
   ]
  },
  {
   "cell_type": "code",
   "execution_count": 109,
   "id": "6805b726-1012-4929-b7b1-c1d07ea5944e",
   "metadata": {},
   "outputs": [
    {
     "name": "stdout",
     "output_type": "stream",
     "text": [
      "H\n",
      "H\n",
      "d\n",
      "d\n"
     ]
    }
   ],
   "source": [
    "#ch2-3\n",
    "greeting = \"Hello world\"\n",
    "print(greeting[0]) # H \n",
    "print(greeting[-11]) # H\n",
    "print(greeting[-1]) # d\n",
    "print(greeting[10]) # d"
   ]
  },
  {
   "cell_type": "code",
   "execution_count": 20,
   "id": "75204099-f81d-44c4-ba0e-1af3f29e2056",
   "metadata": {},
   "outputs": [
    {
     "name": "stdout",
     "output_type": "stream",
     "text": [
      "Hello world!\n",
      "!dlrow olle\n",
      "olleH\n",
      "!dlrow olleH\n",
      "!r l\n"
     ]
    }
   ],
   "source": [
    "#ch2-4\n",
    "greeting = \"Hello world!\"\n",
    "print(greeting[0:12:1]) # Hello world!\n",
    "print(greeting[12:0:-1]) # !dlrow olle\n",
    "print(greeting[4::-1]) # olleH\n",
    "print(greeting[::-1]) # !dlrow olleH\n",
    "print(greeting[::-3]) # !r l"
   ]
  },
  {
   "cell_type": "code",
   "execution_count": 23,
   "id": "a3072cbd-740a-40cc-8adb-c2e417d42ae0",
   "metadata": {},
   "outputs": [
    {
     "name": "stdout",
     "output_type": "stream",
     "text": [
      "输入一个1～7间的整数：3\n",
      "Wed\n"
     ]
    }
   ],
   "source": [
    "#ch2-5\n",
    "m = int(input(\"输入一个1～7间的整数：\"))\n",
    "date_xingqi=\"MonTueWedThuFriSatSun\"\n",
    "pos = (m-1)*3\n",
    "print(date_xingqi[pos: pos+3])"
   ]
  },
  {
   "cell_type": "code",
   "execution_count": 34,
   "id": "625eeb72-0b63-4aa9-af4b-5acb3d5af178",
   "metadata": {},
   "outputs": [
    {
     "name": "stdout",
     "output_type": "stream",
     "text": [
      "Hellow, world!\n",
      "HellowHellowHellow\n",
      "False\n",
      "H\n",
      "Hellow\n"
     ]
    }
   ],
   "source": [
    "s1 = \"Hellow\"\n",
    "s2 = \"world!\"\n",
    "result = s1 + ', '+ s2\n",
    "print(result)\n",
    "repeated = s1 * 3\n",
    "print(repeated)\n",
    "print(s1 not in repeated)\n",
    "print(s1[0])\n",
    "print(result[0:6])"
   ]
  },
  {
   "cell_type": "code",
   "execution_count": 37,
   "id": "8180574c-7787-4912-a7e4-b7e5146d63bd",
   "metadata": {},
   "outputs": [
    {
     "name": "stdout",
     "output_type": "stream",
     "text": [
      "28\n",
      "8\n",
      "0x3e\n",
      "0o76\n"
     ]
    }
   ],
   "source": [
    "#ch2-6\n",
    "s = \"I am a teacher in University\"\n",
    "print(len(s))\n",
    "print(str(3+5))\n",
    "print(hex(62))\n",
    "print(oct(62))"
   ]
  },
  {
   "cell_type": "code",
   "execution_count": 54,
   "id": "1bb38e8c-3a26-4d98-9f50-48bd71a6186f",
   "metadata": {},
   "outputs": [
    {
     "name": "stdout",
     "output_type": "stream",
     "text": [
      "65 66 67 90\n",
      "97 98 99 122\n",
      "48 49 50 57\n",
      "47 43 32\n",
      "a b c\n"
     ]
    }
   ],
   "source": [
    "#ch2-7\n",
    "print(ord('A'),ord('B'),ord('C'),ord('Z')) #A,B,C的Unicode编码分别为65,66和67\n",
    "print(ord('a'),ord('b'),ord('c'),ord('z')) #a,b,c的Unicode编码分别为97,98和99\n",
    "print(ord('0'),ord('1'),ord('2'),ord('9')) #数字0,1,2的Unicode编码分别为48,49,50和57\n",
    "print(ord('/'),ord('+'),ord(' ')) #字符/,+,空格的Unicode编码分别为47,43和32\n",
    "print(chr(97),chr(98),chr(99)) #Unicode编码为97,98和99的字符分别是a,b和c"
   ]
  },
  {
   "cell_type": "code",
   "execution_count": 52,
   "id": "b3b0a937",
   "metadata": {},
   "outputs": [
    {
     "name": "stdout",
     "output_type": "stream",
     "text": [
      "请输入明文：A\n",
      "对应的密文为： D\n"
     ]
    }
   ],
   "source": [
    "#ch2-8 凯撒密码\n",
    "plaintext = input('请输入明文：')\n",
    "ciphertext = chr(ord('A')+(ord(plaintext)-ord('A')+ 3) % 26)\n",
    "print('对应的密文为：', ciphertext)"
   ]
  },
  {
   "cell_type": "code",
   "execution_count": 58,
   "id": "d461560c-c373-4b1a-a22f-cd912f548c64",
   "metadata": {},
   "outputs": [
    {
     "name": "stdout",
     "output_type": "stream",
     "text": [
      "9\n",
      "40\n",
      "9\n",
      "40\n",
      "3\n",
      "False\n",
      "True\n"
     ]
    }
   ],
   "source": [
    "#ch2-9\n",
    "s = \"I am a professor of information systems of SUFE\"\n",
    "print(s.find('of')) #结果为9\n",
    "print(s.rfind('of')) #结果为40\n",
    "print(s.index('of')) #结果为9\n",
    "print(s.rindex('of')) #结果为40\n",
    "print(s.count('of')) #结果为3\n",
    "print(s.startswith(\"I an\")) # 检测字符串是否以‘I an’开始，输出结果False\n",
    "print(s.endswith(\"SUFE\")) # 检测字符串是否以‘SUFE’结束，输出结果True"
   ]
  },
  {
   "cell_type": "code",
   "execution_count": 75,
   "id": "c17fdeb7",
   "metadata": {},
   "outputs": [
    {
     "name": "stdout",
     "output_type": "stream",
     "text": [
      "True\n",
      "True\n",
      "True\n",
      "Heis10yearsold\n",
      "False True\n",
      "False False\n"
     ]
    }
   ],
   "source": [
    "#ch2-10\n",
    "s = 'years'\n",
    "print(s.islower()) # 判断字符串是否为全小写，返回True\n",
    "s = 'YEARS'\n",
    "print(s.isupper()) # 判断字符串是否为全大写，返回True\n",
    "s = '20241122'\n",
    "print(s.isdigit()) # 判断字符串是否为全数字，返回True\n",
    "s = 'He is 10 years old'\n",
    "s1= s.replace(\" \",\"\") # s1为“Heis10yearsold”\n",
    "print(s.isalnum(),s1.isalnum()) # 判断字符串是否为数字或字母组成，返回False和True\n",
    "print(s.isalpha(), s1.isalpha()) # 判断字符串是否为全字母组成，返回False和False"
   ]
  },
  {
   "cell_type": "code",
   "execution_count": 77,
   "id": "56bf9e1f",
   "metadata": {},
   "outputs": [
    {
     "name": "stdout",
     "output_type": "stream",
     "text": [
      "Hollo world!\n",
      "====Hollo world!\n",
      "Hollo world!====\n",
      "I am a student of SUFE\n"
     ]
    }
   ],
   "source": [
    "#ch2-11\n",
    "s = \"====Hollo world!====\"\n",
    "print(s.strip('=')) # Hollo world!\n",
    "print(s.rstrip('=')) # ====Hollo world!\n",
    "print(s.lstrip('=')) # Hollo world!====\n",
    "s = \"I am a professor of SUFE\"\n",
    "s1= s.replace('professor','student')\n",
    "print(s1)  # 输出'I am a student of SUFE'"
   ]
  },
  {
   "cell_type": "code",
   "execution_count": 78,
   "id": "3020e830",
   "metadata": {},
   "outputs": [
    {
     "name": "stdout",
     "output_type": "stream",
     "text": [
      "i am a professor of sufe\n",
      "I AM A PROFESSOR OF SUFE\n",
      "I am a professor of sufe\n",
      "I Am A Professor Of Sufe\n",
      "i AM A PROFESSOR OF sufe\n"
     ]
    }
   ],
   "source": [
    "#ch2-12\n",
    "s = \"I am a professor of SUFE\"\n",
    "print(s.lower()) # 输出 i am a professor of sufe\n",
    "print(s.upper()) # 输出 I AM A PROFESSOR OF SUFE\n",
    "print(s.capitalize()) # 输出 I am a professor of sufe\n",
    "print(s.title()) # 输出 I am a professor of sufe\n",
    "print(s.swapcase()) # 输出 i AM A PROFESSOR OF sufe"
   ]
  },
  {
   "cell_type": "code",
   "execution_count": 79,
   "id": "2798274d",
   "metadata": {},
   "outputs": [
    {
     "name": "stdout",
     "output_type": "stream",
     "text": [
      "=========Hello world!=========\n",
      "Hello world!********\n",
      "********Hello world!\n",
      "00000000Hello world!\n"
     ]
    }
   ],
   "source": [
    "#ch2-13\n",
    "s = 'Hello world!'\n",
    "print(s.center(30,'=')) # 字符串居中对齐，输出宽度为30，不足的以'='填充\n",
    "print(s.ljust(20,'*')) # 字符串居左对齐，输出宽度为20，不足的以'*'填充\n",
    "print(s.rjust(20,'*')) # 字符串居右对齐，输出宽度为20，不足的以'*'填充\n",
    "print(s.zfill(20))  # 输出宽度为20，在字符串左侧以字符'0'填充"
   ]
  },
  {
   "cell_type": "code",
   "execution_count": 95,
   "id": "7b2d6180-9202-4439-bbb3-468a31bd24ad",
   "metadata": {},
   "outputs": [
    {
     "name": "stdout",
     "output_type": "stream",
     "text": [
      "['北京', ' 上海', ' 广州', ' 上海，深圳']\n",
      "['北京', '上海', '广州', '深圳']\n",
      "['北京', '上海', '广州 深圳']\n",
      "['北京 上海', '广州', '深圳']\n",
      "('北京, ', '上海', ', 广州, 上海，深圳')\n",
      "('北京, 上海, 广州, ', '上海', '，深圳')\n",
      "('北京, 上海, 广州, 上海，深圳', '', '')\n",
      "北京:上海:广州:深圳\n",
      "北京-上海-广州-深圳\n"
     ]
    }
   ],
   "source": [
    "#ch2-14 分割与连接\n",
    "city1 = \"北京, 上海, 广州, 上海，深圳\"\n",
    "print(city1.split(\",\")) # 按照‘，’分隔字符串\n",
    "city2 = \"北京 上海 广州 深圳\"  \n",
    "print(city2.split()) # 默认按照空格分隔字符串\n",
    "print(city2.split(maxsplit =2)) #从左开始，最多分隔2次，分出‘北京’和‘上海’\n",
    "print(city2.rsplit(maxsplit =2)) #从右开始，最多分隔2次，分出‘广州’和‘深圳’\n",
    "print(city1.partition('上海')) #按左端第一个‘上海’将字符串分成3个部分\n",
    "print(city1.rpartition('上海')) #按右端第一个‘上海’将字符串分成3个部分\n",
    "print(city1.partition('杭州')) # 分隔符不存在，则返回原字符串和2个空字符串\n",
    "#连接操作\n",
    "city3 = city2.split() # city3是链表数据类型，['北京', '上海', '广州', '深圳']\n",
    "print(':'.join(city3)) # 用‘：’作为连接符，结果为'北京:上海:广州:深圳'\n",
    "print('-'.join(city3)) #用‘-’作为连接符，结果为'北京-上海-广州-深圳'"
   ]
  },
  {
   "cell_type": "code",
   "execution_count": 1,
   "id": "bf11fbdf-53e7-4d98-954a-5f17778eec59",
   "metadata": {},
   "outputs": [
    {
     "name": "stdout",
     "output_type": "stream",
     "text": [
      "False\n",
      "False\n"
     ]
    }
   ],
   "source": [
    "#ch2-15 布尔运算应用于条件判断\n",
    "a = 10\n",
    "b = 20\n",
    "print(a == b)  # 输出False\n",
    "# 布尔运算应用于逻辑运算\n",
    "x = True\n",
    "y = False\n",
    "print(x and y) # 输出 False"
   ]
  },
  {
   "cell_type": "code",
   "execution_count": 99,
   "id": "2fb2ee08",
   "metadata": {},
   "outputs": [],
   "source": [
    "# 数字类型的混合运算\n",
    "result1 = 5 + 2.0  # 自动将整数转换为浮点数进行运算\n",
    "result2 = 10 / 2  # 除法运算会自动将结果转换为浮点数\n",
    "# 字符串类型的混合运算\n",
    "text1 = 'Hello'\n",
    "text2 = 'World'\n",
    "combined_text = text1 + ' ' + text2  # 字符串可以通过加号连接\n",
    "# 类型转换示例\n",
    "num_string = '10'\n",
    "num_integer = int(num_string)  # 将字符串转换为整数10\n",
    "num_float = float(num_integer)  # 将整数转换为浮点数10.0\n",
    "num_string_again = str(num_float)  # 将浮点数转换回字符串"
   ]
  },
  {
   "cell_type": "code",
   "execution_count": 59,
   "id": "6be77e12-4d7c-4f75-a973-c405740de095",
   "metadata": {},
   "outputs": [
    {
     "name": "stdout",
     "output_type": "stream",
     "text": [
      "我是信息管理与工程学院信息管理专业的学生。\n",
      "我是信息管理与工程学院信息管理专业的学生郑砺。\n"
     ]
    }
   ],
   "source": [
    "#ch2-16\n",
    "print(\"我是{}学院{}专业的学生。\".format(\"信息管理与工程\",\"信息管理\"))\n",
    "print(\"我是{1}学院{2}专业的学生{0}。\".format(\"郑砺\",\"信息管理与工程\",\"信息管理\"))"
   ]
  },
  {
   "cell_type": "code",
   "execution_count": 101,
   "id": "c0244905-d09b-4e81-9cdf-bac1278bc7b2",
   "metadata": {},
   "outputs": [
    {
     "name": "stdout",
     "output_type": "stream",
     "text": [
      "****Hollo world!****\n",
      "Hollo world!========\n"
     ]
    }
   ],
   "source": [
    "#ch2-17 format()函数格式化字符串\n",
    "print(\"{:*^20}\".format(\"Hollo world!\"))\n",
    "print(\"{:=<20}\".format(\"Hollo world!\"))"
   ]
  },
  {
   "cell_type": "code",
   "execution_count": 102,
   "id": "42cdf85f-a87a-4508-9a76-ee91628cfcf6",
   "metadata": {},
   "outputs": [
    {
     "name": "stdout",
     "output_type": "stream",
     "text": [
      "3.14\n",
      "============3.1416============\n",
      "   24\n",
      "xxx24\n"
     ]
    }
   ],
   "source": [
    "#ch2-18 format()函数设置格式\n",
    "print(\"{:.2f}\".format(3.1415926))\n",
    "print(\"{:=^30.4f}\".format(3.141592))\n",
    "print(\"{:5d}\".format(24))\n",
    "print(\"{:x>5d}\".format(24))"
   ]
  },
  {
   "cell_type": "code",
   "execution_count": 106,
   "id": "7a168a9d",
   "metadata": {},
   "outputs": [
    {
     "name": "stdout",
     "output_type": "stream",
     "text": [
      "please input your name:daqing\n",
      "please input your monthly salary:1000\n",
      "please input your name and age, separated by spaces:daqing 1000\n",
      "you name is daqing and you age is 1000\n"
     ]
    }
   ],
   "source": [
    "name = input('please input your name:')\n",
    "salary = float(input('please input your monthly salary:'))\n",
    "# 从单个输入中同时获取两个数据\n",
    "name, age = input('please input your name and age, separated by spaces:').split()\n",
    "print('you name is', name, 'and you age is', age)"
   ]
  },
  {
   "cell_type": "code",
   "execution_count": 108,
   "id": "27f1e9e0-4cf2-455e-aabd-3f3e96b1870a",
   "metadata": {},
   "outputs": [
    {
     "name": "stdout",
     "output_type": "stream",
     "text": [
      "The salary of Alice is 5000.\n",
      "The salary of Alice is 5000 yuan.\n",
      "0053.14\n"
     ]
    }
   ],
   "source": [
    "#ch2-19\n",
    "name = 'Alice'\n",
    "salary = 5000\n",
    "# 通过str.format()来对结果进行格式化，它使用大括号’{}’作为占位符\n",
    "print(\"The salary of {} is {}.\".format(name, salary))\n",
    "# 在字符串前添加f来完成格式化字符串字面量\n",
    "print(f\"The salary of {name} is {salary} yuan.\")\n",
    "# 在大括号中指定不同格式化选项\n",
    "print(\"{:0>3d}\".format(5), end='')  # 输出005，并且不换行\n",
    "print(\"{:.2f}\".format(3.14159))  # 3.14"
   ]
  },
  {
   "cell_type": "code",
   "execution_count": null,
   "id": "1c382289",
   "metadata": {},
   "outputs": [],
   "source": []
  }
 ],
 "metadata": {
  "kernelspec": {
   "display_name": "Python 3 (ipykernel)",
   "language": "python",
   "name": "python3"
  },
  "language_info": {
   "codemirror_mode": {
    "name": "ipython",
    "version": 3
   },
   "file_extension": ".py",
   "mimetype": "text/x-python",
   "name": "python",
   "nbconvert_exporter": "python",
   "pygments_lexer": "ipython3",
   "version": "3.11.7"
  }
 },
 "nbformat": 4,
 "nbformat_minor": 5
}
